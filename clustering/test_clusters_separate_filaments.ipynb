{
 "cells": [
  {
   "cell_type": "markdown",
   "id": "f0b4afff-abb9-40ba-bed1-dce340868940",
   "metadata": {},
   "source": [
    "# Separate the filaments in N2Hp and HC3N\n",
    "\n",
    "We know that the filament forks from south to north. Then, we know that there are two components that overlap each other. These correspond to two apparent layers in velocity, as suggested by the KDE of the velocities \n",
    "\n",
    "We will first separate the 1 Gaussian fit into the two sides of the filament. After testing DBSCAN, KMEANS, and HDBSCAN, DBSCAN gives the best results"
   ]
  },
  {
   "cell_type": "code",
   "execution_count": 1,
   "id": "49cbc1be-50f7-42fd-94c1-d339fac51d1e",
   "metadata": {},
   "outputs": [],
   "source": [
    "import numpy as np\n",
    "import pandas as pd\n",
    "import astropy.units as u\n",
    "from astropy.io import fits\n",
    "from astropy.wcs import WCS\n",
    "import os\n",
    "import sys\n",
    "sys.path.append('../')\n",
    "from setup import *\n",
    "import warnings\n",
    "import matplotlib.pyplot as plt\n",
    "import matplotlib.cm as cm\n",
    "import matplotlib.colors\n",
    "import matplotlib.gridspec as gridspec\n",
    "import seaborn as sns\n",
    "%matplotlib widget\n",
    "\n",
    "from sklearn.cluster import KMeans, DBSCAN, HDBSCAN, OPTICS, cluster_optics_dbscan\n",
    "from sklearn.neighbors import NearestNeighbors\n",
    "from sklearn.preprocessing import StandardScaler\n",
    "from sklearn.manifold import TSNE\n",
    "\n",
    "import hdbscan # I want to test this one that has more complete functions\n",
    "\n",
    "from tqdm.notebook import tqdm\n",
    "seed = 42\n",
    "\n",
    "run_DBSCAN = False\n",
    "run_manual = False\n",
    "run_HDBSCAN = True\n",
    "run_OPTICS = False"
   ]
  },
  {
   "cell_type": "code",
   "execution_count": 2,
   "id": "739d765a-f26c-47b8-9e95-a63e9b4b3c73",
   "metadata": {},
   "outputs": [
    {
     "name": "stdout",
     "output_type": "stream",
     "text": [
      "We have  94864 points for N2Hp\n",
      "We have  56771 points for HC3N\n"
     ]
    }
   ],
   "source": [
    "# we first load our table of features\n",
    "mol1 = 'N2Hp' # remember to do the bayes fitting for all hyperfine components\n",
    "mol1_as_features_file = bayesfolder + 'nested-sampling/{0}/{0}_feature_table_bayes_QA.csv'.format(mol1)\n",
    "mol1label = r'N$_2$H$^+$'\n",
    "ncomp1 = 2\n",
    "ncompfilebayes_mol1 = bayesfolder + 'nested-sampling/{}/npeaks_cut5_noislands_QA.fits'.format(mol1)\n",
    "\n",
    "ds_mol1_feats = pd.read_csv(mol1_as_features_file)\n",
    "ds_mol1_feats.rename(columns={'Unnamed: 0':'Index_original'}, inplace = True)\n",
    "print('We have ', np.shape(ds_mol1_feats)[0], 'points for {}'.format(mol1))\n",
    "\n",
    "mol2 = 'HC3N' \n",
    "mol2_as_features_file = bayesfolder + 'nested-sampling/{0}/{0}_feature_table_bayes_QA.csv'.format(mol2)\n",
    "mol2label = r'HC$_3$N'\n",
    "ncomp2 = 3\n",
    "ncompfilebayes_mol2 = bayesfolder + 'nested-sampling/{}/npeaks_cut5_noislands_QA.fits'.format(mol2)\n",
    "\n",
    "ds_mol2_feats = pd.read_csv(mol2_as_features_file)\n",
    "ds_mol2_feats.rename(columns={'Unnamed: 0':'Index_original'}, inplace = True)\n",
    "print('We have ', np.shape(ds_mol2_feats)[0], 'points for {}'.format(mol2))"
   ]
  },
  {
   "cell_type": "code",
   "execution_count": 3,
   "id": "202065a5-e98e-46b7-be9b-abb6abdcf871",
   "metadata": {
    "tags": []
   },
   "outputs": [
    {
     "name": "stdout",
     "output_type": "stream",
     "text": [
      "We have  91799 points for N2Hpafter filtering error in sigma\n",
      "We have  91799 points for N2Hpafter filtering error in velocity\n",
      "We have  91649 points for N2Hpafter filtering error in velocity\n"
     ]
    }
   ],
   "source": [
    "## lets do an extra filtering of N2Hp just in case\n",
    "ds_mol1_feats = ds_mol1_feats.query('e_sigma_v/sigma_v < 0.5')\n",
    "print('We have ', np.shape(ds_mol1_feats)[0], 'points for {}'.format(mol1) + 'after filtering error in sigma')\n",
    "ds_mol1_feats = ds_mol1_feats.query('e_vlsr/vlsr < 0.5')\n",
    "print('We have ', np.shape(ds_mol1_feats)[0], 'points for {}'.format(mol1) + 'after filtering error in velocity')\n",
    "ds_mol1_feats = ds_mol1_feats.query('e_amplitude/amplitude < 0.5')\n",
    "print('We have ', np.shape(ds_mol1_feats)[0], 'points for {}'.format(mol1) + 'after filtering error in velocity')\n",
    "\n",
    "if not os.path.exists(mol1_as_features_file[:-4] + '_pandasQA.csv'): ds_mol1_feats.to_csv(mol1_as_features_file[:-4] + '_pandasQA.csv')\n",
    "# we need to take the outflow enhanced pixels by hand"
   ]
  },
  {
   "cell_type": "code",
   "execution_count": 3,
   "id": "d0f62675-5a66-4ce8-89ad-e3e0f18a16fe",
   "metadata": {
    "tags": []
   },
   "outputs": [
    {
     "name": "stdout",
     "output_type": "stream",
     "text": [
      "We have  53846 points for HC3Nafter filtering error in sigma\n",
      "We have  53846 points for HC3Nafter filtering error in velocity\n",
      "We have  53824 points for HC3Nafter filtering error in velocity\n",
      "We have  52019 points for HC3Nafter filtering velocity and sigma of outflows\n",
      "We have  52019 points for HC3N\n"
     ]
    }
   ],
   "source": [
    "# for HC3N we will need to take out the points consisting on outflow\n",
    "# we do an extra quality assessment to filter out components with high error\n",
    "# its much easier doing this in pandas\n",
    "\n",
    "ds_mol2_feats = ds_mol2_feats.query('e_sigma_v/sigma_v < 0.5')\n",
    "print('We have ', np.shape(ds_mol2_feats)[0], 'points for {}'.format(mol2) + 'after filtering error in sigma')\n",
    "ds_mol2_feats = ds_mol2_feats.query('e_vlsr/vlsr < 0.5')\n",
    "print('We have ', np.shape(ds_mol2_feats)[0], 'points for {}'.format(mol2) + 'after filtering error in velocity')\n",
    "ds_mol2_feats = ds_mol2_feats.query('e_amplitude/amplitude < 0.5')\n",
    "print('We have ', np.shape(ds_mol2_feats)[0], 'points for {}'.format(mol2) + 'after filtering error in velocity')\n",
    "\n",
    "if not os.path.exists(mol1_as_features_file[:-4] + '_pandasQA.csv'): ds_mol1_feats.to_csv(mol2_as_features_file[:-4] + '_pandasQA.csv')\n",
    "# we need to take the outflow enhanced pixels by hand\n",
    "ds_mol2_feats = ds_mol2_feats.query('vlsr < 9')\n",
    "ds_mol2_feats = ds_mol2_feats.query('vlsr > 5')\n",
    "ds_mol2_feats = ds_mol2_feats.query('sigma_v < 1')\n",
    "print('We have ', np.shape(ds_mol2_feats)[0], 'points for {}'.format(mol2) + 'after filtering velocity and sigma of outflows')\n",
    "\n",
    "print('We have ', np.shape(ds_mol2_feats)[0], 'points for {}'.format(mol2))\n"
   ]
  },
  {
   "cell_type": "code",
   "execution_count": 4,
   "id": "44a53192-0f5c-492d-b65c-ae49d2d608d3",
   "metadata": {},
   "outputs": [],
   "source": [
    "# we select which columns we want to separate by\n",
    "ds_cluster1_mol1 = ds_mol1_feats[['x_pix', 'y_pix', 'amplitude', 'vlsr', 'sigma_v']]\n",
    "ds_cluster2_mol1 = ds_mol1_feats[['x_pix', 'y_pix', 'vlsr']]\n",
    "ds_cluster3_mol1 = ds_mol1_feats[['x_pix', 'y_pix', 'vlsr', 'sigma_v']]\n",
    "\n",
    "ds_cluster1_mol2 = ds_mol2_feats[['x_pix', 'y_pix', 'amplitude', 'vlsr', 'sigma_v']]\n",
    "ds_cluster2_mol2 = ds_mol2_feats[['x_pix', 'y_pix', 'vlsr']]\n",
    "ds_cluster3_mol2 = ds_mol2_feats[['x_pix', 'y_pix', 'vlsr', 'sigma_v']]\n",
    "ds_cluster4_mol2 = ds_mol2_feats[['x_pix', 'y_pix', 'sigma_v']]"
   ]
  },
  {
   "cell_type": "code",
   "execution_count": 5,
   "id": "ea25c2d3-1f5e-4060-a362-230d7b8138c4",
   "metadata": {},
   "outputs": [],
   "source": [
    "# we scale the features so that they are comparable\n",
    "scaler1_mol1 = StandardScaler()\n",
    "X1_mol1 = scaler1_mol1.fit_transform(ds_cluster1_mol1)\n",
    "scaler2_mol1 = StandardScaler()\n",
    "X2_mol1 = scaler2_mol1.fit_transform(ds_cluster2_mol1)\n",
    "X2_mol1_weighted = X2_mol1 * np.array([0.25, 0.25, 0.5]) # we give more weight to velocity\n",
    "scaler3_mol1 = StandardScaler()\n",
    "X3_mol1 = scaler3_mol1.fit_transform(ds_cluster3_mol1)\n",
    "\n",
    "\n",
    "scaler1_mol2 = StandardScaler()\n",
    "X1_mol2 = scaler1_mol2.fit_transform(ds_cluster1_mol2)\n",
    "scaler2_mol2 = StandardScaler()\n",
    "X2_mol2 = scaler2_mol2.fit_transform(ds_cluster2_mol2)\n",
    "X2_mol2_weight = X2_mol2 * np.array([0.25, 0.25, 0.5])\n",
    "scaler3_mol2 = StandardScaler()\n",
    "X3_mol2 = scaler3_mol2.fit_transform(ds_cluster3_mol2)\n",
    "scaler4_mol2 = StandardScaler()\n",
    "X4_mol2 = scaler4_mol2.fit_transform(ds_cluster4_mol2)"
   ]
  },
  {
   "cell_type": "code",
   "execution_count": 6,
   "id": "4c134eed-6a38-460a-91d3-a4245067e03e",
   "metadata": {
    "tags": []
   },
   "outputs": [
    {
     "data": {
      "text/plain": [
       "(52019, 5)"
      ]
     },
     "execution_count": 6,
     "metadata": {},
     "output_type": "execute_result"
    }
   ],
   "source": [
    "np.shape(ds_cluster1_mol2.values)\n"
   ]
  },
  {
   "cell_type": "code",
   "execution_count": 7,
   "id": "289c62f4-ea66-40ee-a037-6772521754f5",
   "metadata": {
    "tags": []
   },
   "outputs": [
    {
     "data": {
      "text/plain": [
       "[<matplotlib.axis.XTick at 0x7f90e4eb1b20>,\n",
       " <matplotlib.axis.XTick at 0x7f90e4eb1fd0>,\n",
       " <matplotlib.axis.XTick at 0x7f90e4eb1af0>,\n",
       " <matplotlib.axis.XTick at 0x7f90e45fa520>,\n",
       " <matplotlib.axis.XTick at 0x7f90e45fad00>]"
      ]
     },
     "execution_count": 7,
     "metadata": {},
     "output_type": "execute_result"
    },
    {
     "data": {
      "application/vnd.jupyter.widget-view+json": {
       "model_id": "1881bcc71fd94d788ced211835f14cf6",
       "version_major": 2,
       "version_minor": 0
      },
      "image/png": "[encoded data removed]",
      "text/html": [
       "\n",
       "            <div style=\"display: inline-block;\">\n",
       "                <div class=\"jupyter-widgets widget-label\" style=\"text-align: center;\">\n",
       "                    Figure\n",
       "                </div>\n",
       "                <img src='data:image/png;base64,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' width=640.0/>\n",
       "            </div>\n",
       "        "
      ],
      "text/plain": [
       "Canvas(toolbar=Toolbar(toolitems=[('Home', 'Reset original view', 'home', 'home'), ('Back', 'Back to previous …"
      ]
     },
     "metadata": {},
     "output_type": "display_data"
    }
   ],
   "source": [
    "### after we scale, we can look at the ranges with the violin plot for HC3N\n",
    "\n",
    "fig = plt.figure()\n",
    "ax = fig.add_subplot(111)\n",
    "\n",
    "ax.violinplot(dataset=[X1_mol2.T[0], X1_mol2.T[1], X1_mol2.T[2],X1_mol2.T[3], X1_mol2.T[4]], showmeans=False, showmedians=True)\n",
    "ax.set_xticks([1, 2, 3, 4, 5], labels=['x', 'y', 'T', 'v', 'sigma'])\n",
    "# ax.set_xticks([y + 1 for y in range(len(X1_mol2))], labels=['x']) #, 'y', 'T', 'v', 'sigma'"
   ]
  },
  {
   "cell_type": "markdown",
   "id": "bfacb5a2-5a45-4515-8e20-8bd0dde09f38",
   "metadata": {
    "tags": []
   },
   "source": [
    "## DBSCAN"
   ]
  },
  {
   "cell_type": "code",
   "execution_count": null,
   "id": "00b0ee65-83cc-481d-b046-f1d626474166",
   "metadata": {},
   "outputs": [],
   "source": [
    "if run_DBSCAN: \n",
    "    min_samples_mol1 = 1000\n",
    "    min_samples_mol2 = 250"
   ]
  },
  {
   "cell_type": "code",
   "execution_count": null,
   "id": "aa21c070-6645-4600-b0dd-09350c84ec47",
   "metadata": {},
   "outputs": [],
   "source": [
    "# if run_DBSCAN:\n",
    "#     # average distance between each point and its k nearest neighbors\n",
    "#     neighbors_mol1 = NearestNeighbors(n_neighbors=min_samples_mol1, algorithm='kd_tree')\n",
    "#     neighbors_mol1.fit(X2_mol1)\n",
    "#     distances_mol1, indices_mol1 = neighbors_mol1.kneighbors(X2_mol1)\n",
    "#     distances_mol1 = np.sort(distances_mol1, axis=0)\n",
    "#     distances_mol1 = distances_mol1[:,1]\n",
    "    \n",
    "#     neighbors_mol2 = NearestNeighbors(n_neighbors=min_samples_mol2, algorithm='kd_tree')\n",
    "#     neighbors_mol2.fit(X2_mol2)\n",
    "#     distances_mol2, indices_mol2 = neighbors_mol2.kneighbors(X2_mol2)\n",
    "#     distances_mol2 = np.sort(distances_mol2, axis=0)\n",
    "#     distances_mol2 = distances_mol2[:,1]"
   ]
  },
  {
   "cell_type": "code",
   "execution_count": null,
   "id": "150c1ba7-e714-457f-aab0-932033564014",
   "metadata": {},
   "outputs": [],
   "source": [
    "# if run_DBSCAN:\n",
    "#     fig, [ax1, ax2] = plt.subplots(ncols=2,figsize=(6,4))\n",
    "#     ax1.plot(distances_mol1)\n",
    "#     ax1.set_xlabel('Points sorted by k-distance for {}'.format(mol1label))\n",
    "#     ax1.set_ylabel('Average distance to k='+str(min_samples_mol1)+' nearest neighbors')\n",
    "    \n",
    "#     ax2.plot(distances_mol2)\n",
    "#     ax2.set_xlabel('Points sorted by k-distance for {}'.format(mol2label))\n",
    "#     ax2.set_ylabel('Average distance to k='+str(min_samples_mol2)+' nearest neighbors')"
   ]
  },
  {
   "cell_type": "markdown",
   "id": "acd154fd-b465-461a-bfce-5283771aab3f",
   "metadata": {},
   "source": [
    "We found a good set of parameters for DBSCAN N2Hp: epsilon = 0.35, minsamples = 1000, gives 3 groups and noise looks reasonable. With this, the fork belongs to neither of the main groups. "
   ]
  },
  {
   "cell_type": "code",
   "execution_count": null,
   "id": "b3ef77c8-b14f-4b22-a479-0d869b73fad2",
   "metadata": {},
   "outputs": [],
   "source": [
    "if run_DBSCAN:\n",
    "    db = DBSCAN(eps=0.352, min_samples=min_samples_mol1)\n",
    "    \n",
    "    db.fit(X2_mol1)\n",
    "    labels = db.labels_\n",
    "    ds_mol1_feats['labels_dbscan'] = labels\n",
    "    ds_cluster2_mol1['labels_dbscan'] = labels\n",
    "    n_clusters_ = len(set(labels)) - (1 if -1 in labels else 0)\n",
    "    n_noise_ = list(labels).count(-1)\n",
    "\n",
    "    print(\"Estimated number of clusters: %d\" % n_clusters_)\n",
    "    print(\"Estimated number of noise points: %d\" % n_noise_)\n",
    "    print(\"Total number of points: %d\" % len(labels))\n",
    "    # unique_labels = set(labels)"
   ]
  },
  {
   "cell_type": "code",
   "execution_count": null,
   "id": "4863a3e8-b27f-485a-b05f-ed63abc8f201",
   "metadata": {},
   "outputs": [],
   "source": [
    "if run_DBSCAN:\n",
    "    unique_labels = set(labels)\n",
    "    colors = [plt.cm.tab10(each) for each in np.linspace(0, 1, len(unique_labels))]\n",
    "\n",
    "    fig = plt.figure(figsize=(8,8))\n",
    "    ax = fig.add_subplot(111, projection='3d')\n",
    "    ax.set_xlabel('RA (pix)')\n",
    "    ax.set_ylabel('DEC (pix)')\n",
    "    ax.set_zlabel(r'v$_{lsr}$ (km s$^{-1}$)')\n",
    "\n",
    "    for k, col in zip(unique_labels, colors):\n",
    "        if k == -1:\n",
    "            # Black used for noise.\n",
    "            col = [0, 0, 0, 1]\n",
    "            # continue\n",
    "        class_member_mask = labels == k\n",
    "        if k==0: continue\n",
    "\n",
    "        xy = scaler2_mol1.inverse_transform(X2_mol1[class_member_mask])\n",
    "        ax.scatter(xy[:,0], xy[:,1], xy[:,2], s=4, color=col, alpha=0.2, label=k)\n",
    "    # ax.scatter(ra_yso_pix, dec_yso_pix, vlsr_yso, s=50, color='r')\n",
    "    ax.legend()"
   ]
  },
  {
   "cell_type": "markdown",
   "id": "20764fe8-ffd1-43d7-b092-35c10e6443cb",
   "metadata": {},
   "source": [
    "We know now that DBSCAN works best for N2Hp, now what we will do is check how many points are left as noise and if it is possible to cluster them. \n",
    "\n",
    "We first check how many components there are in each group"
   ]
  },
  {
   "cell_type": "code",
   "execution_count": null,
   "id": "e8414ff5-fd02-4b87-9788-758c2abe1512",
   "metadata": {},
   "outputs": [],
   "source": [
    "if run_DBSCAN:\n",
    "\n",
    "    clump0_mol1 = ds_mol1_feats[ds_cluster2_mol1['labels_dbscan']==0]\n",
    "    clump1_mol1 = ds_mol1_feats[ds_cluster2_mol1['labels_dbscan']==1]\n",
    "    rad_assign = 5\n",
    "    vel_average = np.nanmean(ds_mol1_feats['vlsr'])\n",
    "    tmb_average = np.nanmean(ds_mol1_feats['amplitude'])"
   ]
  },
  {
   "cell_type": "markdown",
   "id": "ec0fffad-5f5c-426e-9554-f5db98765de3",
   "metadata": {},
   "source": [
    "Only by plotting we can see that there are some spots that have 2 components in the same group. We will filter these out using Spandan's algorithm."
   ]
  },
  {
   "cell_type": "code",
   "execution_count": null,
   "id": "ea58b979-d36f-479b-b1d2-00cf0343827c",
   "metadata": {
    "tags": []
   },
   "outputs": [],
   "source": [
    "def dist_ar(xc=None, yc=None):\n",
    "    \"\"\"\n",
    "    returns a 2D array with distance to each pixel from a custom centre pixel, (xc, yc)\n",
    "    \"\"\"\n",
    "    d_ar = np.zeros(npeaks_map.shape)\n",
    "    for i in range(d_ar.shape[0]):\n",
    "        for j in range(d_ar.shape[1]):\n",
    "            d_ar[i,j] = np.hypot(xc - j, yc - i)\n",
    "        \n",
    "    return d_ar\n",
    "\n",
    "def para_dist(v1=None, v2=None, tmb1=None, tmb2=None, vel_norm=0.3, tmb_norm=3, w_vel=0.5):\n",
    "    \"\"\"\n",
    "    returns normalised combined 'distance' in velocity and T_MB\n",
    "    \n",
    "    v1, v2 : velocities of the two pixels\n",
    "    tmb1, tmb2 : main beam brightness temperatures of the two pixels\n",
    "    \n",
    "    vel_norm : normalisation factor for difference in velocities\n",
    "    tmb_norm : normalisation factor for difference in T_MB\n",
    "    \n",
    "    w_vel : weight for velocity 'distance'. T_MB diff gets weight (1-w)\n",
    "\n",
    "    \"\"\"\n",
    "    \n",
    "    vl_dist = np.abs((v1 - v2) / vel_norm)\n",
    "    tmb_dist = np.abs((tmb1 - tmb2) / tmb_norm)\n",
    "    \n",
    "    dist = np.hypot(vl_dist*w_vel, (1-w_vel)*tmb_dist)\n",
    "    return dist\n"
   ]
  },
  {
   "cell_type": "code",
   "execution_count": null,
   "id": "52002e99-3955-41aa-96a2-6cf498ce3f62",
   "metadata": {
    "tags": []
   },
   "outputs": [],
   "source": [
    "if run_DBSCAN:\n",
    "    for i in tqdm(clump0_mol1.index.values): # we check all the array\n",
    "        try:\n",
    "            cx, cy = clump0_mol1.loc[i, 'x_pix'], clump0_mol1.loc[i, 'y_pix']\n",
    "        except KeyError:\n",
    "            continue # found a value that was repeated and that its not there anymore\n",
    "        query = clump0_mol1.query('x_pix=={0} & y_pix=={1}'.format(cx, cy))\n",
    "        if len(query) > 1:\n",
    "            index0, index1 = query.index.values\n",
    "            vel1 = query.loc[index0, 'vlsr']\n",
    "            tmb1 = query.loc[index0, 'amplitude']\n",
    "            vel2 = query.loc[index1, 'vlsr']\n",
    "            tmb2 = query.loc[index1, 'amplitude']\n",
    "            rad_sample = clump0_mol1.query('x_pix>{0} & y_pix>{1} & x_pix<{2} & y_pix<{3}'.format(\n",
    "                cx-rad_assign, cy-rad_assign, cx+rad_assign, cy+rad_assign))\n",
    "            rad_sample.drop([index0, index1])\n",
    "            vel_mean = np.mean(rad_sample['vlsr'])\n",
    "            t_mean = np.mean(rad_sample['amplitude'])\n",
    "            distances = para_dist(v1=np.array([vel1, vel2]), v2=vel_mean, tmb1=np.array([tmb1, tmb2]),\n",
    "                                    tmb2=t_mean, vel_norm=vel_average, tmb_norm=tmb_average)\n",
    "            if np.argmin(distances) == 0:\n",
    "                index = query.loc[index1, 'Index_original']\n",
    "                index2 = clump0_mol1.query('x_pix=={0} & y_pix=={1} & vlsr=={2}'.format(cx, cy, vel2)).index.values[0]\n",
    "                ds_mol1_feats.loc[index, 'labels_dbscan'] = -1\n",
    "                clump0_mol1 = clump0_mol1.drop([index2])\n",
    "            elif np.argmin(distances) == 1:\n",
    "                index = query.loc[index0, 'Index_original']\n",
    "                index2 = clump0_mol1.query('x_pix=={0} & y_pix=={1} & vlsr=={2}'.format(cx, cy, vel1)).index.values[0]\n",
    "                ds_mol1_feats.loc[index, 'labels_dbscan'] = -1\n",
    "                clump0_mol1 = clump0_mol1.drop([index2])"
   ]
  },
  {
   "cell_type": "code",
   "execution_count": null,
   "id": "374f0236-1788-4254-a7c3-4b92c052929f",
   "metadata": {
    "tags": []
   },
   "outputs": [],
   "source": [
    "if run_DBSCAN:\n",
    "    for i in tqdm(clump1_mol1.index.values): # we check all the array\n",
    "        try:\n",
    "            cx, cy = clump1_mol1.loc[i, 'x_pix'], clump1_mol1.loc[i, 'y_pix']\n",
    "        except KeyError:\n",
    "            continue # found a value that was repeated and that its not there anymore\n",
    "\n",
    "        query = clump1_mol1.query('x_pix=={0} & y_pix=={1}'.format(cx, cy))\n",
    "        if len(query) > 1:\n",
    "            index0, index1 = query.index.values\n",
    "            vel1 = query.loc[index0, 'vlsr']\n",
    "            tmb1 = query.loc[index0, 'amplitude']\n",
    "            vel2 = query.loc[index1, 'vlsr']\n",
    "            tmb2 = query.loc[index1, 'amplitude']\n",
    "            rad_sample = clump1_mol1.query('x_pix>{0} & y_pix>{1} & x_pix<{2} & y_pix<{3}'.format(\n",
    "                cx-rad_assign, cy-rad_assign, cx+rad_assign, cy+rad_assign))\n",
    "            rad_sample.drop([index0, index1])\n",
    "            vel_mean = np.mean(rad_sample['vlsr'])\n",
    "            t_mean = np.mean(rad_sample['amplitude'])\n",
    "            distances = para_dist(v1=np.array([vel1, vel2]), v2=vel_mean, tmb1=np.array([tmb1, tmb2]),\n",
    "                                    tmb2=t_mean, vel_norm=vel_average, tmb_norm=tmb_average)\n",
    "            if np.argmin(distances) == 0:\n",
    "                index = query.loc[index1, 'Index_original']\n",
    "                index2 = clump1_mol1.query('x_pix=={0} & y_pix=={1} & vlsr=={2}'.format(cx, cy, vel2)).index.values[0]\n",
    "                ds_mol1_feats.loc[index, 'labels_dbscan'] = -1\n",
    "                clump1_mol1 = clump1_mol1.drop([index2])\n",
    "            elif np.argmin(distances) == 1:\n",
    "                index = query.loc[index0, 'Index_original']\n",
    "                index2 = clump1_mol1.query('x_pix=={0} & y_pix=={1} & vlsr=={2}'.format(cx, cy, vel1)).index.values[0]\n",
    "                ds_mol1_feats.loc[index, 'labels_dbscan'] = -1\n",
    "                clump1_mol1 = clump1_mol1.drop([index2])"
   ]
  },
  {
   "cell_type": "markdown",
   "id": "ee0abdb2-d1d2-4e49-ac94-cd1a156b41fe",
   "metadata": {},
   "source": [
    "Just for now, we will save these groups. What we are missing is to check the noise points to not lose information."
   ]
  },
  {
   "cell_type": "code",
   "execution_count": null,
   "id": "59dcd14f-8a1b-4707-9a09-f61fc83e02d7",
   "metadata": {
    "tags": []
   },
   "outputs": [],
   "source": [
    "if run_DBSCAN:\n",
    "    # we would now like to build some preliminary images\n",
    "    cubefile_mol1 = '../bayes_frame/nested-sampling/{0}/NGC1333-SE-mle-x1_filtered_QA.fits'.format(mol1)\n",
    "    cubefile_clump0 = 'cluster0_DBSCAN_{}.fits'.format(mol1)\n",
    "\n",
    "    header_components_mol1 = fits.getheader(cubefile_mol1)\n",
    "    cube_components_mol1 = np.zeros(np.shape(fits.getdata(cubefile_mol1))) * np.nan\n",
    "    print('Saving clump 0')\n",
    "    for i in tqdm(clump0_mol1.index.values):\n",
    "        x = int(clump0_mol1.loc[i, 'x_pix'])\n",
    "        y = int(clump0_mol1.loc[i, 'y_pix'])\n",
    "        cube_components_mol1[0, y, x] = clump0_mol1.loc[i, 'amplitude']\n",
    "        cube_components_mol1[1, y, x] = clump0_mol1.loc[i, 'vlsr']\n",
    "        cube_components_mol1[2, y, x] = clump0_mol1.loc[i, 'sigma_v']\n",
    "        cube_components_mol1[3, y, x] = clump0_mol1.loc[i, 'e_amplitude']\n",
    "        cube_components_mol1[4, y, x] = clump0_mol1.loc[i, 'e_vlsr']\n",
    "        cube_components_mol1[5, y, x] = clump0_mol1.loc[i, 'e_sigma_v']\n",
    "\n",
    "\n",
    "    fits.writeto(cubefile_clump0, cube_components_mol1, header_components_mol1)"
   ]
  },
  {
   "cell_type": "code",
   "execution_count": null,
   "id": "7a58d04a-c1aa-4817-8099-4f6ed8056884",
   "metadata": {
    "tags": []
   },
   "outputs": [],
   "source": [
    "if run_DBSCAN:\n",
    "    cubefile_clump1 = 'cluster1_DBSCAN_{}.fits'.format(mol1)\n",
    "\n",
    "    header_components_mol1 = fits.getheader(cubefile_mol1)\n",
    "    cube1_components_mol1 = np.zeros(np.shape(fits.getdata(cubefile_mol1))) * np.nan\n",
    "    # naxis1 = header_components_mol1['NAXIS1']\n",
    "    # naxis2 = header_components_mol1['NAXIS2']\n",
    "    # naxis3 = header_components_mol1['NAXIS3']\n",
    "\n",
    "    # wcs = WCS(header)\n",
    "    print('Saving clump 1')\n",
    "    for i in tqdm(clump1_mol1.index.values):\n",
    "        x = int(clump1_mol1.loc[i, 'x_pix'])\n",
    "        y = int(clump1_mol1.loc[i, 'y_pix'])\n",
    "        cube1_components_mol1[0, y, x] = clump1_mol1.loc[i, 'amplitude']\n",
    "        cube1_components_mol1[1, y, x] = clump1_mol1.loc[i, 'vlsr']\n",
    "        cube1_components_mol1[2, y, x] = clump1_mol1.loc[i, 'sigma_v']\n",
    "        cube1_components_mol1[3, y, x] = clump1_mol1.loc[i, 'e_amplitude']\n",
    "        cube1_components_mol1[4, y, x] = clump1_mol1.loc[i, 'e_vlsr']\n",
    "        cube1_components_mol1[5, y, x] = clump1_mol1.loc[i, 'e_sigma_v']\n",
    "\n",
    "\n",
    "    fits.writeto(cubefile_clump1, cube1_components_mol1, header_components_mol1)"
   ]
  },
  {
   "cell_type": "markdown",
   "id": "2416edb6-3d86-4d53-a642-da91d3a3ce32",
   "metadata": {},
   "source": [
    "All of the above was for N2Hp (molecule 1). Now we do the same for HC3N (molecule 2).\n",
    "\n",
    "Maybe with HC3N an artificial separation at 7.5 km/s can suffice, as it is quite hard to interpret the clusters being obtained.\n",
    "\n",
    "We got good results with epsilon=0.188 and min_samples=250"
   ]
  },
  {
   "cell_type": "code",
   "execution_count": null,
   "id": "e42b45aa-05a9-411e-8c15-5a2a6285dc4a",
   "metadata": {
    "tags": []
   },
   "outputs": [],
   "source": [
    "if run_DBSCAN:\n",
    "    db2 = DBSCAN(eps=0.188, min_samples=min_samples_mol2)\n",
    "    \n",
    "    db2.fit(X2_mol2)\n",
    "    labels = db2.labels_\n",
    "    ds_mol2_feats['labels_dbscan'] = labels\n",
    "    ds_cluster2_mol2['labels_dbscan'] = labels\n",
    "    n_clusters_ = len(set(labels)) - (1 if -1 in labels else 0)\n",
    "    n_noise_ = list(labels).count(-1)\n",
    "\n",
    "    print(\"Estimated number of clusters: %d\" % n_clusters_)\n",
    "    print(\"Estimated number of noise points: %d\" % n_noise_)\n",
    "    print(\"Total number of points: %d\" % len(labels))\n",
    "    # unique_labels = set(labels)"
   ]
  },
  {
   "cell_type": "code",
   "execution_count": null,
   "id": "eb474a63-a0e4-4a82-8e93-2559e4e77297",
   "metadata": {
    "tags": []
   },
   "outputs": [],
   "source": [
    "if run_DBSCAN:\n",
    "    unique_labels = set(labels)\n",
    "    colors = [plt.cm.viridis(each) for each in np.linspace(0, 1, len(unique_labels))]\n",
    "\n",
    "    fig = plt.figure(figsize=(8,8))\n",
    "    ax = fig.add_subplot(111, projection='3d')\n",
    "    ax.set_xlabel('RA (pix)')\n",
    "    ax.set_ylabel('DEC (pix)')\n",
    "    ax.set_zlabel(r'v$_{lsr}$ (km s$^{-1}$)')\n",
    "\n",
    "    for k, col in zip(unique_labels, colors):\n",
    "        if k == -1:\n",
    "            # Black used for noise.\n",
    "            col = [0, 0, 0, 1]\n",
    "            # continue\n",
    "        class_member_mask = labels == k\n",
    "\n",
    "        xy = scaler2_mol2.inverse_transform(X2_mol2[class_member_mask])\n",
    "        ax.scatter(xy[:,0], xy[:,1], xy[:,2], s=4, color=col, alpha=0.2, label=k)\n",
    "    # ax.scatter(ra_yso_pix, dec_yso_pix, vlsr_yso, s=50, color='r')\n",
    "    ax.legend()"
   ]
  },
  {
   "cell_type": "code",
   "execution_count": null,
   "id": "0107771e-bf0b-4346-9dfe-9b53334157cf",
   "metadata": {},
   "outputs": [],
   "source": []
  },
  {
   "cell_type": "markdown",
   "id": "75c1fe55-9ebc-4ced-b068-afaed856fe7a",
   "metadata": {
    "jp-MarkdownHeadingCollapsed": true,
    "tags": []
   },
   "source": [
    "### DBSCAN test with more parameters\n",
    "We know now that with x, y and velocity we can have certain layers, but how does it look like when we include the dispersion?\n",
    "\n",
    "We are interested in this kind of grouping as if the dispersion tends to increase toward SVS13, this could support the idea that the north is affected by a wave coming from a bubble toward the north. However, this test is not relevant to detect diverging flows between the molecules, so only the x, y, vel is relevant to our goal. "
   ]
  },
  {
   "cell_type": "code",
   "execution_count": null,
   "id": "6f061d90-7361-4330-9530-2288b0797513",
   "metadata": {},
   "outputs": [],
   "source": [
    "# if run_DBSCAN: min_samples = 200"
   ]
  },
  {
   "cell_type": "code",
   "execution_count": null,
   "id": "ed607229-6478-425a-b69c-fa67081d1982",
   "metadata": {},
   "outputs": [],
   "source": [
    "# if run_DBSCAN:\n",
    "#     #average distance between each point and its k nearest neighbors\n",
    "#     neighbors = NearestNeighbors(n_neighbors=min_samples, algorithm='kd_tree')\n",
    "#     neighbors.fit(X3)\n",
    "#     distances, indices = neighbors.kneighbors(X3)\n",
    "#     distances = np.sort(distances, axis=0)\n",
    "#     distances = distances[:,1]"
   ]
  },
  {
   "cell_type": "code",
   "execution_count": null,
   "id": "a2a9975d-7871-45f2-9438-ab6dcc37931c",
   "metadata": {},
   "outputs": [],
   "source": [
    "# if run_DBSCAN:\n",
    "#     fig = plt.figure()\n",
    "#     ax = fig.add_subplot(111)\n",
    "#     ax.plot(distances)\n",
    "#     ax.set_xlabel('Points sorted by k-distance for {} neighbors'.format(min_samples))\n",
    "#     ax.set_ylabel('Average distance to k='+str(min_samples)+' nearest neighbors')"
   ]
  },
  {
   "cell_type": "code",
   "execution_count": null,
   "id": "cb1dc07d-2cfd-4016-8d7d-b3dacdb67bd3",
   "metadata": {},
   "outputs": [],
   "source": [
    "# if run_DBSCAN:\n",
    "#     db = DBSCAN(eps=0.25, min_samples=min_samples)\n",
    "    \n",
    "#     db.fit(X3)\n",
    "#     labels = db.labels_\n",
    "#     ds_cluster3['labels_dbscan'] = labels\n",
    "#     n_clusters_ = len(set(labels)) - (1 if -1 in labels else 0)\n",
    "#     n_noise_ = list(labels).count(-1)\n",
    "\n",
    "#     print(\"Estimated number of clusters: %d\" % n_clusters_)\n",
    "#     print(\"Estimated number of noise points: %d\" % n_noise_)\n",
    "#     print(\"Total number of points: %d\" % len(labels))\n",
    "#     # unique_labels = set(labels)"
   ]
  },
  {
   "cell_type": "code",
   "execution_count": null,
   "id": "d64c4c36-db90-4974-b8af-b1fcd006ac0b",
   "metadata": {},
   "outputs": [],
   "source": [
    "# if run_DBSCAN:\n",
    "#     unique_labels = set(labels)\n",
    "#     colors = [plt.cm.inferno(each) for each in np.linspace(0, 1, len(unique_labels))]\n",
    "\n",
    "#     fig = plt.figure(figsize=(8,8))\n",
    "#     ax = fig.add_subplot(111, projection='3d')\n",
    "#     ax.set_xlabel('RA (pix)')\n",
    "#     ax.set_ylabel('DEC (pix)')\n",
    "#     ax.set_zlabel(r'v$_{lsr}$ (km s$^{-1}$)')\n",
    "\n",
    "#     for k, col in zip(unique_labels, colors):\n",
    "#         if k == -1:\n",
    "#             # Black used for noise.\n",
    "#             col = [0, 0, 0, 1]\n",
    "#             continue\n",
    "#         class_member_mask = labels == k\n",
    "\n",
    "#         xy = scaler3.inverse_transform(X3[class_member_mask])\n",
    "#         ax.scatter(xy[:,0], xy[:,1], xy[:,2], s=4, color=col, alpha=0.2, label=k)\n",
    "#     # ax.scatter(ra_yso_pix, dec_yso_pix, vlsr_yso, s=50, color='r')\n",
    "#     ax.legend()"
   ]
  },
  {
   "cell_type": "markdown",
   "id": "abadd197-dbb2-41b6-bfac-548a1603ce0b",
   "metadata": {},
   "source": [
    "We can recover some of the noise points, but we can see that adding the dispersion independant of the eps and min_samples will always separate the north into smaller groups from the south.\n"
   ]
  },
  {
   "cell_type": "markdown",
   "id": "ddf17327-1037-4ecc-b76e-2504cf2dd211",
   "metadata": {
    "jp-MarkdownHeadingCollapsed": true,
    "tags": []
   },
   "source": [
    "## Manual separation\n",
    "\n",
    "We do this for HC3N.\n",
    "\n",
    "The approach right now has an issue: when sampling in the radius, it takes all the repeated components as well. "
   ]
  },
  {
   "cell_type": "code",
   "execution_count": null,
   "id": "70ef270d-b8a2-450c-8c2e-278938b8524a",
   "metadata": {
    "tags": []
   },
   "outputs": [],
   "source": [
    "if run_manual:\n",
    "    clump0_mol2 = ds_mol2_feats.query('vlsr > 7.5')\n",
    "    clump1_mol2 = ds_mol2_feats.query('vlsr <= 7.5')\n",
    "    # now we run Spandan's algorithm of distance\n",
    "    rad_assign = 5\n",
    "    vel_average = np.nanmean(ds_mol2_feats['vlsr'])\n",
    "    tmb_average = np.nanmean(ds_mol2_feats['amplitude'])\n",
    "    for i in tqdm(clump0_mol2.index.values): # we check all the array\n",
    "        try:\n",
    "            cx, cy = clump0_mol2.loc[i, 'x_pix'], clump0_mol2.loc[i, 'y_pix']\n",
    "        except KeyError:\n",
    "            continue # found a value that was repeated and that its not there anymore\n",
    "        query = clump0_mol2.query('x_pix=={0} & y_pix=={1}'.format(cx, cy))\n",
    "        if len(query) > 1:\n",
    "            #it could happen that there are 3 components: \n",
    "            if len(query) > 2: index0, index1, index2 = query.index.values\n",
    "            else: index0, index1 = query.index.values\n",
    "            vel1 = query.loc[index0, 'vlsr']\n",
    "            tmb1 = query.loc[index0, 'amplitude']\n",
    "            vel2 = query.loc[index1, 'vlsr']\n",
    "            tmb2 = query.loc[index1, 'amplitude']\n",
    "            if len(query) > 2: \n",
    "                vel3 = query.loc[index2, 'vlsr']\n",
    "                tmb3 = query.loc[index2, 'amplitude']\n",
    "            #here fix\n",
    "            rad_sample = clump0_mol2.query('x_pix>{0} & y_pix>{1} & x_pix<{2} & y_pix<{3}'.format(\n",
    "                cx-rad_assign, cy-rad_assign, cx+rad_assign, cy+rad_assign))\n",
    "            \n",
    "            rad_sample.drop([index0, index1])\n",
    "            if len(query) > 2: rad_sample.drop([index2])\n",
    "            vel_mean = np.mean(rad_sample['vlsr'])\n",
    "            t_mean = np.mean(rad_sample['amplitude'])\n",
    "            if len(query) > 2: \n",
    "                distances = para_dist(v1=np.array([vel1, vel2, vel3]), v2=vel_mean, tmb1=np.array([tmb1, tmb2, tmb3]),\n",
    "                                      tmb2=t_mean, vel_norm=vel_average, tmb_norm=tmb_average)\n",
    "            else:\n",
    "                distances = para_dist(v1=np.array([vel1, vel2]), v2=vel_mean, tmb1=np.array([tmb1, tmb2]),\n",
    "                                      tmb2=t_mean, vel_norm=vel_average, tmb_norm=tmb_average)\n",
    "            if np.argmin(distances) == 0:\n",
    "                index = query.loc[index1, 'Index_original']\n",
    "                indexaux = clump0_mol2.query('x_pix=={0} & y_pix=={1} & vlsr=={2}'.format(cx, cy, vel2)).index.values[0]\n",
    "                ds_mol2_feats.loc[index, 'labels_dbscan'] = -1\n",
    "                clump0_mol2 = clump0_mol2.drop([indexaux])\n",
    "                if len(query) > 2:\n",
    "                    index = query.loc[index2, 'Index_original']\n",
    "                    indexaux = clump0_mol2.query('x_pix=={0} & y_pix=={1} & vlsr=={2}'.format(cx, cy, vel3)).index.values[0]\n",
    "                    ds_mol2_feats.loc[index, 'labels_dbscan'] = -1\n",
    "                    clump0_mol2 = clump0_mol2.drop([indexaux])\n",
    "            elif np.argmin(distances) == 1:\n",
    "                index = query.loc[index0, 'Index_original']\n",
    "                indexaux = clump0_mol2.query('x_pix=={0} & y_pix=={1} & vlsr=={2}'.format(cx, cy, vel1)).index.values[0]\n",
    "                ds_mol2_feats.loc[index, 'labels_dbscan'] = -1\n",
    "                clump0_mol2 = clump0_mol2.drop([indexaux])\n",
    "                if len(query) > 2:\n",
    "                    index = query.loc[index2, 'Index_original']\n",
    "                    indexaux = clump0_mol2.query('x_pix=={0} & y_pix=={1} & vlsr=={2}'.format(cx, cy, vel3)).index.values[0]\n",
    "                    ds_mol2_feats.loc[index, 'labels_dbscan'] = -1\n",
    "                    clump0_mol2 = clump0_mol2.drop([indexaux])\n",
    "            if len(query) > 2:\n",
    "                if np.argmin(distances) == 2:\n",
    "                    index = query.loc[index1, 'Index_original']\n",
    "                    indexaux = clump0_mol2.query('x_pix=={0} & y_pix=={1} & vlsr=={2}'.format(cx, cy, vel2)).index.values[0]\n",
    "                    ds_mol2_feats.loc[index, 'labels_dbscan'] = -1\n",
    "                    clump0_mol2 = clump0_mol2.drop([indexaux])\n",
    "                    index = query.loc[index0, 'Index_original']\n",
    "                    indexaux = clump0_mol2.query('x_pix=={0} & y_pix=={1} & vlsr=={2}'.format(cx, cy, vel1)).index.values[0]\n",
    "                    ds_mol2_feats.loc[index, 'labels_dbscan'] = -1\n",
    "                    clump0_mol2 = clump0_mol2.drop([indexaux])"
   ]
  },
  {
   "cell_type": "code",
   "execution_count": null,
   "id": "833c160d-a2bb-496d-bf92-6865c3b89b85",
   "metadata": {
    "jp-MarkdownHeadingCollapsed": true,
    "tags": []
   },
   "outputs": [],
   "source": [
    "if run_manual:\n",
    "    for i in tqdm(clump1_mol2.index.values): # we check all the array\n",
    "        try:\n",
    "            cx, cy = clump1_mol2.loc[i, 'x_pix'], clump1_mol2.loc[i, 'y_pix']\n",
    "        except KeyError:\n",
    "            continue # found a value that was repeated and that its not there anymore\n",
    "        query = clump1_mol2.query('x_pix=={0} & y_pix=={1}'.format(cx, cy))\n",
    "        if len(query) > 1:\n",
    "            #it could happen that there are 3 components: \n",
    "            if len(query) > 2: index0, index1, index2 = query.index.values\n",
    "            else: index0, index1 = query.index.values\n",
    "            vel1 = query.loc[index0, 'vlsr']\n",
    "            tmb1 = query.loc[index0, 'amplitude']\n",
    "            vel2 = query.loc[index1, 'vlsr']\n",
    "            tmb2 = query.loc[index1, 'amplitude']\n",
    "            if len(query) > 2: \n",
    "                vel3 = query.loc[index2, 'vlsr']\n",
    "                tmb3 = query.loc[index2, 'amplitude']\n",
    "            rad_sample = clump1_mol2.query('x_pix>{0} & y_pix>{1} & x_pix<{2} & y_pix<{3}'.format(\n",
    "                cx-rad_assign, cy-rad_assign, cx+rad_assign, cy+rad_assign))\n",
    "            \n",
    "            rad_sample.drop([index0, index1])\n",
    "            if len(query) > 2: rad_sample.drop([index2])\n",
    "            vel_mean = np.mean(rad_sample['vlsr'])\n",
    "            t_mean = np.mean(rad_sample['amplitude'])\n",
    "            if len(query) > 2: \n",
    "                distances = para_dist(v1=np.array([vel1, vel2, vel3]), v2=vel_mean, tmb1=np.array([tmb1, tmb2, tmb3]),\n",
    "                                      tmb2=t_mean, vel_norm=vel_average, tmb_norm=tmb_average)\n",
    "            else:\n",
    "                distances = para_dist(v1=np.array([vel1, vel2]), v2=vel_mean, tmb1=np.array([tmb1, tmb2]),\n",
    "                                      tmb2=t_mean, vel_norm=vel_average, tmb_norm=tmb_average)\n",
    "            if np.argmin(distances) == 0:\n",
    "                index = query.loc[index1, 'Index_original']\n",
    "                indexaux = clump1_mol2.query('x_pix=={0} & y_pix=={1} & vlsr=={2}'.format(cx, cy, vel2)).index.values[0]\n",
    "                ds_mol2_feats.loc[index, 'labels_dbscan'] = -1\n",
    "                clump1_mol2 = clump1_mol2.drop([indexaux])\n",
    "                if len(query) > 2:\n",
    "                    index = query.loc[index2, 'Index_original']\n",
    "                    indexaux = clump1_mol2.query('x_pix=={0} & y_pix=={1} & vlsr=={2}'.format(cx, cy, vel3)).index.values[0]\n",
    "                    ds_mol2_feats.loc[index, 'labels_dbscan'] = -1\n",
    "                    clump1_mol2 = clump1_mol2.drop([indexaux])\n",
    "            elif np.argmin(distances) == 1:\n",
    "                index = query.loc[index0, 'Index_original']\n",
    "                indexaux = clump1_mol2.query('x_pix=={0} & y_pix=={1} & vlsr=={2}'.format(cx, cy, vel1)).index.values[0]\n",
    "                ds_mol2_feats.loc[index, 'labels_dbscan'] = -1\n",
    "                clump1_mol2 = clump1_mol2.drop([indexaux])\n",
    "                if len(query) > 2:\n",
    "                    index = query.loc[index2, 'Index_original']\n",
    "                    indexaux = clump1_mol2.query('x_pix=={0} & y_pix=={1} & vlsr=={2}'.format(cx, cy, vel3)).index.values[0]\n",
    "                    ds_mol2_feats.loc[index, 'labels_dbscan'] = -1\n",
    "                    clump1_mol2 = clump1_mol2.drop([indexaux])\n",
    "            if len(query) > 2:\n",
    "                if np.argmin(distances) == 2:\n",
    "                    index = query.loc[index1, 'Index_original']\n",
    "                    indexaux = clump1_mol2.query('x_pix=={0} & y_pix=={1} & vlsr=={2}'.format(cx, cy, vel2)).index.values[0]\n",
    "                    ds_mol2_feats.loc[index, 'labels_dbscan'] = -1\n",
    "                    clump1_mol2 = clump1_mol2.drop([indexaux])\n",
    "                    index = query.loc[index0, 'Index_original']\n",
    "                    indexaux = clump1_mol2.query('x_pix=={0} & y_pix=={1} & vlsr=={2}'.format(cx, cy, vel1)).index.values[0]\n",
    "                    ds_mol2_feats.loc[index, 'labels_dbscan'] = -1\n",
    "                    clump1_mol2 = clump1_mol2.drop([indexaux]) "
   ]
  },
  {
   "cell_type": "code",
   "execution_count": null,
   "id": "1afab1e1-8ed1-4d4f-8279-a56ad69f2347",
   "metadata": {
    "tags": []
   },
   "outputs": [],
   "source": [
    "if run_manual:\n",
    "    cubefile_mol2 = '../bayes_frame/nested-sampling/{0}/NGC1333-SE-mle-x1_filtered_QA.fits'.format(mol2)\n",
    "    cubefile_clump0 = 'cluster0_manual_{}.fits'.format(mol2)\n",
    "\n",
    "    header_components_mol2 = fits.getheader(cubefile_mol2)\n",
    "    cube_components_mol2 = np.zeros(np.shape(fits.getdata(cubefile_mol2))) * np.nan\n",
    "    print('Saving clump 0 {}'.format(mol2))\n",
    "    for i in tqdm(clump0_mol2.index.values):\n",
    "        x = int(clump0_mol2.loc[i, 'x_pix'])\n",
    "        y = int(clump0_mol2.loc[i, 'y_pix'])\n",
    "        cube_components_mol2[0, y, x] = clump0_mol2.loc[i, 'amplitude']\n",
    "        cube_components_mol2[1, y, x] = clump0_mol2.loc[i, 'vlsr']\n",
    "        cube_components_mol2[2, y, x] = clump0_mol2.loc[i, 'sigma_v']\n",
    "        cube_components_mol2[3, y, x] = clump0_mol2.loc[i, 'e_amplitude']\n",
    "        cube_components_mol2[4, y, x] = clump0_mol2.loc[i, 'e_vlsr']\n",
    "        cube_components_mol2[5, y, x] = clump0_mol2.loc[i, 'e_sigma_v']\n",
    "\n",
    "\n",
    "    fits.writeto(cubefile_clump0, cube_components_mol2, header_components_mol2)"
   ]
  },
  {
   "cell_type": "code",
   "execution_count": null,
   "id": "cd688946-666f-4735-a71d-62556852cdef",
   "metadata": {
    "tags": []
   },
   "outputs": [],
   "source": [
    "if run_manual:\n",
    "    cubefile_mol2 = '../bayes_frame/nested-sampling/{0}/NGC1333-SE-mle-x1_filtered_QA.fits'.format(mol2)\n",
    "    cubefile_clump1 = 'cluster1_manual_{}.fits'.format(mol2)\n",
    "\n",
    "    header_components_mol2 = fits.getheader(cubefile_mol2)\n",
    "    cube_components_mol2 = np.zeros(np.shape(fits.getdata(cubefile_mol2))) * np.nan\n",
    "    print('Saving clump 1 {}'.format(mol2))\n",
    "    for i in tqdm(clump1_mol2.index.values):\n",
    "        x = int(clump1_mol2.loc[i, 'x_pix'])\n",
    "        y = int(clump1_mol2.loc[i, 'y_pix'])\n",
    "        cube_components_mol2[0, y, x] = clump1_mol2.loc[i, 'amplitude']\n",
    "        cube_components_mol2[1, y, x] = clump1_mol2.loc[i, 'vlsr']\n",
    "        cube_components_mol2[2, y, x] = clump1_mol2.loc[i, 'sigma_v']\n",
    "        cube_components_mol2[3, y, x] = clump1_mol2.loc[i, 'e_amplitude']\n",
    "        cube_components_mol2[4, y, x] = clump1_mol2.loc[i, 'e_vlsr']\n",
    "        cube_components_mol2[5, y, x] = clump1_mol2.loc[i, 'e_sigma_v']\n",
    "\n",
    "\n",
    "    fits.writeto(cubefile_clump1, cube_components_mol2, header_components_mol2)"
   ]
  },
  {
   "cell_type": "code",
   "execution_count": null,
   "id": "ce0b5f25-dd78-4da6-a7c8-e891d8039e38",
   "metadata": {
    "tags": []
   },
   "outputs": [],
   "source": [
    "# clump0_mol2.plot.scatter('x_pix', 'y_pix', alpha=0.2)"
   ]
  },
  {
   "cell_type": "code",
   "execution_count": null,
   "id": "7a3dec9b-7469-4f33-b53f-af28c36afcb8",
   "metadata": {},
   "outputs": [],
   "source": []
  },
  {
   "cell_type": "code",
   "execution_count": null,
   "id": "32c26488-6dbe-4080-bbf7-098490cf934f",
   "metadata": {},
   "outputs": [],
   "source": []
  },
  {
   "cell_type": "markdown",
   "id": "41a2baf7-e30f-4baa-9f93-60205dfc8a41",
   "metadata": {
    "tags": []
   },
   "source": [
    "## HDBSCAN"
   ]
  },
  {
   "cell_type": "code",
   "execution_count": null,
   "id": "ea225d15-7729-4cc6-8b30-8485abaf933b",
   "metadata": {},
   "outputs": [],
   "source": [
    "if run_HDBSCAN:\n",
    "    min_cluster_size_hdb = 150\n",
    "    min_samples_hdb = 102"
   ]
  },
  {
   "cell_type": "code",
   "execution_count": null,
   "id": "26069a87-dbd3-4e62-9b96-34f4a9b761a9",
   "metadata": {},
   "outputs": [],
   "source": [
    "if run_HDBSCAN:\n",
    "    # hdb = HDBSCAN(min_cluster_size = min_cluster_size_hdb, min_samples = min_samples_hdb)\n",
    "    # hdb.fit(X2)\n",
    "    clusterer = hdbscan.HDBSCAN(min_cluster_size=min_cluster_size_hdb, gen_min_span_tree=True)\n",
    "    clusterer.fit(X2_mol1) # what if we use all parameters?\n",
    "    \n",
    "    # labelshdb = hdb.labels_\n",
    "    # ds_cluster2['labels_hdbscan'] = labelshdb"
   ]
  },
  {
   "cell_type": "code",
   "execution_count": null,
   "id": "f47681c0-76d9-419e-8f6c-06bb73acc60a",
   "metadata": {
    "tags": []
   },
   "outputs": [],
   "source": [
    "fig, ax = plt.subplots()\n",
    "clusterer.condensed_tree_.plot(select_clusters=True, selection_palette=sns.color_palette(), axis=ax)\n"
   ]
  },
  {
   "cell_type": "code",
   "execution_count": null,
   "id": "8927c720-c990-4930-a83c-1eb4ed9444d7",
   "metadata": {
    "tags": []
   },
   "outputs": [],
   "source": [
    "if run_HDBSCAN:\n",
    "    labels = clusterer.labels_\n",
    "    # ds_mol1_feats['labels_hdbscan'] = labels\n",
    "    # ds_cluster2_mol1['labels_hdbscan'] = labels\n",
    "    n_clusters_ = len(set(labels)) - (1 if -1 in labels else 0)\n",
    "    n_noise_ = list(labels).count(-1)\n",
    "\n",
    "    print(\"Estimated number of clusters: %d\" % n_clusters_)\n",
    "    print(\"Estimated number of noise points: %d\" % n_noise_)\n",
    "    print(\"Total number of points: %d\" % len(labels))\n",
    "    # unique_labels = set(labels)"
   ]
  },
  {
   "cell_type": "code",
   "execution_count": null,
   "id": "2c8929c2-2751-4a8f-ab5f-5d85c7bbb21b",
   "metadata": {
    "tags": []
   },
   "outputs": [],
   "source": [
    "if run_HDBSCAN:\n",
    "    unique_labels = set(labels)\n",
    "    colors = [plt.cm.tab10(each) for each in np.linspace(0, 1, len(unique_labels))]\n",
    "\n",
    "    fig = plt.figure(figsize=(8,8))\n",
    "    ax = fig.add_subplot(111, projection='3d')\n",
    "    ax.set_xlabel('RA (pix)')\n",
    "    ax.set_ylabel('DEC (pix)')\n",
    "    ax.set_zlabel(r'v$_{lsr}$ (km s$^{-1}$)')\n",
    "\n",
    "    for k, col in zip(unique_labels, colors):\n",
    "        if k == -1:\n",
    "            # Black used for noise.\n",
    "            col = [0, 0, 0, 1]\n",
    "            # continue\n",
    "        class_member_mask = labels == k\n",
    "\n",
    "        xy = scaler2_mol1.inverse_transform(X2_mol1[class_member_mask])\n",
    "        ax.scatter(xy[:,0], xy[:,1], xy[:,2], s=4, color=col, alpha=0.2, label=k)\n",
    "    # ax.scatter(ra_yso_pix, dec_yso_pix, vlsr_yso, s=50, color='r')\n",
    "    ax.legend()"
   ]
  },
  {
   "cell_type": "markdown",
   "id": "ed10e9a5-c12e-4998-9f19-ecb071ca8885",
   "metadata": {},
   "source": [
    "All above was for N2Hp, we can now try with HC3N\n"
   ]
  },
  {
   "cell_type": "code",
   "execution_count": null,
   "id": "380649d7-39ec-4bf2-8a73-45e79c6bfcf7",
   "metadata": {
    "tags": []
   },
   "outputs": [],
   "source": [
    "if run_HDBSCAN:\n",
    "    # hdb = HDBSCAN(min_cluster_size = min_cluster_size_hdb, min_samples = min_samples_hdb)\n",
    "    # hdb.fit(X2)\n",
    "    clusterer = hdbscan.HDBSCAN(min_cluster_size=min_cluster_size_hdb, min_samples=min_samples_hdb, gen_min_span_tree=True)\n",
    "    clusterer.fit(X2_mol2_weight) # what if we use all parameters?\n",
    "    \n",
    "    # labelshdb = hdb.labels_\n",
    "    # ds_cluster2['labels_hdbscan'] = labelshdb"
   ]
  },
  {
   "cell_type": "code",
   "execution_count": null,
   "id": "853c3095-05da-449b-8c79-fb96f208777c",
   "metadata": {
    "tags": []
   },
   "outputs": [],
   "source": [
    "fig, ax = plt.subplots()\n",
    "clusterer.condensed_tree_.plot(select_clusters=True, selection_palette=sns.color_palette(), axis=ax)\n"
   ]
  },
  {
   "cell_type": "code",
   "execution_count": null,
   "id": "03bb6a52-13a4-458f-8f3b-034e8acdcbb7",
   "metadata": {
    "tags": []
   },
   "outputs": [],
   "source": [
    "if run_HDBSCAN:\n",
    "    labels = clusterer.labels_\n",
    "    # ds_mol2_feats['labels_hdbscan'] = labels\n",
    "    # ds_cluster2_mol2['labels_hdbscan'] = labels\n",
    "    n_clusters_ = len(set(labels)) - (1 if -1 in labels else 0)\n",
    "    n_noise_ = list(labels).count(-1)\n",
    "\n",
    "    print(\"Estimated number of clusters: %d\" % n_clusters_)\n",
    "    print(\"Estimated number of noise points: %d\" % n_noise_)\n",
    "    print(\"Total number of points: %d\" % len(labels))\n",
    "    # unique_labels = set(labels)"
   ]
  },
  {
   "cell_type": "code",
   "execution_count": null,
   "id": "ec583b31-138c-465a-9298-69f849f5c783",
   "metadata": {
    "tags": []
   },
   "outputs": [],
   "source": [
    "if run_HDBSCAN:\n",
    "    unique_labels = set(labels)\n",
    "    # palette = sns.color_palette()\n",
    "    # colors = [sns.desaturate(palette[col], sat)\n",
    "    #               if col >= 0 else (0.5, 0.5, 0.5) for col, sat in\n",
    "    #               zip(clusterer.labels_, clusterer.probabilities_)]\n",
    "    colors = [plt.cm.tab20(each) for each in np.linspace(0, 1, len(unique_labels))]\n",
    "\n",
    "    fig = plt.figure(figsize=(8,8))\n",
    "    ax = fig.add_subplot(111, projection='3d')\n",
    "    ax.set_xlabel('RA (pix)')\n",
    "    ax.set_ylabel('DEC (pix)')\n",
    "    ax.set_zlabel(r'v$_{lsr}$ (km s$^{-1}$)')\n",
    "    \n",
    "    # xy = scaler2_mol2.inverse_transform(X2_mol2)\n",
    "    # ax.scatter(xy[:,0], xy[:,1], xy[:,2], s=4, color=colors, alpha=0.2)\n",
    "\n",
    "    for k, col in zip(unique_labels, colors):\n",
    "        if k == -1:\n",
    "            # Black used for noise.\n",
    "            col = [0, 0, 0, 1]\n",
    "            # continue\n",
    "        class_member_mask = labels == k\n",
    "\n",
    "        xy = scaler2_mol2.inverse_transform(X2_mol2[class_member_mask])\n",
    "        ax.scatter(xy[:,0], xy[:,1], xy[:,2], s=4, color=col, alpha=0.2, label=k)\n",
    "    # ax.scatter(ra_yso_pix, dec_yso_pix, vlsr_yso, s=50, color='r')\n",
    "    ax.legend()"
   ]
  },
  {
   "cell_type": "markdown",
   "id": "62dba6e7-00c1-4e82-b283-9da1026622f3",
   "metadata": {
    "jp-MarkdownHeadingCollapsed": true,
    "tags": []
   },
   "source": [
    "### HDBSCAN from sklearn"
   ]
  },
  {
   "cell_type": "code",
   "execution_count": null,
   "id": "8ccf8349-6b23-4195-a30f-993d15147632",
   "metadata": {},
   "outputs": [],
   "source": [
    "if run_HDBSCAN:\n",
    "    n_clusters_ = len(set(labelshdb)) - (1 if -1 in labelshdb else 0)\n",
    "    n_noise_ = list(labelshdb).count(-1)\n",
    "    print(\"Estimated number of clusters: %d\" % n_clusters_)\n",
    "    print(\"Estimated number of noise points: %d\" % n_noise_)\n",
    "    print(\"Total number of points: %d\" % len(labelshdb))\n",
    "\n",
    "    labelshdb_cut =  hdb.dbscan_clustering(cut_distance=0.352)\n",
    "    n_clusters_cut = len(set(labelshdb_cut)) - (1 if -1 in labelshdb_cut else 0)\n",
    "    n_noise_cut = list(labelshdb_cut).count(-1)\n",
    "    print(\"Estimated number of clusters in level: %d\" % n_clusters_cut)\n",
    "    print(\"Estimated number of noise points in level: %d\" % n_noise_cut)"
   ]
  },
  {
   "cell_type": "code",
   "execution_count": null,
   "id": "101797d3-9e3b-4765-8816-a487eaef32f4",
   "metadata": {},
   "outputs": [],
   "source": [
    "# lets test the different layers of the Hierarchy\n",
    "\n",
    "if run_HDBSCAN:\n",
    "    unique_labels = set(labelshdb_cut)\n",
    "    colors = [plt.cm.viridis(each) for each in np.linspace(0, 1, len(unique_labels))]\n",
    "\n",
    "    fig = plt.figure(figsize=(8,8))\n",
    "    ax = fig.add_subplot(111, projection='3d')\n",
    "    ax.set_xlabel('RA (pix)')\n",
    "    ax.set_ylabel('DEC (pix)')\n",
    "    ax.set_zlabel(r'v$_{lsr}$ (km s$^{-1}$)')\n",
    "\n",
    "    for k, col in zip(unique_labels, colors):\n",
    "        if k == -1:\n",
    "            # Black used for noise.\n",
    "            col = [0, 0, 0, 1]\n",
    "            continue\n",
    "        class_member_mask = labelshdb_cut == k\n",
    "        # if k ==2: continue\n",
    "        xy = scaler2.inverse_transform(X2[class_member_mask])\n",
    "        ax.scatter(xy[:,0], xy[:,1], xy[:,2], s=4, color=col, alpha=0.2, label=k)\n",
    "    # ax.scatter(ra_yso_pix, dec_yso_pix, vlsr_yso, s=50, color='r')\n",
    "    ax.legend()"
   ]
  },
  {
   "cell_type": "markdown",
   "id": "47125e91-2ba5-45c1-ad1b-dc3fb177f5f9",
   "metadata": {
    "tags": []
   },
   "source": [
    "## OPTICS\n",
    "\n",
    "HDBSCAN is known as a mixture of DBSCAN and OPTICS, where the latter is the one that brings the variable density clustering. Lets try it to see if we can understand better what it is doing (without the minimum size cluster parameter that HDBSCAN has, it could help be less biased)"
   ]
  },
  {
   "cell_type": "code",
   "execution_count": null,
   "id": "428da9b9-913c-4cc8-be75-3e71c8c18e4f",
   "metadata": {},
   "outputs": [],
   "source": [
    "if run_OPTICS:\n",
    "    min_samples = 100\n",
    "    min_cluster_size = 1000\n",
    "    xi = 0.05\n",
    "    max_eps = 0.38\n",
    "    np.random.seed(seed)\n"
   ]
  },
  {
   "cell_type": "code",
   "execution_count": null,
   "id": "dffa1a64-3686-4819-991f-5863d2eecfb4",
   "metadata": {},
   "outputs": [],
   "source": [
    "ds_cluster3 = ds_mol1_feats[ds_mol1_feats['x_pix']<130]\n",
    "ds_cluster3 = ds_cluster3[ds_cluster3['y_pix']<130]\n",
    "scaler3 = StandardScaler()\n",
    "X3 = X2 #scaler3.fit_transform(ds_cluster3)"
   ]
  },
  {
   "cell_type": "code",
   "execution_count": null,
   "id": "34cb67c7-6206-461e-a4a7-0ea27d4f65df",
   "metadata": {},
   "outputs": [],
   "source": [
    "if run_OPTICS: \n",
    "    clust = OPTICS(min_samples=min_samples, xi=xi, max_eps=max_eps, n_jobs=4, min_cluster_size=min_cluster_size)\n",
    "    clust.fit(X3)"
   ]
  },
  {
   "cell_type": "code",
   "execution_count": null,
   "id": "3b00290d-f754-40e8-a4dc-bdc211734fa5",
   "metadata": {},
   "outputs": [],
   "source": [
    "if run_OPTICS:\n",
    "    space = np.arange(len(X3))\n",
    "    reachability = clust.reachability_[clust.ordering_]\n",
    "    labels = clust.labels_[clust.ordering_]\n",
    "    n_clusters_ = len(set(labels)) - (1 if -1 in labels else 0)\n",
    "    n_noise_ = list(labels).count(-1)\n",
    "    print(\"Estimated number of clusters: %d\" % n_clusters_)\n",
    "    print(\"Estimated number of noise points: %d\" % n_noise_)\n",
    "    print(\"Total number of points: %d\" % len(labels))\n"
   ]
  },
  {
   "cell_type": "code",
   "execution_count": null,
   "id": "856af6d9-7979-4251-b8d9-b16ac97f0937",
   "metadata": {},
   "outputs": [],
   "source": [
    "len(reachability)"
   ]
  },
  {
   "cell_type": "code",
   "execution_count": null,
   "id": "3a0e6908-50f1-4652-aebb-726b36d36269",
   "metadata": {},
   "outputs": [],
   "source": [
    "if run_OPTICS:\n",
    "    \n",
    "    labels_035 = cluster_optics_dbscan(\n",
    "        reachability=clust.reachability_,\n",
    "        core_distances=clust.core_distances_,\n",
    "        ordering=clust.ordering_,\n",
    "        eps=0.35,\n",
    "    )\n",
    "    labels_020 = cluster_optics_dbscan(\n",
    "        reachability=clust.reachability_,\n",
    "        core_distances=clust.core_distances_,\n",
    "        ordering=clust.ordering_,\n",
    "        eps=0.2,\n",
    "    )\n",
    "\n"
   ]
  },
  {
   "cell_type": "code",
   "execution_count": null,
   "id": "8ff944c6-acd9-4784-a732-b98fa19e26b4",
   "metadata": {},
   "outputs": [],
   "source": [
    "if run_OPTICS:\n",
    "\n",
    "    plt.figure(figsize=(10, 7))\n",
    "    G = gridspec.GridSpec(2, 3)\n",
    "    ax1 = plt.subplot(G[0, :])\n",
    "    ax2 = plt.subplot(G[1, 0])\n",
    "    ax3 = plt.subplot(G[1, 1])\n",
    "    ax4 = plt.subplot(G[1, 2])\n",
    "\n",
    "    # Reachability plot\n",
    "    colors = [\"g.\", \"r.\", \"b.\", \"y.\", \"c.\"]\n",
    "    for klass, color in zip(range(0, 5), colors):\n",
    "        Xk = space[labels == klass]\n",
    "        Rk = reachability[labels == klass]\n",
    "        ax1.plot(Xk, Rk, color, alpha=0.3)\n",
    "    ax1.plot(space[labels == -1], reachability[labels == -1], \"k.\", alpha=0.3)\n",
    "    ax1.plot(space, np.full_like(space, 0.35, dtype=float), \"k-\", alpha=0.5)\n",
    "    ax1.plot(space, np.full_like(space, 0.2, dtype=float), \"k-.\", alpha=0.5)\n",
    "    ax1.set_ylabel(\"Reachability (epsilon distance)\")\n",
    "    ax1.set_title(\"Reachability Plot\")\n",
    "    \n",
    "    colors = [\"g.\", \"r.\", \"b.\", \"y.\", \"c.\"]\n",
    "    for klass, color in zip(range(0, 5), colors):\n",
    "        Xk = X3[clust.labels_ == klass]\n",
    "        ax2.plot(Xk[:, 0], Xk[:, 1], color, alpha=0.3)\n",
    "    ax2.plot(X3[clust.labels_ == -1, 0], X3[clust.labels_ == -1, 1], \"k+\", alpha=0.1)\n",
    "    ax2.set_title(\"Automatic Clustering\\nOPTICS\")\n",
    "\n",
    "    # DBSCAN at 0.5\n",
    "    colors = [\"g.\", \"r.\", \"b.\", \"c.\"]\n",
    "    for klass, color in zip(range(0, 4), colors):\n",
    "        Xk = X3[labels_035 == klass]\n",
    "        ax3.plot(Xk[:, 0], Xk[:, 1], color, alpha=0.3)\n",
    "    ax3.plot(X3[labels_035 == -1, 0], X3[labels_035 == -1, 1], \"k+\", alpha=0.1)\n",
    "    ax3.set_title(\"Clustering at 0.35 epsilon cut\\nDBSCAN\")\n",
    "\n",
    "    # DBSCAN at 2.\n",
    "    colors = [\"g.\", \"m.\", \"y.\", \"c.\"]\n",
    "    for klass, color in zip(range(0, 4), colors):\n",
    "        Xk = X3[labels_020 == klass]\n",
    "        ax4.plot(Xk[:, 0], Xk[:, 1], color, alpha=0.3)\n",
    "    ax4.plot(X3[labels_020 == -1, 0], X3[labels_020 == -1, 1], \"k+\", alpha=0.1)\n",
    "    ax4.set_title(\"Clustering at 0.2 epsilon cut\\nDBSCAN\")\n"
   ]
  },
  {
   "cell_type": "code",
   "execution_count": null,
   "id": "93f84297-ae5d-47ac-aa73-c5a8fbe58581",
   "metadata": {},
   "outputs": [],
   "source": []
  },
  {
   "cell_type": "code",
   "execution_count": null,
   "id": "f3eaaed4-d18b-4b75-9b81-21826da47596",
   "metadata": {},
   "outputs": [],
   "source": []
  }
 ],
 "metadata": {
  "kernelspec": {
   "display_name": "Python 3 (ipykernel)",
   "language": "python",
   "name": "python3"
  },
  "language_info": {
   "codemirror_mode": {
    "name": "ipython",
    "version": 3
   },
   "file_extension": ".py",
   "mimetype": "text/x-python",
   "name": "python",
   "nbconvert_exporter": "python",
   "pygments_lexer": "ipython3",
   "version": "3.8.16"
  }
 },
 "nbformat": 4,
 "nbformat_minor": 5
}
