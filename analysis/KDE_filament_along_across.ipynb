{
 "cells": [
  {
   "cell_type": "markdown",
   "id": "48805e02-7e59-4d0c-9849-50ac9791cfe5",
   "metadata": {},
   "source": [
    "# Tendencies along the filament\n",
    "\n",
    "We define an axis that is along the direction of the filament and see if with respect to this, there are tendencies in velocity\n",
    "\n",
    "This way, we see if there are for example different coherent structures in velocity, noticeable changes in sigma along the filament in the direction of SVS13, etc\n",
    "\n",
    "Right now, we are only using the whole fit results (without QA and filtering) for HC3N and N2Hp. In particular this means **we will see outflows in the KDE**"
   ]
  },
  {
   "cell_type": "code",
   "execution_count": 1,
   "id": "798d82a2-c53d-4914-8620-b1dbef493204",
   "metadata": {},
   "outputs": [],
   "source": [
    "import numpy as np\n",
    "import os\n",
    "from astropy.wcs import WCS\n",
    "from astropy.io import fits\n",
    "from scipy.stats import gaussian_kde\n",
    "from astropy.coordinates import SkyCoord\n",
    "import astropy.units as u\n",
    "import sys\n",
    "sys.path.append('/home/mvaldivi/velocity_tools')\n",
    "from velocity_tools import coordinate_offsets\n",
    "import matplotlib.pyplot as plt"
   ]
  },
  {
   "cell_type": "code",
   "execution_count": 2,
   "id": "7a4a99a2-7727-4a6f-9638-17a020c3b996",
   "metadata": {},
   "outputs": [],
   "source": [
    "# we want to compare both molecules so we do files for both\n",
    "mol1 = 'N2Hp'\n",
    "mol2 = 'HC3N'\n",
    "mol1label = r'N$_2$H$^+$'\n",
    "mol2label = r'HC$_3$N'\n",
    "ncomp1 = 2\n",
    "ncomp2 = 3\n",
    "\n",
    "mlex1file_mol1 = '../bayes_frame/nested-sampling/{}/NGC1333-SE-mle-x1_filtered_QA.fits'.format(mol1)\n",
    "mlex2file_mol1 = '../bayes_frame/nested-sampling/{}/NGC1333-SE-mle-x2_filtered_QA.fits'.format(mol1)\n",
    "if ncomp1 == 3: mlex3file_mol1 = '../bayes_frame/nested-sampling/{}/NGC1333-SE-mle-x3_filtered_QA.fits'.format(mol1)\n",
    "ncompfilebayes_mol1 = '../bayes_frame/nested-sampling/{}/npeaks_cut5_noislands_QA.fits'.format(mol1)\n",
    "\n",
    "mlex1file_mol2 = '../bayes_frame/nested-sampling/{}/NGC1333-SE-mle-x1_filtered_QA.fits'.format(mol2)\n",
    "mlex2file_mol2 = '../bayes_frame/nested-sampling/{}/NGC1333-SE-mle-x2_filtered_QA.fits'.format(mol2)\n",
    "if ncomp2 == 3: mlex3file_mol2 = '../bayes_frame/nested-sampling/{}/NGC1333-SE-mle-x3_filtered_QA.fits'.format(mol2)\n",
    "ncompfilebayes_mol2 = '../bayes_frame/nested-sampling/{}/npeaks_cut5_noislands_QA.fits'.format(mol2)\n",
    "\n",
    "# for saving\n",
    "kdevelfiledist_mol1 = '{}_kde_velocity_along_filament.npy'.format(mol1)\n",
    "kdesigfiledist_mol1 = '{}_kde_sigma_along_filament.npy'.format(mol1)\n",
    "\n",
    "kdevelfilecut_mol1 = '{}_kde_velocity_across_filament.npy'.format(mol1)\n",
    "kdesigfilecut_mol1 = '{}_kde_sigma_across_filament.npy'.format(mol1)\n",
    "\n",
    "kdevelfiledist_mol2 = '{}_kde_velocity_along_filament.npy'.format(mol2)\n",
    "kdesigfiledist_mol2 = '{}_kde_sigma_along_filament.npy'.format(mol2)\n",
    "\n",
    "kdevelfilecut_mol2 = '{}_kde_velocity_across_filament.npy'.format(mol2)\n",
    "kdesigfilecut_mol2 = '{}_kde_sigma_across_filament.npy'.format(mol2)\n",
    "\n",
    "# constants\n",
    "distance = 298 * u.pc"
   ]
  },
  {
   "cell_type": "code",
   "execution_count": 3,
   "id": "02b06420-96bb-4e79-af41-8857b2c48dec",
   "metadata": {},
   "outputs": [],
   "source": [
    "# loading files\n",
    "\n",
    "# molecule 1\n",
    "mlex1_mol1 = fits.getdata(mlex1file_mol1)\n",
    "mlex2_mol1 = fits.getdata(mlex2file_mol1)\n",
    "if ncomp1 == 3: mlex3_mol1 = fits.getdata(mlex3file_mol1) \n",
    "ncomp_map_mol1 = fits.getdata(ncompfilebayes_mol1)\n",
    "header_mol1 = fits.getheader(ncompfilebayes_mol1)\n",
    "wcs1 = WCS(header_mol1)\n",
    "\n",
    "xarray1 = np.linspace(0, header_mol1['NAXIS1']-1, header_mol1['NAXIS1'])\n",
    "yarray1 = np.linspace(0, header_mol1['NAXIS2']-1, header_mol1['NAXIS2'])\n",
    "XX1, YY1 = np.meshgrid(xarray1, yarray1)\n",
    "\n",
    "pixsizearcsec1 = (header_mol1['CDELT2'] * u.deg).to(u.arcsec)\n",
    "\n",
    "# molecule 2\n",
    "mlex1_mol2 = fits.getdata(mlex1file_mol2)\n",
    "mlex2_mol2 = fits.getdata(mlex2file_mol2)\n",
    "if ncomp2 == 3: mlex3_mol2 = fits.getdata(mlex3file_mol2) \n",
    "ncomp_map_mol2 = fits.getdata(ncompfilebayes_mol2)\n",
    "header_mol2 = fits.getheader(ncompfilebayes_mol2)\n",
    "wcs2 = WCS(header_mol2)\n",
    "\n",
    "xarray2 = np.linspace(0, header_mol2['NAXIS1']-1, header_mol2['NAXIS1'])\n",
    "yarray2 = np.linspace(0, header_mol2['NAXIS2']-1, header_mol2['NAXIS2'])\n",
    "XX2, YY2 = np.meshgrid(xarray2, yarray2)\n",
    "\n",
    "pixsizearcsec2 = (header_mol2['CDELT2'] * u.deg).to(u.arcsec)"
   ]
  },
  {
   "cell_type": "code",
   "execution_count": 4,
   "id": "9a441038-f2e9-470a-95d1-136c05fc42cf",
   "metadata": {},
   "outputs": [],
   "source": [
    "# quantities of interest\n",
    "# molecule 1\n",
    "vel1g_mol1 = mlex1_mol1[1] # velocity\n",
    "vel2g1_mol1 = mlex2_mol1[1]\n",
    "vel2g2_mol1 = mlex2_mol1[4]\n",
    "if ncomp1 == 3: \n",
    "    vel3g1_mol1 = mlex3_mol1[1]\n",
    "    vel3g2_mol1 = mlex3_mol1[4]\n",
    "    vel3g3_mol1 = mlex3_mol1[7]\n",
    "    velmaster_mol1 = np.array([vel1g_mol1, vel2g1_mol1, vel2g2_mol1, vel3g1_mol1, vel3g2_mol1, vel3g3_mol1])\n",
    "else:\n",
    "    velmaster_mol1 = np.array([vel1g_mol1, vel2g1_mol1, vel2g2_mol1])\n",
    "    \n",
    "sig1g_mol1 = mlex1_mol1[2] #velocity dispersion\n",
    "sig2g1_mol1 = mlex2_mol1[2]\n",
    "sig2g2_mol1 = mlex2_mol1[5]\n",
    "if ncomp1 == 3: \n",
    "    sig3g1_mol1 = mlex3_mol1[2]\n",
    "    sig3g2_mol1 = mlex3_mol1[5]\n",
    "    sig3g3_mol1 = mlex3_mol1[8]\n",
    "    sigmaster_mol1 = np.array([sig1g_mol1, sig2g1_mol1, sig2g2_mol1, sig3g1_mol1, sig3g2_mol1, sig3g3_mol1])\n",
    "else:\n",
    "    sigmaster_mol1 = np.array([sig1g_mol1, sig2g1_mol1, sig2g2_mol1])\n",
    "\n",
    "# molecule 2\n",
    "vel1g_mol2 = mlex1_mol2[1]\n",
    "vel2g1_mol2 = mlex2_mol2[1]\n",
    "vel2g2_mol2 = mlex2_mol2[4]\n",
    "if ncomp2 == 3: \n",
    "    vel3g1_mol2 = mlex3_mol2[1]\n",
    "    vel3g2_mol2 = mlex3_mol2[4]\n",
    "    vel3g3_mol2 = mlex3_mol2[7]\n",
    "    velmaster_mol2 = np.array([vel1g_mol2, vel2g1_mol2, vel2g2_mol2, vel3g1_mol2, vel3g2_mol2, vel3g3_mol2])\n",
    "else:\n",
    "    velmaster_mol2 = np.array([vel1g_mol2, vel2g1_mol2, vel2g2_mol2])\n",
    "    \n",
    "sig1g_mol2 = mlex1_mol2[2]\n",
    "sig2g1_mol2 = mlex2_mol2[2]\n",
    "sig2g2_mol2 = mlex2_mol2[5]\n",
    "if ncomp2 == 3: \n",
    "    sig3g1_mol2 = mlex3_mol2[2]\n",
    "    sig3g2_mol2 = mlex3_mol2[5]\n",
    "    sig3g3_mol2 = mlex3_mol2[8]\n",
    "    sigmaster_mol2 = np.array([sig1g_mol2, sig2g1_mol2, sig2g2_mol2, sig3g1_mol2, sig3g2_mol2, sig3g3_mol2])\n",
    "else:\n",
    "    sigmaster_mol2 = np.array([sig1g_mol2, sig2g1_mol2, sig2g2_mol2])\n"
   ]
  },
  {
   "cell_type": "code",
   "execution_count": 5,
   "id": "5faa81ee-1166-474e-9a2c-14bc6322f2d6",
   "metadata": {},
   "outputs": [],
   "source": [
    "# building the map and the coordinate offsets with an angle\n",
    "rotangle = (40 * u.deg).to(u.rad).value # degrees counterclockwise\n",
    "XXprime1 = XX1 * np.cos(rotangle) - YY1 * np.sin(rotangle)\n",
    "YYprime1 = XX1 * np.sin(rotangle) + YY1 * np.cos(rotangle)\n",
    "\n",
    "XXprime2 = XX2 * np.cos(rotangle) - YY2 * np.sin(rotangle)\n",
    "YYprime2 = XX2 * np.sin(rotangle) + YY2 * np.cos(rotangle)\n"
   ]
  },
  {
   "cell_type": "code",
   "execution_count": 7,
   "id": "b760694e-0803-4425-9771-7feb433eefc0",
   "metadata": {},
   "outputs": [
    {
     "data": {
      "text/plain": [
       "Text(0.5, 1.0, 'Rotated Y value')"
      ]
     },
     "execution_count": 7,
     "metadata": {},
     "output_type": "execute_result"
    },
    {
     "data": {
      "image/png": "[encoded data removed]",
      "text/plain": [
       "<Figure size 640x480 with 2 Axes>"
      ]
     },
     "metadata": {},
     "output_type": "display_data"
    }
   ],
   "source": [
    "# This is just to check that the rotation was done in the expected angle\n",
    "fig = plt.figure()\n",
    "ax = fig.add_subplot(121, projection=wcs2)\n",
    "ax.imshow(YY2, origin='lower')\n",
    "ax.set_title('Original Y value')\n",
    "ax2 = fig.add_subplot(122)\n",
    "ax2.imshow(YYprime2, origin='lower')\n",
    "ax2.set_title('Rotated Y value')\n",
    "# ok all good"
   ]
  },
  {
   "cell_type": "code",
   "execution_count": null,
   "id": "79583d98-2845-42fc-aa00-7a58c6e67eba",
   "metadata": {},
   "outputs": [],
   "source": [
    "# y are the distance along the filament and x are across\n",
    "# distarray are for along the filament, cutarray are for across\n",
    "# molecule 1\n",
    "mask_data_1g_mol1 = np.where(ncomp_map_mol1==1)\n",
    "mask_data_2g_mol1 = np.where(ncomp_map_mol1==2)\n",
    "if ncomp1 == 3: \n",
    "    mask_data_3g_mol1 = np.where(ncomp_map_mol1==3)\n",
    "    velarray_mol1 = np.concatenate([vel1g_mol1[mask_data_1g_mol1], vel2g1_mol1[mask_data_2g_mol1], vel2g2_mol1[mask_data_2g_ml1], \n",
    "                                   vel3g1_mol1[mask_data_3g_mol1], vel3g2_mol1[mask_data_3g_mol1], vel3g2_mol1[mask_data_3g_mol1]])\n",
    "    sigarray_mol1 = np.concatenate([sig1g_mol1[mask_data_1g_mol1], sig2g1_mol1[mask_data_2g_mol1], sig2g2_mol1[mask_data_2g_mol1], \n",
    "                                   sig3g1_mol1[mask_data_3g_mol1], sig3g2_mol1[mask_data_3g_mol1], sig3g2_mol1[mask_data_3g_mol1]])\n",
    "    distarray_mol1 = np.concatenate([YYprime1[mask_data_1g_mol1], YYprime1[mask_data_2g_mol1], YYprime1[mask_data_2g_mol1],\n",
    "                                     YYprime1[mask_data_3g_mol1], YYprime1[mask_data_3g_mol1], YYprime1[mask_data_3g_mol1]]) * pixsizearcsec1.value * distance.value \n",
    "    cutarray_mol1 = np.concatenate([XXprime1[mask_data_1g_mol1], XXprime1[mask_data_2g_mol1], XXprime1[mask_data_2g_mol1],\n",
    "                                     XXprime1[mask_data_3g_mol1], XXprime1[mask_data_3g_mol1], XXprime1[mask_data_3g_mol1]]) * pixsizearcsec1.value * distance.value \n",
    "\n",
    "else:\n",
    "    velarray_mol1 = np.concatenate([vel1g_mol1[mask_data_1g_mol1], vel2g1_mol1[mask_data_2g_mol1], vel2g2_mol1[mask_data_2g_mol1]]) \n",
    "    sigarray_mol1 = np.concatenate([sig1g_mol1[mask_data_1g_mol1], sig2g1_mol1[mask_data_2g_mol1], sig2g2_mol1[mask_data_2g_mol1]]) \n",
    "    distarray_mol1 = np.concatenate([YYprime1[mask_data_1g_mol1], YYprime1[mask_data_2g_mol1], YYprime1[mask_data_2g_mol1]]) * pixsizearcsec1.value * distance.value \n",
    "    cutarray_mol1 = np.concatenate([XXprime1[mask_data_1g_mol1], XXprime1[mask_data_2g_mol1], XXprime1[mask_data_2g_mol1]]) * pixsizearcsec1.value * distance.value \n",
    "\n",
    "\n",
    "# molecule 2\n",
    "mask_data_1g_mol2 = np.where(ncomp_map_mol2==1)\n",
    "mask_data_2g_mol2 = np.where(ncomp_map_mol2==2)\n",
    "if ncomp2 == 3: \n",
    "    mask_data_3g_mol2 = np.where(ncomp_map_mol2==3)\n",
    "    velarray_mol2 = np.concatenate([vel1g_mol2[mask_data_1g_mol2], vel2g1_mol2[mask_data_2g_mol2], vel2g2_mol2[mask_data_2g_mol2], \n",
    "                                   vel3g1_mol2[mask_data_3g_mol2], vel3g2_mol2[mask_data_3g_mol2], vel3g2_mol2[mask_data_3g_mol2]])\n",
    "    sigarray_mol2 = np.concatenate([sig1g_mol2[mask_data_1g_mol2], sig2g1_mol2[mask_data_2g_mol2], sig2g2_mol2[mask_data_2g_mol2], \n",
    "                                   sig3g1_mol2[mask_data_3g_mol2], sig3g2_mol2[mask_data_3g_mol2], sig3g2_mol2[mask_data_3g_mol2]])\n",
    "    distarray_mol2 = np.concatenate([YYprime2[mask_data_1g_mol2], YYprime2[mask_data_2g_mol2], YYprime2[mask_data_2g_mol2],\n",
    "                                     YYprime2[mask_data_3g_mol2], YYprime2[mask_data_3g_mol2], YYprime2[mask_data_3g_mol2]]) * pixsizearcsec2.value * distance.value \n",
    "    cutarray_mol2 = np.concatenate([XXprime2[mask_data_1g_mol2], XXprime2[mask_data_2g_mol2], XXprime2[mask_data_2g_mol2],\n",
    "                                     XXprime2[mask_data_3g_mol2], XXprime2[mask_data_3g_mol2], XXprime2[mask_data_3g_mol2]]) * pixsizearcsec2.value * distance.value \n",
    "\n",
    "\n",
    "else:\n",
    "    velarray_mol2 = np.concatenate([vel1g_mol2[mask_data_1g_mol2], vel2g1_mol2[mask_data_2g_mol2], vel2g2_mol2[mask_data_2g_mol2]]) \n",
    "    sigarray_mol2 = np.concatenate([sig1g_mol2[mask_data_1g_mol2], sig2g1_mol2[mask_data_2g_mol2], sig2g2_mol2[mask_data_2g_mol2]]) \n",
    "    distarray_mol2 = np.concatenate([YYprime2[mask_data_1g_mol2], YYprime2[mask_data_2g_mol2], YYprime2[mask_data_2g_mol2]]) * pixsizearcsec2.value * distance.value \n",
    "    cutarray_mol2 = np.concatenate([XXprime2[mask_data_1g_mol2], XXprime2[mask_data_2g_mol2], XXprime2[mask_data_2g_mol2]]) * pixsizearcsec2.value * distance.value \n"
   ]
  },
  {
   "cell_type": "markdown",
   "id": "195b9f52-c62c-49d5-95e6-50b3186affec",
   "metadata": {
    "tags": []
   },
   "source": [
    "## Gradients along the filament"
   ]
  },
  {
   "cell_type": "markdown",
   "id": "361d0e02-0cb8-4ae2-a3a1-3e880860da97",
   "metadata": {},
   "source": [
    "### Velocity"
   ]
  },
  {
   "cell_type": "code",
   "execution_count": null,
   "id": "4ecea0c1-fdde-4c38-8e8d-db55191632cb",
   "metadata": {},
   "outputs": [],
   "source": [
    "# here we build the space for the KDE to be plotted\n",
    "xmin = 0\n",
    "xmax = 160000\n",
    "# y is velocity lsr\n",
    "ymin = 6\n",
    "ymax = 9\n",
    "\n",
    "xx, yy = np.mgrid[xmin:xmax:100j, ymin:ymax:100j]\n",
    "positions = np.vstack([xx.ravel(), yy.ravel()])\n",
    "\n",
    "if not os.path.exists(kdevelfilecut_mol1):\n",
    "    gd_vlos_mol1 = np.isfinite(velarray_mol1*distarray_mol1)\n",
    "    values_mol1 = np.vstack([distarray_mol1[gd_vlos_mol1], velarray_mol1[gd_vlos_mol1]])\n",
    "    kernel_mol1 = gaussian_kde(values_mol1)\n",
    "    zz_mol1 = np.reshape(kernel_mol1(positions).T, xx.shape)\n",
    "    zz_mol1 /= zz_mol1.max() \n",
    "    np.save(kdevelfiledist_mol1, zz_mol1)\n",
    "else:\n",
    "    zz_mol1 = np.load(kdevelfiledist_mol1)\n",
    "    \n",
    "if not os.path.exists(kdevelfiledist_mol2):\n",
    "    gd_vlos_mol2 = np.isfinite(velarray_mol2*distarray_mol2)\n",
    "    values_mol2 = np.vstack([distarray_mol2[gd_vlos_mol2], velarray_mol2[gd_vlos_mol2]])\n",
    "    kernel_mol2 = gaussian_kde(values_mol2)\n",
    "    zz_mol2 = np.reshape(kernel_mol2(positions).T, xx.shape)\n",
    "    zz_mol2 /= zz_mol2.max() \n",
    "    np.save(kdevelfiledist_mol2, zz_mol2)\n",
    "else:\n",
    "    zz_mol2 = np.load(kdevelfiledist_mol2)"
   ]
  },
  {
   "cell_type": "code",
   "execution_count": null,
   "id": "ac747e23-3293-4e17-ba04-e70b08f013b2",
   "metadata": {},
   "outputs": [],
   "source": [
    "fig = plt.figure()\n",
    "ax = fig.add_subplot(111)\n",
    "cs1 = ax.contourf(xx, yy, zz_mol1, cmap='Greys', levels=np.arange(0.1, 1.2, 0.2), vmin=0., vmax=1.1, label=mol1label, alpha=0.5)\n",
    "# ax.axhline(v_lsr.value, color='k')\n",
    "cs2 = ax.contourf(xx, yy, zz_mol2, cmap='Blues', levels=np.arange(0.1, 1.2, 0.2), vmin=0., vmax=1.1, label=mol2label, alpha=0.5)\n",
    "# ax.axhline(v_lsr.value, color='k')\n",
    "ax.set_ylim([ymin,ymax])\n",
    "ax.set_xlim([xmin,xmax])\n",
    "areas = [plt.Rectangle((1, 1), 2, 2, fc=cs1.collections[-1].get_facecolor()[0]), \n",
    "         plt.Rectangle((1, 1), 2, 2, fc=cs2.collections[-1].get_facecolor()[0])]\n",
    "labels = [mol1label, mol2label]\n",
    "ax.legend(areas, labels, loc='lower right')\n",
    "ax.set_title('Velocity (LSR) in NGC 1333 along the filament')\n",
    "ax.set_xlabel('Distance from south (au)')\n",
    "ax.set_ylabel(r'$v_{\\mathrm{LSR}}$(km s$^{-1}$)')\n",
    "\n",
    "fig.savefig('KDE_vlsr_along_filament.pdf', bbox_inches='tight')"
   ]
  },
  {
   "cell_type": "markdown",
   "id": "69803688-106a-49e6-94e8-6808bf103674",
   "metadata": {},
   "source": [
    "Note here that a larger density of points is due to the thickness of the filament. Also, remember HC3N has less points but this shows only relative density, so it can still happen that the apparent difference is not significant."
   ]
  },
  {
   "cell_type": "markdown",
   "id": "c234c530-8693-4a1b-826e-2370ff311869",
   "metadata": {},
   "source": [
    "### Velocity dispersion"
   ]
  },
  {
   "cell_type": "code",
   "execution_count": null,
   "id": "97bde57d-c5d1-450d-aa57-47fd33565aaf",
   "metadata": {},
   "outputs": [],
   "source": [
    "# here we build the space for the KDE to be plotted\n",
    "xmin = 0\n",
    "xmax = 160000\n",
    "# y is velocity dispersion\n",
    "ymin = 0\n",
    "ymax = 1.\n",
    "xx, yy = np.mgrid[xmin:xmax:100j, ymin:ymax:100j]\n",
    "positions = np.vstack([xx.ravel(), yy.ravel()])\n",
    "\n",
    "if not os.path.exists(kdesigfiledist_mol1):\n",
    "    gd_sig_mol1 = np.isfinite(sigarray_mol1*distarray_mol1)\n",
    "    values_mol1 = np.vstack([distarray_mol1[gd_sig_mol1], sigarray_mol1[gd_sig_mol1]])\n",
    "    kernel_mol1 = gaussian_kde(values_mol1)\n",
    "    zz_mol1 = np.reshape(kernel_mol1(positions).T, xx.shape)\n",
    "    zz_mol1 /= zz_mol1.max() \n",
    "    np.save(kdesigfiledist_mol1, zz_mol1)\n",
    "else:\n",
    "    zz_mol1 = np.load(kdesigfiledist_mol1)\n",
    "\n",
    "if not os.path.exists(kdesigfiledist_mol2):\n",
    "    gd_sig_mol2 = np.isfinite(sigarray_mol2*distarray_mol2)\n",
    "    values_mol2 = np.vstack([distarray_mol2[gd_sig_mol2], sigarray_mol2[gd_sig_mol2]])\n",
    "    kernel_mol2 = gaussian_kde(values_mol2)\n",
    "    zz_mol2 = np.reshape(kernel_mol2(positions).T, xx.shape)\n",
    "    zz_mol2 /= zz_mol2.max() \n",
    "    np.save(kdesigfiledist_mol2, zz_mol2)\n",
    "\n",
    "else:\n",
    "    zz_mol2 = np.load(kdesigfiledist_mol2)\n"
   ]
  },
  {
   "cell_type": "code",
   "execution_count": null,
   "id": "fe005468-43fa-45e9-89c1-40234037fa3a",
   "metadata": {},
   "outputs": [],
   "source": [
    "fig = plt.figure()\n",
    "ax = fig.add_subplot(111)\n",
    "cs1 = ax.contourf(xx, yy, zz_mol1, cmap='Greys', levels=np.arange(0.1, 1.2, 0.2), vmin=0., vmax=1.1, label=mol1label, alpha=0.5)\n",
    "# ax.axhline(v_lsr.value, color='k')\n",
    "cs2 = ax.contourf(xx, yy, zz_mol2, cmap='Blues', levels=np.arange(0.1, 1.2, 0.2), vmin=0., vmax=1.1, label=mol2label, alpha=0.5)\n",
    "# ax.axhline(v_lsr.value, color='k')\n",
    "ax.set_ylim([ymin,ymax])\n",
    "ax.set_xlim([xmin,xmax])\n",
    "areas = [plt.Rectangle((1, 1), 2, 2, fc=cs1.collections[-1].get_facecolor()[0]), \n",
    "         plt.Rectangle((1, 1), 2, 2, fc=cs2.collections[-1].get_facecolor()[0])]\n",
    "labels = [mol1label, mol2label]\n",
    "ax.legend(areas, labels)\n",
    "\n",
    "ax.set_xlabel('Distance from south (au)')\n",
    "ax.set_ylabel(r'$\\sigma_{v,\\mathrm{LSR}}$(km s$^{-1}$)')\n",
    "ax.set_title('Velocity dispersion in NGC 1333 along the filament')\n",
    "fig.savefig('KDE_sig_along_filament.pdf', bbox_inches='tight')"
   ]
  },
  {
   "cell_type": "code",
   "execution_count": null,
   "id": "60bbd974-3f4c-411e-b0e1-fd13a5c4d7fd",
   "metadata": {},
   "outputs": [],
   "source": [
    "# now we could do some clustering to determine which points are part of which layers\n",
    "\n",
    "\n",
    "# also test the kde for sigma\n",
    "# also put HC3N\n"
   ]
  },
  {
   "cell_type": "markdown",
   "id": "6be171ab-c268-4b06-b6ae-c855c7034f41",
   "metadata": {
    "tags": []
   },
   "source": [
    "## Gradients accross the filament"
   ]
  },
  {
   "cell_type": "markdown",
   "id": "bac55222-d3e4-456c-983d-00dbb4ba7ed5",
   "metadata": {},
   "source": [
    "### Velocity"
   ]
  },
  {
   "cell_type": "code",
   "execution_count": null,
   "id": "cd856d72-cb16-4234-8cac-91c84e11af69",
   "metadata": {},
   "outputs": [],
   "source": [
    "# here we build the space for the KDE to be plotted\n",
    "xmin = -40000\n",
    "xmax = 40000\n",
    "# y is velocity lsr\n",
    "ymin = 6\n",
    "ymax = 9\n",
    "\n",
    "xx, yy = np.mgrid[xmin:xmax:100j, ymin:ymax:100j]\n",
    "positions = np.vstack([xx.ravel(), yy.ravel()])\n",
    "\n",
    "if not os.path.exists(kdevelfilecut_mol1):\n",
    "    gcut_vlos_mol1 = np.isfinite(velarray_mol1*cutarray_mol1)\n",
    "    values_across_mol1 = np.vstack([cutarray_mol1[gcut_vlos_mol1], velarray_mol1[gcut_vlos_mol1]])\n",
    "    kernel_mol1 = gaussian_kde(values_across_mol1)\n",
    "    zz_mol1 = np.reshape(kernel_mol1(positions).T, xx.shape)\n",
    "    zz_mol1 /= zz_mol1.max() \n",
    "    np.save(kdevelfilecut_mol1, zz_mol1)\n",
    "else:\n",
    "    zz_mol1 = np.load(kdevelfilecut_mol1)\n",
    "\n",
    "if not os.path.exists(kdevelfilecut_mol2):\n",
    "    gcut_vlos_mol2 = np.isfinite(velarray_mol2*cutarray_mol2)\n",
    "    values_across_mol2 = np.vstack([cutarray_mol2[gcut_vlos_mol2], velarray_mol2[gcut_vlos_mol2]])\n",
    "    kernel_mol2 = gaussian_kde(values_across_mol2)\n",
    "    zz_mol2 = np.reshape(kernel_mol2(positions).T, xx.shape)\n",
    "    zz_mol2 /= zz_mol2.max() \n",
    "    np.save(kdevelfilecut_mol2, zz_mol2)\n",
    "else:\n",
    "    zz_mol2 = np.load(kdevelfilecut_mol2)"
   ]
  },
  {
   "cell_type": "code",
   "execution_count": null,
   "id": "6ea1450f-b1ad-4309-b24f-4e414dc2afdf",
   "metadata": {},
   "outputs": [],
   "source": [
    "fig = plt.figure()\n",
    "ax = fig.add_subplot(111)\n",
    "cs1 = ax.contourf(xx, yy, zz_mol1, cmap='Greys', levels=np.arange(0.1, 1.2, 0.2), vmin=0., vmax=1.1, label=mol1label, alpha=0.5)\n",
    "cs2 = ax.contourf(xx, yy, zz_mol2, cmap='Blues', levels=np.arange(0.1, 1.2, 0.2), vmin=0., vmax=1.1, label=mol2label, alpha=0.5)\n",
    "ax.set_ylim([ymin,ymax])\n",
    "ax.set_xlim([xmin,xmax])\n",
    "areas = [plt.Rectangle((1, 1), 2, 2, fc=cs1.collections[-1].get_facecolor()[0]), \n",
    "         plt.Rectangle((1, 1), 2, 2, fc=cs2.collections[-1].get_facecolor()[0])]\n",
    "labels = [mol1label, mol2label]\n",
    "ax.legend(areas, labels)\n",
    "\n",
    "ax.set_xlabel('Distance (au)')\n",
    "ax.set_ylabel(r'$v_{\\mathrm{LSR}}$(km s$^{-1}$)')\n",
    "\n",
    "fig.savefig('KDE_vlsr_across_filament.pdf', bbox_inches='tight')"
   ]
  },
  {
   "cell_type": "markdown",
   "id": "c6887951-2814-48cf-9311-b8d427428c19",
   "metadata": {},
   "source": [
    "### Velocity dispersion"
   ]
  },
  {
   "cell_type": "code",
   "execution_count": null,
   "id": "052a10dc-2297-49c1-b5b7-4c152627f6af",
   "metadata": {},
   "outputs": [],
   "source": [
    "# here we build the space for the KDE to be plotted\n",
    "xmin = -40000\n",
    "xmax = 40000\n",
    "# y is velocity dispersion\n",
    "ymin = 0\n",
    "ymax = 1\n",
    "xx, yy = np.mgrid[xmin:xmax:100j, ymin:ymax:100j]\n",
    "positions = np.vstack([xx.ravel(), yy.ravel()])\n",
    "\n",
    "if not os.path.exists(kdesigfilecut_mol1):\n",
    "    gcut_sig_mol1 = np.isfinite(sigarray_mol1*cutarray_mol1)\n",
    "    values_mol1 = np.vstack([cutarray_mol1[gcut_sig_mol1], sigarray_mol1[gcut_sig_mol1]])\n",
    "    kernel_mol1 = gaussian_kde(values_mol1)\n",
    "    zz_mol1 = np.reshape(kernel_mol1(positions).T, xx.shape)\n",
    "    zz_mol1 /= zz_mol1.max() \n",
    "    np.save(kdesigfilecut_mol1, zz_mol1)\n",
    "else:\n",
    "    zz_mol1 = np.load(kdesigfilecut_mol1)\n",
    "\n",
    "if not os.path.exists(kdesigfilecut_mol2):\n",
    "    gcut_sig_mol2 = np.isfinite(sigarray_mol2*cutarray_mol2)\n",
    "    values_mol2 = np.vstack([cutarray_mol2[gcut_sig_mol2], sigarray_mol2[gcut_sig_mol2]])\n",
    "    kernel_mol2 = gaussian_kde(values_mol2)\n",
    "    zz_mol2 = np.reshape(kernel_mol2(positions).T, xx.shape)\n",
    "    zz_mol2 /= zz_mol2.max() \n",
    "    np.save(kdesigfilecut_mol2, zz_mol2)\n",
    "\n",
    "else:\n",
    "    zz_mol2 = np.load(kdesigfilecut_mol2)\n"
   ]
  },
  {
   "cell_type": "code",
   "execution_count": null,
   "id": "86e6549e-2cec-4ad9-8ad4-e7ea115854b4",
   "metadata": {},
   "outputs": [],
   "source": [
    "fig = plt.figure()\n",
    "ax = fig.add_subplot(111)\n",
    "cs1 = ax.contourf(xx, yy, zz_mol1, cmap='Greys', levels=np.arange(0.1, 1.2, 0.2), vmin=0., vmax=1.1, label=mol1label, alpha=0.5)\n",
    "# ax.axhline(v_lsr.value, color='k')\n",
    "cs2 = ax.contourf(xx, yy, zz_mol2, cmap='Blues', levels=np.arange(0.1, 1.2, 0.2), vmin=0., vmax=1.1, label=mol2label, alpha=0.5)\n",
    "# ax.axhline(v_lsr.value, color='k')\n",
    "ax.set_ylim([ymin,ymax])\n",
    "ax.set_xlim([xmin,xmax])\n",
    "areas = [plt.Rectangle((1, 1), 2, 2, fc=cs1.collections[-1].get_facecolor()[0]), \n",
    "         plt.Rectangle((1, 1), 2, 2, fc=cs2.collections[-1].get_facecolor()[0])]\n",
    "labels = [mol1label, mol2label]\n",
    "ax.legend(areas, labels)\n",
    "ax.set_title('Velocity dispersion in NGC 1333 across the filament')\n",
    "\n",
    "ax.set_xlabel('Distance (au)')\n",
    "ax.set_ylabel(r'$\\sigma_{v,\\mathrm{LSR}}$(km s$^{-1}$)')\n",
    "fig.savefig('KDE_sig_across_filament.pdf', bbox_inches='tight')"
   ]
  },
  {
   "cell_type": "markdown",
   "id": "dc241576-420c-4e5e-a5b6-17ffcb609444",
   "metadata": {},
   "source": [
    "## Tendencies along and across the independant fibers"
   ]
  },
  {
   "cell_type": "code",
   "execution_count": 9,
   "id": "677f5379-43a3-4543-b384-01595477b6c2",
   "metadata": {},
   "outputs": [],
   "source": [
    "clusters_red_fileHC3N = '../clustering/clusters_red_HC3N.fits'\n",
    "clusters_blue_fileHC3N = '../clustering/clusters_blue_HC3N.fits'\n",
    "clusters_red_fileN2Hp = '../clustering/clusters_red_N2Hp.fits'\n",
    "clusters_blue_fileN2Hp = '../clustering/clusters_blue_N2Hp.fits'\n",
    "\n",
    "clusters_redHC3N, clusters_headHC3N = fits.getdata(clusters_red_fileHC3N, header=True)\n",
    "clusters_blueHC3N = fits.getdata(clusters_blue_fileHC3N)\n",
    "clusters_redN2Hp, clusters_headN2Hp = fits.getdata(clusters_red_fileN2Hp, header=True)\n",
    "clusters_blueN2Hp = fits.getdata(clusters_blue_fileN2Hp)\n",
    "\n",
    "\n",
    "pixsizearcsecHC3N = clusters_headHC3N['cdelt2'] * 3600 * u.arcsec\n",
    "pixsizearcsecN2Hp = clusters_headN2Hp['cdelt2'] * 3600 * u.arcsec\n",
    "\n",
    "\n",
    "# YYprime1 are the pixel distnces from south to north\n",
    "YYprimeHC3N_arcsec = YYprime2 * pixsizearcsecHC3N # this leaves it in arcsec\n",
    "XXprimeHC3N_arcsec = XXprime2 * pixsizearcsecHC3N # this leaves it in arcsec\n",
    "YYprimeN2Hp_arcsec = YYprime1 * pixsizearcsecN2Hp # this leaves it in arcsec\n",
    "XXprimeN2Hp_arcsec = XXprime1 * pixsizearcsecN2Hp # this leaves it in arcsec"
   ]
  },
  {
   "cell_type": "code",
   "execution_count": 10,
   "id": "152dd0ba-cf47-412d-85f2-d3da2016af92",
   "metadata": {},
   "outputs": [],
   "source": [
    "mask_redHC3N = np.where(~np.isnan(clusters_redHC3N[0]), 1, np.nan)\n",
    "mask_blueHC3N = np.where(~np.isnan(clusters_blueHC3N[0]), 1, np.nan)"
   ]
  },
  {
   "cell_type": "markdown",
   "id": "b5d85e6a-6fdc-4bdf-9f33-1ec4e77cfbf0",
   "metadata": {
    "jp-MarkdownHeadingCollapsed": true,
    "tags": []
   },
   "source": [
    "### Test: do a curve of velocities with cuts across the fiber every beam"
   ]
  },
  {
   "cell_type": "code",
   "execution_count": null,
   "id": "8e6a7372-27bb-4b3a-9c15-55a605f86670",
   "metadata": {},
   "outputs": [],
   "source": [
    "# select all pixels that have a Y' value between certain values\n",
    "# lets test first with 250 arcsec from south\n",
    "# it worked, lets through it all\n",
    "beammajHC3N = (clusters_headHC3N['bmaj']*u.deg).to(u.arcsec)\n",
    "yymin, yymax = np.nanmin(mask_redHC3N * YYprimeHC3N_arcsec), np.nanmax(mask_redHC3N * YYprimeHC3N_arcsec)\n",
    "nbeamsfiber = ((yymax - yymin)/beammajHC3N).value.astype(int)\n",
    "yyarray = np.linspace(yymin+ beammajHC3N/2, yymax- beammajHC3N/2, nbeamsfiber)\n",
    "xxarray_master =  []\n",
    "velarray_master = []"
   ]
  },
  {
   "cell_type": "code",
   "execution_count": null,
   "id": "e44873ef-eb61-4b6f-b7d0-a6d22cf0b3f9",
   "metadata": {},
   "outputs": [],
   "source": [
    "yymin, yymax"
   ]
  },
  {
   "cell_type": "code",
   "execution_count": null,
   "id": "b08cc7ce-3598-45d9-9198-a415737ed820",
   "metadata": {},
   "outputs": [],
   "source": [
    "for j in range(len(yyarray)):\n",
    "    yyminprime = yyarray[j] - beammajHC3N/2\n",
    "    yymaxprime = yyarray[j] + beammajHC3N/2\n",
    "\n",
    "    velareamask = np.where(YYprimeHC3N_arcsec<yymaxprime, 1, np.nan) * np.where(YYprimeHC3N_arcsec>yyminprime, 1, np.nan)\n",
    "    velarea = velareamask * clusters_redHC3N[1]\n",
    "    velareaunc = velareamask * clusters_redHC3N[4]\n",
    "    XXprimearea = XXprimeHC3N_arcsec * velareamask * mask_redHC3N\n",
    "\n",
    "    xxmin, xxmax = np.nanmin(XXprimearea), np.nanmax(XXprimearea)\n",
    "    nbeams = ((xxmax - xxmin)/beammajHC3N).value.astype(int)\n",
    "    xxarray = np.linspace(xxmin+ beammajHC3N/2, xxmax- beammajHC3N/2, nbeams)\n",
    "    xxarray_master.append(xxarray)\n",
    "    velarray = np.zeros(np.shape(xxarray)) * np.nan\n",
    "\n",
    "    for i in range(len(xxarray)):\n",
    "        xxminprime = xxarray[i] - beammajHC3N/2 \n",
    "        xxmaxprime = xxarray[i] + beammajHC3N/2\n",
    "        velarraymask = np.where(XXprimearea<xxmaxprime, 1, np.nan)*np.where(XXprimearea>xxminprime, 1, np.nan)\n",
    "        velarray[i] = np.nanmean(velarraymask * velarea)\n",
    "    velarray_master.append(velarray)"
   ]
  },
  {
   "cell_type": "code",
   "execution_count": null,
   "id": "35daab46-6a96-41c3-a4a5-a3dce8db8558",
   "metadata": {},
   "outputs": [],
   "source": [
    "fig = plt.figure()\n",
    "ax = fig.add_subplot(111)\n",
    "for j in range(len(xxarray_master)):\n",
    "    ax.plot(xxarray_master[j], velarray_master[j], color='k', alpha=0.1)"
   ]
  },
  {
   "cell_type": "markdown",
   "id": "bebbb34d-3905-481d-bd78-e6f7a1b21f44",
   "metadata": {},
   "source": [
    "### KDE of each fiber"
   ]
  },
  {
   "cell_type": "code",
   "execution_count": 11,
   "id": "84f50a81-d325-4a31-b012-be715be06cc0",
   "metadata": {
    "tags": []
   },
   "outputs": [],
   "source": [
    "# now we do the KDE of each fiber\n",
    "velarray_redfiberhc3n = clusters_redHC3N[1]\n",
    "velarray_bluefiberhc3n = clusters_blueHC3N[1]\n",
    "velarray_redfibern2hp = clusters_redN2Hp[1]\n",
    "velarray_bluefibern2hp = clusters_blueN2Hp[1]\n",
    "\n",
    "intarray_redfiberhc3n = clusters_redHC3N[0]\n",
    "intarray_bluefiberhc3n = clusters_blueHC3N[0]\n",
    "intarray_redfibern2hp = clusters_redN2Hp[0]\n",
    "intarray_bluefibern2hp = clusters_blueN2Hp[0]\n",
    "\n",
    "kdefile_redHC3N_across = 'KDE_red_HC3N_across.npy'\n",
    "kdefile_blueHC3N_across = 'KDE_blue_HC3N_across.npy'\n",
    "kdefile_redHC3N_along = 'KDE_red_HC3N_along.npy'\n",
    "kdefile_blueHC3N_along = 'KDE_blue_HC3N_along.npy'\n",
    "\n",
    "kdefile_redN2Hp_across = 'KDE_red_N2Hp_across.npy'\n",
    "kdefile_blueN2Hp_across = 'KDE_blue_N2Hp_across.npy'\n",
    "kdefile_redN2Hp_along = 'KDE_red_N2Hp_along.npy'\n",
    "kdefile_blueN2Hp_along = 'KDE_blue_N2Hpalong.npy'"
   ]
  },
  {
   "cell_type": "code",
   "execution_count": null,
   "id": "4fccfe6f-e8f0-46e3-bdad-3cf7f7430b55",
   "metadata": {
    "tags": []
   },
   "outputs": [],
   "source": [
    "gcut_vlos_redHC3N = np.isfinite(velarray_redfiberhc3n*XXprimeHC3N_arcsec)\n",
    "gcut_vlos_blueHC3N = np.isfinite(velarray_bluefiberhc3n*XXprimeHC3N_arcsec)\n",
    "\n",
    "fig = plt.figure()\n",
    "ax = fig.add_subplot(111)\n",
    "ax.scatter(XXprimeHC3N_arcsec.value[gcut_vlos_redHC3N] * distance.value, \n",
    "           velarray_redfiberhc3n[gcut_vlos_redHC3N], s=0.5,\n",
    "           c=intarray_redfiberhc3n[gcut_vlos_redHC3N])\n",
    "ax.scatter(XXprimeHC3N_arcsec.value[gcut_vlos_blueHC3N] * distance.value, \n",
    "           velarray_bluefiberhc3n[gcut_vlos_blueHC3N], s=0.5,\n",
    "           c=intarray_bluefiberhc3n[gcut_vlos_blueHC3N], cmap='inferno')\n",
    "\n",
    "ax.set_xlabel('Distance (au)')\n",
    "ax.set_ylabel(r'$v_{\\mathrm{LSR}}$(km s$^{-1}$)')"
   ]
  },
  {
   "cell_type": "code",
   "execution_count": null,
   "id": "583678f0-f2cd-47a9-bc41-af2bc0c6810a",
   "metadata": {
    "tags": []
   },
   "outputs": [],
   "source": [
    "gcut_vlos_redN2Hp = np.isfinite(velarray_redfibern2hp*XXprimeN2Hp_arcsec)\n",
    "gcut_vlos_blueN2Hp = np.isfinite(velarray_bluefibern2hp*XXprimeN2Hp_arcsec)\n",
    "\n",
    "fig = plt.figure()\n",
    "ax = fig.add_subplot(111)\n",
    "ax.scatter(XXprimeN2Hp_arcsec.value[gcut_vlos_redN2Hp] * distance.value, \n",
    "           velarray_redfibern2hp[gcut_vlos_redN2Hp], s=0.5,\n",
    "           c=intarray_redfibern2hp[gcut_vlos_redN2Hp])\n",
    "ax.scatter(XXprimeN2Hp_arcsec.value[gcut_vlos_blueN2Hp] * distance.value, \n",
    "           velarray_bluefibern2hp[gcut_vlos_blueN2Hp], s=0.5,\n",
    "           c=intarray_bluefibern2hp[gcut_vlos_blueN2Hp], cmap='inferno')\n",
    "\n",
    "ax.set_xlabel('Distance (au)')\n",
    "ax.set_ylabel(r'$v_{\\mathrm{LSR}}$(km s$^{-1}$)')"
   ]
  },
  {
   "cell_type": "code",
   "execution_count": null,
   "id": "a147c822-2bbd-4b2b-b651-f1a2f2491882",
   "metadata": {
    "tags": []
   },
   "outputs": [],
   "source": [
    "gcut_vlos_redHC3N = np.isfinite(velarray_redfiberhc3n*YYprimeHC3N_arcsec)\n",
    "gcut_vlos_blueHC3N = np.isfinite(velarray_bluefiberhc3n*YYprimeHC3N_arcsec)\n",
    "\n",
    "fig = plt.figure()\n",
    "ax = fig.add_subplot(111)\n",
    "ax.scatter(YYprimeHC3N_arcsec.value[gcut_vlos_redHC3N] * distance.value, \n",
    "           velarray_redfiberhc3n[gcut_vlos_redHC3N], s=0.5,\n",
    "           c=intarray_redfiberhc3n[gcut_vlos_redHC3N])\n",
    "ax.scatter(YYprimeHC3N_arcsec.value[gcut_vlos_blueHC3N] * distance.value, \n",
    "           velarray_bluefiberhc3n[gcut_vlos_blueHC3N], s=0.5,\n",
    "           c=intarray_bluefiberhc3n[gcut_vlos_blueHC3N], cmap='inferno')\n",
    "\n",
    "ax.set_xlabel('Distance (au)')\n",
    "ax.set_ylabel(r'$v_{\\mathrm{LSR}}$(km s$^{-1}$)')"
   ]
  },
  {
   "cell_type": "code",
   "execution_count": 13,
   "id": "a6d89179-6bfe-4bdc-a0f5-fc56864b79e3",
   "metadata": {
    "tags": []
   },
   "outputs": [
    {
     "data": {
      "text/plain": [
       "0.6981317007977318"
      ]
     },
     "execution_count": 13,
     "metadata": {},
     "output_type": "execute_result"
    }
   ],
   "source": [
    "rotangle"
   ]
  },
  {
   "cell_type": "code",
   "execution_count": 14,
   "id": "535fe36e-b7e5-4517-93b7-83f950356813",
   "metadata": {
    "tags": []
   },
   "outputs": [
    {
     "data": {
      "text/plain": [
       "[<matplotlib.lines.Line2D at 0x7fee4902d9a0>]"
      ]
     },
     "execution_count": 14,
     "metadata": {},
     "output_type": "execute_result"
    },
    {
     "data": {
      "image/png": "[encoded data removed]",
      "text/plain": [
       "<Figure size 640x480 with 1 Axes>"
      ]
     },
     "metadata": {},
     "output_type": "display_data"
    }
   ],
   "source": [
    "fig = plt.figure()\n",
    "ax = fig.add_subplot(111, projection=wcs2)\n",
    "ax.imshow(velarray_redfiberhc3n)\n",
    "ax.plot(xarray2, xarray2*np.tan((50*u.deg).to(u.rad).value))"
   ]
  },
  {
   "cell_type": "markdown",
   "id": "eacaddae-beb4-4334-acc4-aa675fa9c50a",
   "metadata": {},
   "source": [
    "### KDE across each fiber\n"
   ]
  },
  {
   "cell_type": "code",
   "execution_count": null,
   "id": "81332363-699e-4627-a56d-f85d190bf5a2",
   "metadata": {},
   "outputs": [],
   "source": []
  },
  {
   "cell_type": "code",
   "execution_count": null,
   "id": "88736ca1-e496-4bf0-8385-0c4fe21a2c56",
   "metadata": {},
   "outputs": [],
   "source": [
    "\n",
    "# here we build the space for the KDE to be plotted\n",
    "xmin = -40000\n",
    "xmax = 40000\n",
    "# y is velocity lsr\n",
    "ymin = 6\n",
    "ymax = 9\n",
    "\n",
    "xx, yy = np.mgrid[xmin:xmax:100j, ymin:ymax:100j]\n",
    "positions = np.vstack([xx.ravel(), yy.ravel()])\n",
    "\n",
    "if not os.path.exists(kdefile_redHC3N_across):\n",
    "    gcut_vlos_redHC3N = np.isfinite(velarray_redfiberhc3n*XXprimeHC3N_arcsec)\n",
    "    values_across_redHC3N = np.vstack([XXprimeHC3N_arcsec.value[gcut_vlos_redHC3N] * distance.value, velarray_redfiberhc3n[gcut_vlos_redHC3N]])\n",
    "    kernel_redHC3N = gaussian_kde(values_across_redHC3N)\n",
    "    zz_redHC3N = np.reshape(kernel_redHC3N(positions).T, xx.shape)\n",
    "    zz_redHC3N /= zz_redHC3N.max() \n",
    "    np.save(kdefile_redHC3N_across, zz_redHC3N)\n",
    "else:\n",
    "    zz_redHC3N = np.load(kdefile_redHC3N_across)\n",
    "\n",
    "\n",
    "if not os.path.exists(kdefile_blueHC3N_across):\n",
    "    gcut_vlos_blueHC3N = np.isfinite(velarray_bluefiberhc3n*XXprimeHC3N_arcsec)\n",
    "    values_across_blueHC3N = np.vstack([XXprimeHC3N_arcsec.value[gcut_vlos_blueHC3N] * distance.value, velarray_bluefiberhc3n[gcut_vlos_blueHC3N]])\n",
    "    kernel_blueHC3N = gaussian_kde(values_across_blueHC3N)\n",
    "    zz_blueHC3N = np.reshape(kernel_blueHC3N(positions).T, xx.shape)\n",
    "    zz_blueHC3N /= zz_blueHC3N.max() \n",
    "    np.save(kdefile_blueHC3N_across, zz_blueHC3N)\n",
    "else:\n",
    "    zz_blueHC3N = np.load(kdefile_blueHC3N_across)\n",
    "\n",
    "\n",
    "    \n",
    "if not os.path.exists(kdefile_redN2Hp_across):\n",
    "    gcut_vlos_redN2Hp = np.isfinite(velarray_redfibern2hp*XXprimeN2Hp_arcsec)\n",
    "    values_across_redN2Hp = np.vstack([XXprimeN2Hp_arcsec.value[gcut_vlos_redN2Hp] * distance.value, velarray_redfibern2hp[gcut_vlos_redN2Hp]])\n",
    "    kernel_redN2Hp = gaussian_kde(values_across_redN2Hp)\n",
    "    zz_redN2Hp = np.reshape(kernel_redN2Hp(positions).T, xx.shape)\n",
    "    zz_redN2Hp /= zz_redN2Hp.max() \n",
    "    np.save(kdefile_redN2Hp_across, zz_redN2Hp)\n",
    "else:\n",
    "    zz_redN2Hp = np.load(kdefile_redN2Hp_across)\n",
    "\n",
    "\n",
    "if not os.path.exists(kdefile_blueN2Hp_across):\n",
    "    gcut_vlos_blueN2Hp = np.isfinite(velarray_bluefibern2hp*XXprimeN2Hp_arcsec)\n",
    "    values_across_blueN2Hp = np.vstack([XXprimeN2Hp_arcsec.value[gcut_vlos_blueN2Hp] * distance.value, velarray_bluefibern2hp[gcut_vlos_blueN2Hp]])\n",
    "    kernel_blueN2Hp = gaussian_kde(values_across_blueN2Hp)\n",
    "    zz_blueN2Hp = np.reshape(kernel_blueN2Hp(positions).T, xx.shape)\n",
    "    zz_blueN2Hp /= zz_blueN2Hp.max() \n",
    "    np.save(kdefile_blueN2Hp_across, zz_blueN2Hp)\n",
    "else:\n",
    "    zz_blueN2Hp = np.load(kdefile_blueN2Hp_across)\n",
    "\n"
   ]
  },
  {
   "cell_type": "code",
   "execution_count": null,
   "id": "54ac4291-e357-4f92-bf42-931cbd23fdd3",
   "metadata": {
    "tags": []
   },
   "outputs": [],
   "source": [
    "fig = plt.figure()\n",
    "ax = fig.add_subplot(211)\n",
    "cs1 = ax.contourf(xx, yy, zz_redHC3N, cmap='Reds', levels=np.arange(0.05, 1.2, 0.05), vmin=0., vmax=1.1, alpha=0.5)\n",
    "ax.contour(xx, yy, zz_redHC3N, colors='r', levels=np.arange(0.05, 1.2, 0.05), vmin=0., vmax=1.1, linewidths=0.1)\n",
    "cs2 = ax.contourf(xx, yy, zz_blueHC3N, cmap='Blues', levels=np.arange(0.05, 1.2, 0.05), vmin=0., vmax=1.1,alpha=0.5)\n",
    "ax.contour(xx, yy, zz_blueHC3N, colors='b', levels=np.arange(0.05, 1.2, 0.05), vmin=0., vmax=1.1, linewidths=0.1)\n",
    "# ax.axhline(v_lsr.value, color='k')\n",
    "# ax.axhline(v_lsr.value, color='k')\n",
    "ax.set_ylim([ymin,ymax])\n",
    "ax.set_xlim([xmin,xmax])\n",
    "ax.set_title('Velocity across the fibers hc3n')\n",
    "\n",
    "ax.set_xlabel('Distance (au)')\n",
    "ax.set_ylabel(r'$v_{\\mathrm{LSR}}$(km s$^{-1}$)')\n",
    "# fig.savefig('KDE_sig_across_filament.pdf', bbox_inches='tight')\n",
    "\n",
    "ax2 = fig.add_subplot(212)\n",
    "cs1 = ax2.contourf(xx, yy, zz_redN2Hp, cmap='Reds', levels=np.arange(0.05, 1.2, 0.05), vmin=0., vmax=1.1, alpha=0.5)\n",
    "ax2.contour(xx, yy, zz_redN2Hp, colors='r', levels=np.arange(0.05, 1.2, 0.05), vmin=0., vmax=1.1, linewidths=0.1)\n",
    "cs2 = ax2.contourf(xx, yy, zz_blueN2Hp, cmap='Blues', levels=np.arange(0.05, 1.2, 0.05), vmin=0., vmax=1.1,alpha=0.5)\n",
    "ax2.contour(xx, yy, zz_blueN2Hp, colors='b', levels=np.arange(0.05, 1.2, 0.05), vmin=0., vmax=1.1, linewidths=0.1)\n",
    "ax2.set_title('Velocity across the fibers n2hp')"
   ]
  },
  {
   "cell_type": "markdown",
   "id": "9fd02283-0686-458f-b2c6-d753938dce9b",
   "metadata": {},
   "source": [
    "### KDE along each fiber"
   ]
  },
  {
   "cell_type": "code",
   "execution_count": null,
   "id": "634a82ad-2a8b-47ba-973c-e7fdf306ff2b",
   "metadata": {
    "tags": []
   },
   "outputs": [],
   "source": [
    "\n",
    "# here we build the space for the KDE to be plotted\n",
    "xmin = 0\n",
    "xmax = 150000\n",
    "# y is velocity lsr\n",
    "ymin = 6\n",
    "ymax = 9\n",
    "\n",
    "xx, yy = np.mgrid[xmin:xmax:100j, ymin:ymax:100j]\n",
    "positions = np.vstack([xx.ravel(), yy.ravel()])\n",
    "\n",
    "if not os.path.exists(kdefile_redHC3N_along):\n",
    "    gcut_vlos_redHC3N = np.isfinite(velarray_redfiberhc3n*YYprimeHC3N_arcsec)\n",
    "    values_along_redHC3N = np.vstack([YYprimeHC3N_arcsec.value[gcut_vlos_redHC3N] * distance.value, velarray_redfiberhc3n[gcut_vlos_redHC3N]])\n",
    "    kernel_redHC3N = gaussian_kde(values_along_redHC3N)\n",
    "    zz_redHC3N = np.reshape(kernel_redHC3N(positions).T, xx.shape)\n",
    "    zz_redHC3N /= zz_redHC3N.max() \n",
    "    np.save(kdefile_redHC3N_along, zz_redHC3N)\n",
    "else:\n",
    "    zz_redHC3N = np.load(kdefile_redHC3N_along)\n",
    "\n",
    "\n",
    "if not os.path.exists(kdefile_blueHC3N_along):\n",
    "    gcut_vlos_blueHC3N = np.isfinite(velarray_bluefiberhc3n*YYprimeHC3N_arcsec)\n",
    "    values_along_blueHC3N = np.vstack([YYprimeHC3N_arcsec.value[gcut_vlos_blueHC3N] * distance.value, velarray_bluefiberhc3n[gcut_vlos_blueHC3N]])\n",
    "    kernel_blueHC3N = gaussian_kde(values_along_blueHC3N)\n",
    "    zz_blueHC3N = np.reshape(kernel_blueHC3N(positions).T, xx.shape)\n",
    "    zz_blueHC3N /= zz_blueHC3N.max() \n",
    "    np.save(kdefile_blueHC3N_along, zz_blueHC3N)\n",
    "else:\n",
    "    zz_blueHC3N = np.load(kdefile_blueHC3N_along)\n",
    "\n",
    "\n",
    "    \n",
    "if not os.path.exists(kdefile_redN2Hp_along):\n",
    "    gcut_vlos_redN2Hp = np.isfinite(velarray_redfibern2hp*YYprimeN2Hp_arcsec)\n",
    "    values_along_redN2Hp = np.vstack([YYprimeN2Hp_arcsec.value[gcut_vlos_redN2Hp] * distance.value, velarray_redfibern2hp[gcut_vlos_redN2Hp]])\n",
    "    kernel_redN2Hp = gaussian_kde(values_along_redN2Hp)\n",
    "    zz_redN2Hp = np.reshape(kernel_redN2Hp(positions).T, xx.shape)\n",
    "    zz_redN2Hp /= zz_redN2Hp.max() \n",
    "    np.save(kdefile_redN2Hp_along, zz_redN2Hp)\n",
    "else:\n",
    "    zz_redN2Hp = np.load(kdefile_redN2Hp_along)\n",
    "\n",
    "\n",
    "if not os.path.exists(kdefile_blueN2Hp_along):\n",
    "    gcut_vlos_blueN2Hp = np.isfinite(velarray_bluefibern2hp*YYprimeN2Hp_arcsec)\n",
    "    values_along_blueN2Hp = np.vstack([YYprimeN2Hp_arcsec.value[gcut_vlos_blueN2Hp] * distance.value, velarray_bluefibern2hp[gcut_vlos_blueN2Hp]])\n",
    "    kernel_blueN2Hp = gaussian_kde(values_along_blueN2Hp)\n",
    "    zz_blueN2Hp = np.reshape(kernel_blueN2Hp(positions).T, xx.shape)\n",
    "    zz_blueN2Hp /= zz_blueN2Hp.max() \n",
    "    np.save(kdefile_blueN2Hp_along, zz_blueN2Hp)\n",
    "else:\n",
    "    zz_blueN2Hp = np.load(kdefile_blueN2Hp_along)\n"
   ]
  },
  {
   "cell_type": "code",
   "execution_count": null,
   "id": "f926087e-af33-4d02-9610-c42ff48082fb",
   "metadata": {
    "tags": []
   },
   "outputs": [],
   "source": [
    "fig = plt.figure()\n",
    "ax = fig.add_subplot(211)\n",
    "cs1 = ax.contourf(xx, yy, zz_redHC3N, cmap='Reds', levels=np.arange(0.05, 1.2, 0.05), vmin=0., vmax=1.1, alpha=0.5)\n",
    "ax.contour(xx, yy, zz_redHC3N, colors='r', levels=np.arange(0.05, 1.2, 0.05), vmin=0., vmax=1.1, linewidths=0.1)\n",
    "cs2 = ax.contourf(xx, yy, zz_blueHC3N, cmap='Blues', levels=np.arange(0.05, 1.2, 0.05), vmin=0., vmax=1.1,alpha=0.5)\n",
    "ax.contour(xx, yy, zz_blueHC3N, colors='b', levels=np.arange(0.05, 1.2, 0.05), vmin=0., vmax=1.1, linewidths=0.1)\n",
    "# ax.axhline(v_lsr.value, color='k')\n",
    "# ax.axhline(v_lsr.value, color='k')\n",
    "ax.set_ylim([ymin,ymax])\n",
    "ax.set_xlim([xmin,xmax])\n",
    "ax.set_title('Velocity along the fibers hc3n')\n",
    "ax.grid(True)\n",
    "ax.set_xlabel('Distance (au)')\n",
    "ax.set_ylabel(r'$v_{\\mathrm{LSR}}$(km s$^{-1}$)')\n",
    "# fig.savefig('KDE_sig_across_filament.pdf', bbox_inches='tight')\n",
    "\n",
    "ax2 = fig.add_subplot(212)\n",
    "\n",
    "cs1 = ax2.contourf(xx, yy, zz_redN2Hp, cmap='Reds', levels=np.arange(0.05, 1.2, 0.05), vmin=0., vmax=1.1, alpha=0.5)\n",
    "ax2.contour(xx, yy, zz_redN2Hp, colors='r', levels=np.arange(0.05, 1.2, 0.05), vmin=0., vmax=1.1, linewidths=0.1)\n",
    "cs2 = ax2.contourf(xx, yy, zz_blueN2Hp, cmap='Blues', levels=np.arange(0.05, 1.2, 0.05), vmin=0., vmax=1.1,alpha=0.5)\n",
    "ax2.contour(xx, yy, zz_blueN2Hp, colors='b', levels=np.arange(0.05, 1.2, 0.05), vmin=0., vmax=1.1, linewidths=0.1)\n",
    "ax2.set_title('Velocity along the fibers n2hp')\n",
    "ax2.grid(True)"
   ]
  },
  {
   "cell_type": "code",
   "execution_count": null,
   "id": "76b59418-ec19-4caa-a6af-df2656dafe69",
   "metadata": {},
   "outputs": [],
   "source": []
  }
 ],
 "metadata": {
  "kernelspec": {
   "display_name": "Python 3 (ipykernel)",
   "language": "python",
   "name": "python3"
  },
  "language_info": {
   "codemirror_mode": {
    "name": "ipython",
    "version": 3
   },
   "file_extension": ".py",
   "mimetype": "text/x-python",
   "name": "python",
   "nbconvert_exporter": "python",
   "pygments_lexer": "ipython3",
   "version": "3.8.16"
  }
 },
 "nbformat": 4,
 "nbformat_minor": 5
}
