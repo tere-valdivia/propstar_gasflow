{
 "cells": [
  {
   "cell_type": "markdown",
   "id": "362b4456-784b-48c5-a554-f0da677b6574",
   "metadata": {},
   "source": [
    "# Analysis via zoom into protostars and cutouts of the N$_2$H$^+$ cube\n",
    "The same we did for HC3N but we separate the files to keep order"
   ]
  },
  {
   "cell_type": "code",
   "execution_count": 1,
   "id": "3debf48e-e1eb-47ce-9bb5-ee5a824d9f01",
   "metadata": {},
   "outputs": [],
   "source": [
    "import numpy as np\n",
    "import os\n",
    "import astropy.units as u\n",
    "from astropy.wcs import WCS\n",
    "from astropy.io import fits\n",
    "from astropy.coordinates import SkyCoord, FK5\n",
    "from astropy.nddata.utils import Cutout2D\n",
    "from spectral_cube import SpectralCube\n",
    "import pandas as pd\n",
    "from glob import glob\n",
    "from pvextractor import PathFromCenter, Path, extract_pv_slice\n",
    "\n",
    "import matplotlib.pyplot as plt\n",
    "import matplotlib.font_manager as fm\n",
    "from matplotlib import cm\n",
    "%matplotlib widget\n",
    "\n",
    "sourcecat = '../../data/my_catalog_vel.csv'\n",
    "cubefile = '../../data/NGC1333-N2Hp_match_kms_F1F_01_12.fits'\n",
    "mlex1file = '../../bayes_frame/nested-sampling/N2Hp/NGC1333-SE-mle-x1_filtered_QA.fits'\n",
    "mlex2file = '../../bayes_frame/nested-sampling/N2Hp/NGC1333-SE-mle-x2_filtered_QA.fits'\n",
    "#I think in some cases we also need the clusters\n",
    "cut_clusters = True\n",
    "clusters_n2hp_files = sorted(glob('../../clustering/cluster*[0-9]_DBSCAN_N2Hp.fits'))\n",
    "\n",
    "\n",
    "radiuscut_au = 10000\n",
    "distance = 298 # pc\n",
    "radiuscut = radiuscut_au / distance *u.arcsec # "
   ]
  },
  {
   "cell_type": "code",
   "execution_count": 2,
   "id": "b8799841-05c2-41b6-9d7a-0a0cb89a380f",
   "metadata": {},
   "outputs": [],
   "source": [
    "cube = SpectralCube.read(cubefile)\n",
    "wcsskycube = WCS(cube.header).celestial\n",
    "\n",
    "mlex1, mlex1head = fits.getdata(mlex1file, header=True)\n",
    "mlex2, mlex2head = fits.getdata(mlex2file, header=True)\n",
    "\n",
    "if cut_clusters:\n",
    "    cluster_n2hp_master = [fits.getdata(filein) for filein in clusters_n2hp_files]\n",
    "    cluster_head = fits.getheader(clusters_n2hp_files[0])\n",
    "\n",
    "catalog_protostars = pd.read_csv(sourcecat)\n"
   ]
  },
  {
   "cell_type": "code",
   "execution_count": 3,
   "id": "a101eaf7-dc23-44ea-9159-1d03029cd92c",
   "metadata": {},
   "outputs": [],
   "source": [
    "sourcename = 'Per-emb-15'\n",
    "catalogno = 3\n",
    "racent, deccent = catalog_protostars.loc[catalogno, ['RAJ2000', 'DEJ2000']].values\n",
    "subcubes_basename = sourcename + '_N2Hp_{}'\n",
    "vlsr = catalog_protostars.loc[catalogno, 'vlsr']"
   ]
  },
  {
   "cell_type": "code",
   "execution_count": 4,
   "id": "ccb84554-93a6-4809-ab70-79f23a456b0e",
   "metadata": {},
   "outputs": [],
   "source": [
    "# here we cut the images\n",
    "centerx, centery = wcsskycube.all_world2pix([racent], [deccent], 0)\n",
    "centerx, centery = int(centerx[0]), int(centery[0])\n",
    "\n",
    "radiuspix = int(np.round(radiuscut.to(u.deg).value / np.abs(cube.header['CDELT2']), 0))"
   ]
  },
  {
   "cell_type": "code",
   "execution_count": 5,
   "id": "a5fef44e-2f53-4d83-8698-717598a6e9fe",
   "metadata": {},
   "outputs": [],
   "source": [
    "if not os.path.exists(subcubes_basename.format('cube.fits')):\n",
    "    subcube = cube[:, centery-radiuspix:centery+radiuspix, centerx-radiuspix:centerx+radiuspix]\n",
    "    subcube.write(subcubes_basename.format('cube.fits'))\n",
    "else:\n",
    "    subcube = SpectralCube.read(subcubes_basename.format('cube.fits'))\n",
    "headersmall = subcube.header\n",
    "headersmall_mle = WCS(headersmall).celestial.to_header()\n",
    "headersmall_mle['NAXIS'] = 3\n",
    "headersmall_mle['BUNIT'] = 'km s-1'\n",
    "headersmall_mle['BMAJ'] = headersmall['BMAJ']\n",
    "headersmall_mle['BMIN'] = headersmall['BMIN']\n",
    "headersmall_mle['BPA'] = headersmall['BPA']\n",
    "headersmall_mle['RESTFREQ'] = headersmall['RESTFREQ']"
   ]
  },
  {
   "cell_type": "code",
   "execution_count": 6,
   "id": "370d119f-78f0-4a37-a3b5-1cd911ee37bb",
   "metadata": {},
   "outputs": [],
   "source": [
    "\n",
    "if not os.path.exists(subcubes_basename.format('mlex1.fits')):\n",
    "    submlex1 = mlex1[:, centery-radiuspix:centery+radiuspix, centerx-radiuspix:centerx+radiuspix]\n",
    "    headersmall_mle['NAXIS3'] = 6\n",
    "    fits.writeto(subcubes_basename.format('mlex1.fits'), submlex1, headersmall_mle)\n",
    "else:\n",
    "    submlex1, headersmall_mle = fits.getdata(subcubes_basename.format('mlex1.fits'), header=True)\n",
    "\n",
    "if not os.path.exists(subcubes_basename.format('mlex2.fits')):\n",
    "    submlex2 = mlex2[:, centery-radiuspix:centery+radiuspix, centerx-radiuspix:centerx+radiuspix]\n",
    "    headersmall_mle['NAXIS3'] = 12\n",
    "    fits.writeto(subcubes_basename.format('mlex2.fits'), submlex2, headersmall_mle)\n",
    "else:\n",
    "    submlex2, headersmall_mle = fits.getdata(subcubes_basename.format('mlex2.fits'), header=True) \n"
   ]
  },
  {
   "cell_type": "code",
   "execution_count": 7,
   "id": "6d3388d3-9717-4277-bda4-69082bb4e796",
   "metadata": {},
   "outputs": [],
   "source": [
    "if cut_clusters:\n",
    "    subclusters_master = []\n",
    "    for i, cluster in enumerate(cluster_n2hp_master):\n",
    "        if not os.path.exists(subcubes_basename.format('cluster{}.fits'.format(i))):\n",
    "            subcluster = cluster[:, centery-radiuspix:centery+radiuspix, centerx-radiuspix:centerx+radiuspix]\n",
    "            if np.isnan(subcluster).all(): continue\n",
    "            else:\n",
    "                subclusters_master.append(subcluster)\n",
    "                headersmall_mle['NAXIS3'] = 6\n",
    "                fits.writeto(subcubes_basename.format('cluster{}.fits'.format(i)), subcluster, headersmall_mle)\n",
    "        else:\n",
    "            subclusters_master.append(fits.getdata(subcubes_basename.format('cluster{}.fits'.format(i))))"
   ]
  },
  {
   "cell_type": "markdown",
   "id": "08ee33c2-3dd6-4d32-9e6b-d5999ad39a08",
   "metadata": {},
   "source": [
    "## Exploration plots"
   ]
  },
  {
   "cell_type": "code",
   "execution_count": 13,
   "id": "faa5de1a-7d04-42b5-af8c-6f4982c467a7",
   "metadata": {},
   "outputs": [
    {
     "name": "stdout",
     "output_type": "stream",
     "text": [
      "\n"
     ]
    }
   ],
   "source": [
    "# pv diagrams\n",
    "\n",
    "pa_angle = (-35+90)*u.deg #degrees from north\n",
    "widtharcsec = (cube.header['bmaj'] * u.deg).to(u.arcsec)\n",
    "# centerxdeg, centerydeg = catalog_protostars.loc[catalogno, 'RAJ2000']*u.deg, catalog_protostars.loc[catalogno, 'DEJ2000']*u.deg\n",
    "racent, deccent = catalog_protostars.loc[catalogno, ['RAJ2000', 'DEJ2000']] * u.deg\n",
    "length = (10000 / 293 *u.arcsec).to(u.deg)\n",
    "gcent = SkyCoord(racent, deccent)\n",
    "pvfilename = subcubes_basename.format('pvdiag.fits')\n",
    "pathcent = PathFromCenter(center=gcent, length=length, angle=pa_angle, width=widtharcsec)\n",
    "slice1 = extract_pv_slice(cube, pathcent)\n",
    "slice1.header['CRPIX1'] = int(slice1.header['NAXIS1']/2) # by default the reference offset is the first pixel\n",
    "slice1.writeto(pvfilename, overwrite=True)"
   ]
  },
  {
   "cell_type": "code",
   "execution_count": 15,
   "id": "ad7a8d04-bcdf-435c-a310-71b941d5425c",
   "metadata": {
    "tags": []
   },
   "outputs": [],
   "source": [
    "pvarcsecfilename = subcubes_basename.format('pvdiag_arcsec.fits')\n",
    "pvheader = fits.getheader(pvfilename)\n",
    "pvdata = np.flip(slice1.data, axis=0) # so that the velocities grow instead of decreasing\n",
    "pvheader['CDELT1'] = pvheader['CDELT1']*3600 # change to arcsec\n",
    "pvheader['CUNIT1'] = 'arcsec'\n",
    "if np.sign(pvheader['CDELT2'])<0:\n",
    "    velinit = pvheader['CRVAL2'] + pvheader['CDELT2'] * (pvheader['NAXIS2'] - pvheader['CRPIX2']) # this is the velocity in the new first pixel\n",
    "    pvheader['CRPIX2'] = 1 # the first pixel is our new reference\n",
    "    pvheader['CRVAL2'] = velinit # the first pixel will have the lowest velocity\n",
    "    pvheader['CDELT2'] *= -1 \n",
    "hdu = fits.PrimaryHDU(data=pvdata, header=pvheader)\n",
    "hdu.writeto(pvarcsecfilename, overwrite=True)"
   ]
  },
  {
   "cell_type": "code",
   "execution_count": 16,
   "id": "0c23e5b4-9418-4f86-acfa-e6ab38b6f9c5",
   "metadata": {
    "tags": []
   },
   "outputs": [
    {
     "data": {
      "application/vnd.jupyter.widget-view+json": {
       "model_id": "82f4728f7ea94e328af9d1afe99b7688",
       "version_major": 2,
       "version_minor": 0
      },
      "image/png": "[encoded data removed]",
      "text/html": [
       "\n",
       "            <div style=\"display: inline-block;\">\n",
       "                <div class=\"jupyter-widgets widget-label\" style=\"text-align: center;\">\n",
       "                    Figure\n",
       "                </div>\n",
       "                <img src='data:image/png;base64,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' width=600.0/>\n",
       "            </div>\n",
       "        "
      ],
      "text/plain": [
       "Canvas(toolbar=Toolbar(toolitems=[('Home', 'Reset original view', 'home', 'home'), ('Back', 'Back to previous …"
      ]
     },
     "metadata": {},
     "output_type": "display_data"
    }
   ],
   "source": [
    "delta0 = pvheader['CRVAL1']\n",
    "delta_delta = pvheader['CDELT1']\n",
    "delta_pix0 = pvheader['CRPIX1']\n",
    "delta_npix = pvheader['NAXIS1']\n",
    "vel0 = pvheader['CRVAL2']\n",
    "delta_vel = pvheader['CDELT2']\n",
    "vel_pix0 = pvheader['CRPIX2']\n",
    "vel_npix = pvheader['NAXIS2']\n",
    "\n",
    "\n",
    "delta_array = np.array([delta0 + delta_delta*(i-delta_pix0) for i in range(delta_npix)]) * u.arcsec\n",
    "vel_array = np.array([vel0 + delta_vel * (i - vel_pix0) for i in range(vel_npix)]) * u.m/u.s\n",
    "vel_array = vel_array.to(u.km/u.s)\n",
    "distance_array = (delta_array).value * 293 * u.au \n",
    "# we create the meshgrid to plot\n",
    "offset, vel = np.meshgrid(distance_array, vel_array)\n",
    "\n",
    "fig = plt.figure(figsize=(6,6))\n",
    "ax = fig.add_subplot(111)\n",
    "pcolor = ax.pcolor(offset.value, vel.value, pvdata, shading='auto', cmap='Oranges')\n",
    "ax.axhline(vlsr, color='k', ls=':', alpha=0.5)\n",
    "ax.set_xlabel('Offset (au)')\n",
    "ax.set_ylabel(r'Velocity (km s$^{-1}$)')\n",
    "ax.set_ylim([5,8.5])\n",
    "ax.invert_xaxis()"
   ]
  },
  {
   "cell_type": "code",
   "execution_count": null,
   "id": "4a6cec1b-3e8b-48cd-b0d1-14a43c78c8bc",
   "metadata": {},
   "outputs": [],
   "source": []
  }
 ],
 "metadata": {
  "kernelspec": {
   "display_name": "Python 3 (ipykernel)",
   "language": "python",
   "name": "python3"
  },
  "language_info": {
   "codemirror_mode": {
    "name": "ipython",
    "version": 3
   },
   "file_extension": ".py",
   "mimetype": "text/x-python",
   "name": "python",
   "nbconvert_exporter": "python",
   "pygments_lexer": "ipython3",
   "version": "3.8.16"
  }
 },
 "nbformat": 4,
 "nbformat_minor": 5
}
