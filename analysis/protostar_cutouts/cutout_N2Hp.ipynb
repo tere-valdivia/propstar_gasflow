{
 "cells": [
  {
   "cell_type": "markdown",
   "id": "362b4456-784b-48c5-a554-f0da677b6574",
   "metadata": {},
   "source": [
    "# Analysis via zoom into protostars and cutouts of the N$_2$H$^+$ cube\n",
    "The same we did for HC3N but we separate the files to keep order"
   ]
  },
  {
   "cell_type": "code",
   "execution_count": 1,
   "id": "3debf48e-e1eb-47ce-9bb5-ee5a824d9f01",
   "metadata": {},
   "outputs": [],
   "source": [
    "import numpy as np\n",
    "import os\n",
    "import astropy.units as u\n",
    "from astropy.wcs import WCS\n",
    "from astropy.io import fits\n",
    "from astropy.coordinates import SkyCoord, FK5\n",
    "from astropy.nddata.utils import Cutout2D\n",
    "from spectral_cube import SpectralCube\n",
    "import pandas as pd\n",
    "from glob import glob\n",
    "from pvextractor import PathFromCenter, Path, extract_pv_slice\n",
    "\n",
    "import matplotlib.pyplot as plt\n",
    "import matplotlib.font_manager as fm\n",
    "from matplotlib import cm\n",
    "%matplotlib widget\n",
    "\n",
    "sourcecat = '../../data/my_catalog_vel.csv'\n",
    "cubefile = '../../data/NGC1333-N2Hp_match_kms_F1F_01_12.fits'\n",
    "mlex1file = '../../bayes_frame/nested-sampling/N2Hp/NGC1333-SE-mle-x1_filtered_QA.fits'\n",
    "mlex2file = '../../bayes_frame/nested-sampling/N2Hp/NGC1333-SE-mle-x2_filtered_QA.fits'\n",
    "#I think in some cases we also need the clusters\n",
    "cut_clusters = True\n",
    "clusters_n2hp_files = sorted(glob('../../clustering/cluster*[0-9]_DBSCAN_N2Hp.fits'))\n",
    "\n",
    "\n",
    "radiuscut_au = 10000\n",
    "distance = 298 # pc\n",
    "radiuscut = radiuscut_au / distance *u.arcsec # "
   ]
  },
  {
   "cell_type": "code",
   "execution_count": 2,
   "id": "b8799841-05c2-41b6-9d7a-0a0cb89a380f",
   "metadata": {},
   "outputs": [],
   "source": [
    "cube = SpectralCube.read(cubefile)\n",
    "wcsskycube = WCS(cube.header).celestial\n",
    "\n",
    "mlex1, mlex1head = fits.getdata(mlex1file, header=True)\n",
    "mlex2, mlex2head = fits.getdata(mlex2file, header=True)\n",
    "\n",
    "if cut_clusters:\n",
    "    cluster_n2hp_master = [fits.getdata(filein) for filein in clusters_n2hp_files]\n",
    "    cluster_head = fits.getheader(clusters_n2hp_files[0])\n",
    "\n",
    "catalog_protostars = pd.read_csv(sourcecat)\n"
   ]
  },
  {
   "cell_type": "code",
   "execution_count": 3,
   "id": "a101eaf7-dc23-44ea-9159-1d03029cd92c",
   "metadata": {},
   "outputs": [],
   "source": [
    "sourcename = 'IRAS4B'\n",
    "catalogno = 1\n",
    "racent, deccent = catalog_protostars.loc[catalogno, ['RAJ2000', 'DEJ2000']].values\n",
    "subcubes_basename = sourcename + '_N2Hp_{}'\n",
    "vlsr = catalog_protostars.loc[catalogno, 'vlsr']"
   ]
  },
  {
   "cell_type": "code",
   "execution_count": 4,
   "id": "ccb84554-93a6-4809-ab70-79f23a456b0e",
   "metadata": {},
   "outputs": [],
   "source": [
    "# here we cut the images\n",
    "centerx, centery = wcsskycube.all_world2pix([racent], [deccent], 0)\n",
    "centerx, centery = int(centerx[0]), int(centery[0])\n",
    "\n",
    "radiuspix = int(np.round(radiuscut.to(u.deg).value / np.abs(cube.header['CDELT2']), 0))"
   ]
  },
  {
   "cell_type": "code",
   "execution_count": 5,
   "id": "a5fef44e-2f53-4d83-8698-717598a6e9fe",
   "metadata": {},
   "outputs": [],
   "source": [
    "if not os.path.exists(subcubes_basename.format('cube.fits')):\n",
    "    subcube = cube[:, centery-radiuspix:centery+radiuspix, centerx-radiuspix:centerx+radiuspix]\n",
    "    subcube.write(subcubes_basename.format('cube.fits'))\n",
    "else:\n",
    "    subcube = SpectralCube.read(subcubes_basename.format('cube.fits'))\n",
    "headersmall = subcube.header\n",
    "headersmall_mle = WCS(headersmall).celestial.to_header()\n",
    "headersmall_mle['NAXIS'] = 3\n",
    "headersmall_mle['BUNIT'] = 'km s-1'\n",
    "headersmall_mle['BMAJ'] = headersmall['BMAJ']\n",
    "headersmall_mle['BMIN'] = headersmall['BMIN']\n",
    "headersmall_mle['BPA'] = headersmall['BPA']\n",
    "headersmall_mle['RESTFREQ'] = headersmall['RESTFREQ']"
   ]
  },
  {
   "cell_type": "code",
   "execution_count": 6,
   "id": "370d119f-78f0-4a37-a3b5-1cd911ee37bb",
   "metadata": {},
   "outputs": [],
   "source": [
    "\n",
    "if not os.path.exists(subcubes_basename.format('mlex1.fits')):\n",
    "    submlex1 = mlex1[:, centery-radiuspix:centery+radiuspix, centerx-radiuspix:centerx+radiuspix]\n",
    "    headersmall_mle['NAXIS3'] = 6\n",
    "    fits.writeto(subcubes_basename.format('mlex1.fits'), submlex1, headersmall_mle)\n",
    "else:\n",
    "    submlex1, headersmall_mle = fits.getdata(subcubes_basename.format('mlex1.fits'), header=True)\n",
    "\n",
    "if not os.path.exists(subcubes_basename.format('mlex2.fits')):\n",
    "    submlex2 = mlex2[:, centery-radiuspix:centery+radiuspix, centerx-radiuspix:centerx+radiuspix]\n",
    "    headersmall_mle['NAXIS3'] = 12\n",
    "    fits.writeto(subcubes_basename.format('mlex2.fits'), submlex2, headersmall_mle)\n",
    "else:\n",
    "    submlex2, headersmall_mle = fits.getdata(subcubes_basename.format('mlex2.fits'), header=True) \n"
   ]
  },
  {
   "cell_type": "code",
   "execution_count": 7,
   "id": "6d3388d3-9717-4277-bda4-69082bb4e796",
   "metadata": {},
   "outputs": [],
   "source": [
    "if cut_clusters:\n",
    "    subclusters_master = []\n",
    "    for i, cluster in enumerate(cluster_n2hp_master):\n",
    "        if not os.path.exists(subcubes_basename.format('cluster{}.fits'.format(i))):\n",
    "            subcluster = cluster[:, centery-radiuspix:centery+radiuspix, centerx-radiuspix:centerx+radiuspix]\n",
    "            if np.isnan(subcluster).all(): continue\n",
    "            else:\n",
    "                subclusters_master.append(subcluster)\n",
    "                headersmall_mle['NAXIS3'] = 6\n",
    "                fits.writeto(subcubes_basename.format('cluster{}.fits'.format(i)), subcluster, headersmall_mle)\n",
    "        else:\n",
    "            subclusters_master.append(fits.getdata(subcubes_basename.format('cluster{}.fits'.format(i))))"
   ]
  },
  {
   "cell_type": "markdown",
   "id": "08ee33c2-3dd6-4d32-9e6b-d5999ad39a08",
   "metadata": {},
   "source": [
    "## Exploration plots"
   ]
  },
  {
   "cell_type": "code",
   "execution_count": 8,
   "id": "faa5de1a-7d04-42b5-af8c-6f4982c467a7",
   "metadata": {},
   "outputs": [
    {
     "name": "stdout",
     "output_type": "stream",
     "text": [
      "\n"
     ]
    }
   ],
   "source": [
    "# pv diagrams\n",
    "\n",
    "pa_angle = (176+90)*u.deg #degrees from north\n",
    "widtharcsec = (cube.header['bmaj'] * u.deg).to(u.arcsec)\n",
    "# centerxdeg, centerydeg = catalog_protostars.loc[catalogno, 'RAJ2000']*u.deg, catalog_protostars.loc[catalogno, 'DEJ2000']*u.deg\n",
    "racent, deccent = catalog_protostars.loc[catalogno, ['RAJ2000', 'DEJ2000']] * u.deg\n",
    "length = (8000 / 293 *u.arcsec).to(u.deg)\n",
    "gcent = SkyCoord(racent, deccent)\n",
    "pvfilename = subcubes_basename.format('pvdiag.fits')\n",
    "pathcent = PathFromCenter(center=gcent, length=length, angle=pa_angle, width=widtharcsec)\n",
    "slice1 = extract_pv_slice(cube, pathcent)\n",
    "slice1.header['CRPIX1'] = int(slice1.header['NAXIS1']/2) # by default the reference offset is the first pixel\n",
    "slice1.writeto(pvfilename, overwrite=True)"
   ]
  },
  {
   "cell_type": "code",
   "execution_count": 9,
   "id": "ad7a8d04-bcdf-435c-a310-71b941d5425c",
   "metadata": {
    "tags": []
   },
   "outputs": [],
   "source": [
    "pvarcsecfilename = subcubes_basename.format('pvdiag_arcsec.fits')\n",
    "pvheader = fits.getheader(pvfilename)\n",
    "pvdata = np.flip(slice1.data, axis=0) # so that the velocities grow instead of decreasing\n",
    "pvheader['CDELT1'] = pvheader['CDELT1']*3600 # change to arcsec\n",
    "pvheader['CUNIT1'] = 'arcsec'\n",
    "if np.sign(pvheader['CDELT2'])<0:\n",
    "    velinit = pvheader['CRVAL2'] + pvheader['CDELT2'] * (pvheader['NAXIS2'] - pvheader['CRPIX2']) # this is the velocity in the new first pixel\n",
    "    pvheader['CRPIX2'] = 1 # the first pixel is our new reference\n",
    "    pvheader['CRVAL2'] = velinit # the first pixel will have the lowest velocity\n",
    "    pvheader['CDELT2'] *= -1 \n",
    "hdu = fits.PrimaryHDU(data=pvdata, header=pvheader)\n",
    "hdu.writeto(pvarcsecfilename, overwrite=True)"
   ]
  },
  {
   "cell_type": "code",
   "execution_count": 10,
   "id": "0c23e5b4-9418-4f86-acfa-e6ab38b6f9c5",
   "metadata": {
    "tags": []
   },
   "outputs": [
    {
     "data": {
      "application/vnd.jupyter.widget-view+json": {
       "model_id": "3fdb753d39de4b8ca8fb86ec0830afb7",
       "version_major": 2,
       "version_minor": 0
      },
      "image/png": "[encoded data removed]",
      "text/html": [
       "\n",
       "            <div style=\"display: inline-block;\">\n",
       "                <div class=\"jupyter-widgets widget-label\" style=\"text-align: center;\">\n",
       "                    Figure\n",
       "                </div>\n",
       "                <img src='data:image/png;base64,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' width=600.0/>\n",
       "            </div>\n",
       "        "
      ],
      "text/plain": [
       "Canvas(toolbar=Toolbar(toolitems=[('Home', 'Reset original view', 'home', 'home'), ('Back', 'Back to previous …"
      ]
     },
     "metadata": {},
     "output_type": "display_data"
    }
   ],
   "source": [
    "delta0 = pvheader['CRVAL1']\n",
    "delta_delta = pvheader['CDELT1']\n",
    "delta_pix0 = pvheader['CRPIX1']\n",
    "delta_npix = pvheader['NAXIS1']\n",
    "vel0 = pvheader['CRVAL2']\n",
    "delta_vel = pvheader['CDELT2']\n",
    "vel_pix0 = pvheader['CRPIX2']\n",
    "vel_npix = pvheader['NAXIS2']\n",
    "\n",
    "\n",
    "delta_array = np.array([delta0 + delta_delta*(i-delta_pix0) for i in range(delta_npix)]) * u.arcsec\n",
    "vel_array = np.array([vel0 + delta_vel * (i - vel_pix0) for i in range(vel_npix)]) * u.m/u.s\n",
    "vel_array = vel_array.to(u.km/u.s)\n",
    "distance_array = (delta_array).value * 293 * u.au \n",
    "# we create the meshgrid to plot\n",
    "offset, vel = np.meshgrid(distance_array, vel_array)\n",
    "\n",
    "fig = plt.figure(figsize=(6,6))\n",
    "ax = fig.add_subplot(111)\n",
    "pcolor = ax.pcolor(offset.value, vel.value, pvdata, shading='auto', cmap='Oranges')\n",
    "ax.axhline(vlsr, color='k', ls=':', alpha=0.5)\n",
    "ax.set_xlabel('Offset (au)')\n",
    "ax.set_ylabel(r'Velocity (km s$^{-1}$)')\n",
    "ax.set_ylim([5,8.5])\n",
    "ax.invert_xaxis()"
   ]
  },
  {
   "cell_type": "code",
   "execution_count": null,
   "id": "4a6cec1b-3e8b-48cd-b0d1-14a43c78c8bc",
   "metadata": {},
   "outputs": [],
   "source": []
  }
 ],
 "metadata": {
  "kernelspec": {
   "display_name": "Python 3 (ipykernel)",
   "language": "python",
   "name": "python3"
  },
  "language_info": {
   "codemirror_mode": {
    "name": "ipython",
    "version": 3
   },
   "file_extension": ".py",
   "mimetype": "text/x-python",
   "name": "python",
   "nbconvert_exporter": "python",
   "pygments_lexer": "ipython3",
   "version": "3.8.16"
  }
 },
 "nbformat": 4,
 "nbformat_minor": 5
}
