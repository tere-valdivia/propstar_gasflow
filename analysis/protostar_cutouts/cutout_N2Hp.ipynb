{
 "cells": [
  {
   "cell_type": "markdown",
   "id": "362b4456-784b-48c5-a554-f0da677b6574",
   "metadata": {},
   "source": [
    "# Analysis via zoom into protostars and cutouts of the N$_2$H$^+$ cube\n",
    "The same we did for HC3N but we separate the files to keep order"
   ]
  },
  {
   "cell_type": "code",
   "execution_count": 1,
   "id": "3debf48e-e1eb-47ce-9bb5-ee5a824d9f01",
   "metadata": {},
   "outputs": [],
   "source": [
    "import numpy as np\n",
    "import os\n",
    "import astropy.units as u\n",
    "from astropy.wcs import WCS\n",
    "from astropy.io import fits\n",
    "from astropy.coordinates import SkyCoord, FK5\n",
    "from astropy.nddata.utils import Cutout2D\n",
    "from spectral_cube import SpectralCube\n",
    "import pandas as pd\n",
    "from glob import glob\n",
    "\n",
    "import matplotlib.pyplot as plt\n",
    "import matplotlib.font_manager as fm\n",
    "from matplotlib import cm\n",
    "%matplotlib widget\n",
    "\n",
    "sourcecat = '../../data/my_catalog_vel.csv'\n",
    "cubefile = '../../data/NGC1333-N2Hp_match_kms_F1F_01_12.fits'\n",
    "mlex1file = '../../bayes_frame/nested-sampling/N2Hp/NGC1333-SE-mle-x1_filtered_QA.fits'\n",
    "mlex2file = '../../bayes_frame/nested-sampling/N2Hp/NGC1333-SE-mle-x2_filtered_QA.fits'\n",
    "#I think in some cases we also need the clusters\n",
    "cut_clusters = True\n",
    "clusters_n2hp_files = sorted(glob('../../clustering/cluster*[0-9]_DBSCAN_N2Hp.fits'))\n",
    "\n",
    "\n",
    "radiuscut_au = 10000\n",
    "distance = 298 # pc\n",
    "radiuscut = radiuscut_au / distance *u.arcsec # "
   ]
  },
  {
   "cell_type": "code",
   "execution_count": 2,
   "id": "b8799841-05c2-41b6-9d7a-0a0cb89a380f",
   "metadata": {},
   "outputs": [],
   "source": [
    "cube = SpectralCube.read(cubefile)\n",
    "wcsskycube = WCS(cube.header).celestial\n",
    "\n",
    "mlex1, mlex1head = fits.getdata(mlex1file, header=True)\n",
    "mlex2, mlex2head = fits.getdata(mlex2file, header=True)\n",
    "\n",
    "if cut_clusters:\n",
    "    cluster_n2hp_master = [fits.getdata(filein) for filein in clusters_n2hp_files]\n",
    "    cluster_head = fits.getheader(clusters_n2hp_files[0])\n",
    "\n",
    "catalog_protostars = pd.read_csv(sourcecat)\n"
   ]
  },
  {
   "cell_type": "code",
   "execution_count": 3,
   "id": "a101eaf7-dc23-44ea-9159-1d03029cd92c",
   "metadata": {},
   "outputs": [],
   "source": [
    "sourcename = 'SK15'\n",
    "racent, deccent = catalog_protostars.loc[15, ['RAJ2000', 'DEJ2000']].values\n",
    "subcubes_basename = sourcename + '_N2Hp_{}'\n",
    "vlsr = catalog_protostars.loc[15, 'vlsr']"
   ]
  },
  {
   "cell_type": "code",
   "execution_count": 4,
   "id": "ccb84554-93a6-4809-ab70-79f23a456b0e",
   "metadata": {},
   "outputs": [],
   "source": [
    "# here we cut the images\n",
    "centerx, centery = wcsskycube.all_world2pix([racent], [deccent], 0)\n",
    "centerx, centery = int(centerx[0]), int(centery[0])\n",
    "\n",
    "radiuspix = int(np.round(radiuscut.to(u.deg).value / np.abs(cube.header['CDELT2']), 0))"
   ]
  },
  {
   "cell_type": "code",
   "execution_count": 5,
   "id": "a5fef44e-2f53-4d83-8698-717598a6e9fe",
   "metadata": {},
   "outputs": [],
   "source": [
    "if not os.path.exists(subcubes_basename.format('cube.fits')):\n",
    "    subcube = cube[:, centery-radiuspix:centery+radiuspix, centerx-radiuspix:centerx+radiuspix]\n",
    "    subcube.write(subcubes_basename.format('cube.fits'))\n",
    "else:\n",
    "    subcube = SpectralCube.read(subcubes_basename.format('cube.fits'))\n",
    "headersmall = subcube.header\n",
    "headersmall_mle = WCS(headersmall).celestial.to_header()\n",
    "headersmall_mle['NAXIS'] = 3\n",
    "headersmall_mle['BUNIT'] = 'km s-1'\n",
    "headersmall_mle['BMAJ'] = headersmall['BMAJ']\n",
    "headersmall_mle['BMIN'] = headersmall['BMIN']\n",
    "headersmall_mle['BPA'] = headersmall['BPA']\n",
    "headersmall_mle['RESTFREQ'] = headersmall['RESTFREQ']"
   ]
  },
  {
   "cell_type": "code",
   "execution_count": 6,
   "id": "370d119f-78f0-4a37-a3b5-1cd911ee37bb",
   "metadata": {},
   "outputs": [],
   "source": [
    "\n",
    "if not os.path.exists(subcubes_basename.format('mlex1.fits')):\n",
    "    submlex1 = mlex1[:, centery-radiuspix:centery+radiuspix, centerx-radiuspix:centerx+radiuspix]\n",
    "    headersmall_mle['NAXIS3'] = 6\n",
    "    fits.writeto(subcubes_basename.format('mlex1.fits'), submlex1, headersmall_mle)\n",
    "else:\n",
    "    submlex1, headersmall_mle = fits.getdata(subcubes_basename.format('mlex1.fits'), header=True)\n",
    "\n",
    "if not os.path.exists(subcubes_basename.format('mlex2.fits')):\n",
    "    submlex2 = mlex2[:, centery-radiuspix:centery+radiuspix, centerx-radiuspix:centerx+radiuspix]\n",
    "    headersmall_mle['NAXIS3'] = 12\n",
    "    fits.writeto(subcubes_basename.format('mlex2.fits'), submlex2, headersmall_mle)\n",
    "else:\n",
    "    submlex2, headersmall_mle = fits.getdata(subcubes_basename.format('mlex2.fits'), header=True) \n"
   ]
  },
  {
   "cell_type": "code",
   "execution_count": 7,
   "id": "6d3388d3-9717-4277-bda4-69082bb4e796",
   "metadata": {},
   "outputs": [],
   "source": [
    "if cut_clusters:\n",
    "    subclusters_master = []\n",
    "    for i, cluster in enumerate(cluster_n2hp_master):\n",
    "        if not os.path.exists(subcubes_basename.format('cluster{}.fits'.format(i))):\n",
    "            subcluster = cluster[:, centery-radiuspix:centery+radiuspix, centerx-radiuspix:centerx+radiuspix]\n",
    "            if np.isnan(subcluster).all(): continue\n",
    "            else:\n",
    "                subclusters_master.append(subcluster)\n",
    "                headersmall_mle['NAXIS3'] = 6\n",
    "                fits.writeto(subcubes_basename.format('cluster{}.fits'.format(i)), subcluster, headersmall_mle)\n",
    "        else:\n",
    "            subclusters_master.append(fits.getdata(subcubes_basename.format('cluster{}.fits'.format(i))))"
   ]
  },
  {
   "cell_type": "markdown",
   "id": "08ee33c2-3dd6-4d32-9e6b-d5999ad39a08",
   "metadata": {},
   "source": [
    "## Exploration plots"
   ]
  },
  {
   "cell_type": "code",
   "execution_count": null,
   "id": "faa5de1a-7d04-42b5-af8c-6f4982c467a7",
   "metadata": {},
   "outputs": [],
   "source": []
  },
  {
   "cell_type": "code",
   "execution_count": null,
   "id": "ad7a8d04-bcdf-435c-a310-71b941d5425c",
   "metadata": {},
   "outputs": [],
   "source": []
  }
 ],
 "metadata": {
  "kernelspec": {
   "display_name": "Python 3 (ipykernel)",
   "language": "python",
   "name": "python3"
  },
  "language_info": {
   "codemirror_mode": {
    "name": "ipython",
    "version": 3
   },
   "file_extension": ".py",
   "mimetype": "text/x-python",
   "name": "python",
   "nbconvert_exporter": "python",
   "pygments_lexer": "ipython3",
   "version": "3.8.16"
  }
 },
 "nbformat": 4,
 "nbformat_minor": 5
}
