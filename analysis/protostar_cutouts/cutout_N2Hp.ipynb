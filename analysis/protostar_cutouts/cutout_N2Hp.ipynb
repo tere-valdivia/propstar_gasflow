{
 "cells": [
  {
   "cell_type": "markdown",
   "id": "362b4456-784b-48c5-a554-f0da677b6574",
   "metadata": {},
   "source": [
    "# Analysis via zoom into protostars and cutouts of the N$_2$H$^+$ cube\n",
    "The same we did for HC3N but we separate the files to keep order"
   ]
  },
  {
   "cell_type": "code",
   "execution_count": 1,
   "id": "3debf48e-e1eb-47ce-9bb5-ee5a824d9f01",
   "metadata": {},
   "outputs": [],
   "source": [
    "import numpy as np\n",
    "import os\n",
    "import astropy.units as u\n",
    "from astropy.wcs import WCS\n",
    "from astropy.io import fits\n",
    "from astropy.coordinates import SkyCoord, FK5\n",
    "from astropy.nddata.utils import Cutout2D\n",
    "from spectral_cube import SpectralCube\n",
    "import pandas as pd\n",
    "from glob import glob\n",
    "from pvextractor import PathFromCenter, Path, extract_pv_slice\n",
    "\n",
    "import matplotlib.pyplot as plt\n",
    "import matplotlib.font_manager as fm\n",
    "from matplotlib import cm\n",
    "%matplotlib widget\n",
    "\n",
    "sourcecat = '../../data/my_catalog_vel.csv'\n",
    "cubefile = '../../data/NGC1333-N2Hp_match_kms_F1F_01_12.fits'\n",
    "mlex1file = '../../bayes_frame/nested-sampling/N2Hp/NGC1333-SE-mle-x1_filtered_QA.fits'\n",
    "mlex2file = '../../bayes_frame/nested-sampling/N2Hp/NGC1333-SE-mle-x2_filtered_QA.fits'\n",
    "#I think in some cases we also need the clusters\n",
    "cut_clusters = True\n",
    "clusters_n2hp_files = sorted(glob('../../clustering/cluster*[0-9]_DBSCAN_N2Hp.fits'))\n",
    "\n",
    "\n",
    "radiuscut_au = 10000\n",
    "distance = 298 # pc\n",
    "radiuscut = radiuscut_au / distance *u.arcsec # "
   ]
  },
  {
   "cell_type": "code",
   "execution_count": 2,
   "id": "b8799841-05c2-41b6-9d7a-0a0cb89a380f",
   "metadata": {},
   "outputs": [],
   "source": [
    "cube = SpectralCube.read(cubefile)\n",
    "wcsskycube = WCS(cube.header).celestial\n",
    "\n",
    "mlex1, mlex1head = fits.getdata(mlex1file, header=True)\n",
    "mlex2, mlex2head = fits.getdata(mlex2file, header=True)\n",
    "\n",
    "if cut_clusters:\n",
    "    cluster_n2hp_master = [fits.getdata(filein) for filein in clusters_n2hp_files]\n",
    "    cluster_head = fits.getheader(clusters_n2hp_files[0])\n",
    "\n",
    "catalog_protostars = pd.read_csv(sourcecat)\n"
   ]
  },
  {
   "cell_type": "code",
   "execution_count": 3,
   "id": "a101eaf7-dc23-44ea-9159-1d03029cd92c",
   "metadata": {},
   "outputs": [],
   "source": [
    "sourcename = 'VLA3'\n",
    "catalogno = 12\n",
    "racent, deccent = catalog_protostars.loc[catalogno, ['RAJ2000', 'DEJ2000']].values\n",
    "subcubes_basename = sourcename + '_N2Hp_{}'\n",
    "vlsr = catalog_protostars.loc[catalogno, 'vlsr']"
   ]
  },
  {
   "cell_type": "code",
   "execution_count": 4,
   "id": "ccb84554-93a6-4809-ab70-79f23a456b0e",
   "metadata": {},
   "outputs": [],
   "source": [
    "# here we cut the images\n",
    "centerx, centery = wcsskycube.all_world2pix([racent], [deccent], 0)\n",
    "centerx, centery = int(centerx[0]), int(centery[0])\n",
    "\n",
    "radiuspix = int(np.round(radiuscut.to(u.deg).value / np.abs(cube.header['CDELT2']), 0))"
   ]
  },
  {
   "cell_type": "code",
   "execution_count": 5,
   "id": "a5fef44e-2f53-4d83-8698-717598a6e9fe",
   "metadata": {},
   "outputs": [],
   "source": [
    "if not os.path.exists(subcubes_basename.format('cube.fits')):\n",
    "    subcube = cube[:, centery-radiuspix:centery+radiuspix, centerx-radiuspix:centerx+radiuspix]\n",
    "    subcube.write(subcubes_basename.format('cube.fits'))\n",
    "else:\n",
    "    subcube = SpectralCube.read(subcubes_basename.format('cube.fits'))\n",
    "headersmall = subcube.header\n",
    "headersmall_mle = WCS(headersmall).celestial.to_header()\n",
    "headersmall_mle['NAXIS'] = 3\n",
    "headersmall_mle['BUNIT'] = 'km s-1'\n",
    "headersmall_mle['BMAJ'] = headersmall['BMAJ']\n",
    "headersmall_mle['BMIN'] = headersmall['BMIN']\n",
    "headersmall_mle['BPA'] = headersmall['BPA']\n",
    "headersmall_mle['RESTFREQ'] = headersmall['RESTFREQ']"
   ]
  },
  {
   "cell_type": "code",
   "execution_count": 6,
   "id": "370d119f-78f0-4a37-a3b5-1cd911ee37bb",
   "metadata": {},
   "outputs": [],
   "source": [
    "\n",
    "if not os.path.exists(subcubes_basename.format('mlex1.fits')):\n",
    "    submlex1 = mlex1[:, centery-radiuspix:centery+radiuspix, centerx-radiuspix:centerx+radiuspix]\n",
    "    headersmall_mle['NAXIS3'] = 6\n",
    "    fits.writeto(subcubes_basename.format('mlex1.fits'), submlex1, headersmall_mle)\n",
    "else:\n",
    "    submlex1, headersmall_mle = fits.getdata(subcubes_basename.format('mlex1.fits'), header=True)\n",
    "\n",
    "if not os.path.exists(subcubes_basename.format('mlex2.fits')):\n",
    "    submlex2 = mlex2[:, centery-radiuspix:centery+radiuspix, centerx-radiuspix:centerx+radiuspix]\n",
    "    headersmall_mle['NAXIS3'] = 12\n",
    "    fits.writeto(subcubes_basename.format('mlex2.fits'), submlex2, headersmall_mle)\n",
    "else:\n",
    "    submlex2, headersmall_mle = fits.getdata(subcubes_basename.format('mlex2.fits'), header=True) \n"
   ]
  },
  {
   "cell_type": "code",
   "execution_count": 7,
   "id": "6d3388d3-9717-4277-bda4-69082bb4e796",
   "metadata": {},
   "outputs": [],
   "source": [
    "if cut_clusters:\n",
    "    subclusters_master = []\n",
    "    for i, cluster in enumerate(cluster_n2hp_master):\n",
    "        if not os.path.exists(subcubes_basename.format('cluster{}.fits'.format(i))):\n",
    "            subcluster = cluster[:, centery-radiuspix:centery+radiuspix, centerx-radiuspix:centerx+radiuspix]\n",
    "            if np.isnan(subcluster).all(): continue\n",
    "            else:\n",
    "                subclusters_master.append(subcluster)\n",
    "                headersmall_mle['NAXIS3'] = 6\n",
    "                fits.writeto(subcubes_basename.format('cluster{}.fits'.format(i)), subcluster, headersmall_mle)\n",
    "        else:\n",
    "            subclusters_master.append(fits.getdata(subcubes_basename.format('cluster{}.fits'.format(i))))"
   ]
  },
  {
   "cell_type": "markdown",
   "id": "08ee33c2-3dd6-4d32-9e6b-d5999ad39a08",
   "metadata": {},
   "source": [
    "## Exploration plots"
   ]
  },
  {
   "cell_type": "code",
   "execution_count": 11,
   "id": "faa5de1a-7d04-42b5-af8c-6f4982c467a7",
   "metadata": {},
   "outputs": [
    {
     "name": "stdout",
     "output_type": "stream",
     "text": [
      "\n"
     ]
    }
   ],
   "source": [
    "# pv diagrams\n",
    "\n",
    "pa_angle = (24+90)*u.deg #degrees from north\n",
    "widtharcsec = (cube.header['bmaj'] * u.deg).to(u.arcsec)\n",
    "# centerxdeg, centerydeg = catalog_protostars.loc[catalogno, 'RAJ2000']*u.deg, catalog_protostars.loc[catalogno, 'DEJ2000']*u.deg\n",
    "racent, deccent = catalog_protostars.loc[catalogno, ['RAJ2000', 'DEJ2000']] * u.deg\n",
    "length = (8000 / 293 *u.arcsec).to(u.deg)\n",
    "gcent = SkyCoord(racent, deccent)\n",
    "pvfilename = subcubes_basename.format('pvdiag.fits')\n",
    "pathcent = PathFromCenter(center=gcent, length=length, angle=pa_angle, width=widtharcsec)\n",
    "slice1 = extract_pv_slice(cube, pathcent)\n",
    "slice1.header['CRPIX1'] = int(slice1.header['NAXIS1']/2) # by default the reference offset is the first pixel\n",
    "slice1.writeto(pvfilename, overwrite=True)"
   ]
  },
  {
   "cell_type": "code",
   "execution_count": 12,
   "id": "ad7a8d04-bcdf-435c-a310-71b941d5425c",
   "metadata": {
    "tags": []
   },
   "outputs": [],
   "source": [
    "pvarcsecfilename = subcubes_basename.format('pvdiag_arcsec.fits')\n",
    "pvheader = fits.getheader(pvfilename)\n",
    "pvdata = np.flip(slice1.data, axis=0) # so that the velocities grow instead of decreasing\n",
    "pvheader['CDELT1'] = pvheader['CDELT1']*3600 # change to arcsec\n",
    "pvheader['CUNIT1'] = 'arcsec'\n",
    "if np.sign(pvheader['CDELT2'])<0:\n",
    "    velinit = pvheader['CRVAL2'] + pvheader['CDELT2'] * (pvheader['NAXIS2'] - pvheader['CRPIX2']) # this is the velocity in the new first pixel\n",
    "    pvheader['CRPIX2'] = 1 # the first pixel is our new reference\n",
    "    pvheader['CRVAL2'] = velinit # the first pixel will have the lowest velocity\n",
    "    pvheader['CDELT2'] *= -1 \n",
    "hdu = fits.PrimaryHDU(data=pvdata, header=pvheader)\n",
    "hdu.writeto(pvarcsecfilename, overwrite=True)"
   ]
  },
  {
   "cell_type": "code",
   "execution_count": 14,
   "id": "0c23e5b4-9418-4f86-acfa-e6ab38b6f9c5",
   "metadata": {
    "tags": []
   },
   "outputs": [
    {
     "data": {
      "application/vnd.jupyter.widget-view+json": {
       "model_id": "6aa5966a8e14425a81e7f16803fc485b",
       "version_major": 2,
       "version_minor": 0
      },
      "image/png": "[encoded data removed]",
      "text/html": [
       "\n",
       "            <div style=\"display: inline-block;\">\n",
       "                <div class=\"jupyter-widgets widget-label\" style=\"text-align: center;\">\n",
       "                    Figure\n",
       "                </div>\n",
       "                <img src='data:image/png;base64,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' width=600.0/>\n",
       "            </div>\n",
       "        "
      ],
      "text/plain": [
       "Canvas(toolbar=Toolbar(toolitems=[('Home', 'Reset original view', 'home', 'home'), ('Back', 'Back to previous …"
      ]
     },
     "metadata": {},
     "output_type": "display_data"
    }
   ],
   "source": [
    "delta0 = pvheader['CRVAL1']\n",
    "delta_delta = pvheader['CDELT1']\n",
    "delta_pix0 = pvheader['CRPIX1']\n",
    "delta_npix = pvheader['NAXIS1']\n",
    "vel0 = pvheader['CRVAL2']\n",
    "delta_vel = pvheader['CDELT2']\n",
    "vel_pix0 = pvheader['CRPIX2']\n",
    "vel_npix = pvheader['NAXIS2']\n",
    "\n",
    "\n",
    "delta_array = np.array([delta0 + delta_delta*(i-delta_pix0) for i in range(delta_npix)]) * u.arcsec\n",
    "vel_array = np.array([vel0 + delta_vel * (i - vel_pix0) for i in range(vel_npix)]) * u.m/u.s\n",
    "vel_array = vel_array.to(u.km/u.s)\n",
    "distance_array = (delta_array).value * 293 * u.au \n",
    "# we create the meshgrid to plot\n",
    "offset, vel = np.meshgrid(distance_array, vel_array)\n",
    "\n",
    "fig = plt.figure(figsize=(6,6))\n",
    "ax = fig.add_subplot(111)\n",
    "pcolor = ax.pcolor(offset.value, vel.value, pvdata, shading='auto', cmap='Oranges')\n",
    "ax.axhline(vlsr, color='k', ls=':', alpha=0.5)\n",
    "ax.set_xlabel('Offset (au)')\n",
    "ax.set_ylabel(r'Velocity (km s$^{-1}$)')\n",
    "ax.set_ylim([4,9])\n",
    "ax.invert_xaxis()"
   ]
  },
  {
   "cell_type": "code",
   "execution_count": null,
   "id": "4a6cec1b-3e8b-48cd-b0d1-14a43c78c8bc",
   "metadata": {},
   "outputs": [],
   "source": []
  }
 ],
 "metadata": {
  "kernelspec": {
   "display_name": "Python 3 (ipykernel)",
   "language": "python",
   "name": "python3"
  },
  "language_info": {
   "codemirror_mode": {
    "name": "ipython",
    "version": 3
   },
   "file_extension": ".py",
   "mimetype": "text/x-python",
   "name": "python",
   "nbconvert_exporter": "python",
   "pygments_lexer": "ipython3",
   "version": "3.9.17"
  }
 },
 "nbformat": 4,
 "nbformat_minor": 5
}
