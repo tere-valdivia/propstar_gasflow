{
 "cells": [
  {
   "cell_type": "markdown",
   "id": "362b4456-784b-48c5-a554-f0da677b6574",
   "metadata": {},
   "source": [
    "# Analysis via zoom into protostars and cutouts of the N$_2$H$^+$ cube\n",
    "The same we did for HC3N but we separate the files to keep order"
   ]
  },
  {
   "cell_type": "code",
   "execution_count": 1,
   "id": "3debf48e-e1eb-47ce-9bb5-ee5a824d9f01",
   "metadata": {},
   "outputs": [],
   "source": [
    "import numpy as np\n",
    "import os\n",
    "import astropy.units as u\n",
    "from astropy.wcs import WCS\n",
    "from astropy.io import fits\n",
    "from astropy.coordinates import SkyCoord, FK5\n",
    "from astropy.nddata.utils import Cutout2D\n",
    "from spectral_cube import SpectralCube\n",
    "import pandas as pd\n",
    "from glob import glob\n",
    "from pvextractor import PathFromCenter, Path, extract_pv_slice\n",
    "\n",
    "import matplotlib.pyplot as plt\n",
    "import matplotlib.font_manager as fm\n",
    "from matplotlib import cm\n",
    "%matplotlib widget\n",
    "\n",
    "sourcecat = '../../data/my_catalog_vel.csv'\n",
    "cubefile = '../../data/NGC1333-N2Hp_match_kms_F1F_01_12.fits'\n",
    "mlex1file = '../../bayes_frame/nested-sampling/N2Hp/NGC1333-SE-mle-x1_filtered_QA.fits'\n",
    "mlex2file = '../../bayes_frame/nested-sampling/N2Hp/NGC1333-SE-mle-x2_filtered_QA.fits'\n",
    "#I think in some cases we also need the clusters\n",
    "cut_clusters = True\n",
    "clusters_n2hp_files = ['../../clustering/cluster_blue_HDBSCAN_N2Hp.fits', '../../clustering/cluster_red_HDBSCAN_N2Hp.fits'] #sorted(glob('../../clustering/cluster*[0-9]_HDBSCAN_N2Hp.fits'))\n",
    "\n",
    "\n",
    "radiuscut_au = 10000\n",
    "distance = 298 # pc\n",
    "radiuscut = radiuscut_au / distance *u.arcsec # "
   ]
  },
  {
   "cell_type": "code",
   "execution_count": 2,
   "id": "b8799841-05c2-41b6-9d7a-0a0cb89a380f",
   "metadata": {},
   "outputs": [],
   "source": [
    "cube = SpectralCube.read(cubefile)\n",
    "wcsskycube = WCS(cube.header).celestial\n",
    "\n",
    "mlex1, mlex1head = fits.getdata(mlex1file, header=True)\n",
    "mlex2, mlex2head = fits.getdata(mlex2file, header=True)\n",
    "\n",
    "if cut_clusters:\n",
    "    cluster_n2hp_master = [fits.getdata(filein) for filein in clusters_n2hp_files]\n",
    "    cluster_head = fits.getheader(clusters_n2hp_files[0])\n",
    "\n",
    "catalog_protostars = pd.read_csv(sourcecat)\n"
   ]
  },
  {
   "cell_type": "code",
   "execution_count": 95,
   "id": "a101eaf7-dc23-44ea-9159-1d03029cd92c",
   "metadata": {},
   "outputs": [],
   "source": [
    "sourcename = 'SVS13A'\n",
    "catalogno = 6\n",
    "racent, deccent = catalog_protostars.loc[catalogno, ['RAJ2000', 'DEJ2000']].values\n",
    "subcubes_basename = sourcename + '_N2Hp_{}'\n",
    "vlsr = catalog_protostars.loc[catalogno, 'vlsr']"
   ]
  },
  {
   "cell_type": "code",
   "execution_count": 96,
   "id": "ccb84554-93a6-4809-ab70-79f23a456b0e",
   "metadata": {},
   "outputs": [],
   "source": [
    "# here we cut the images\n",
    "centerx, centery = wcsskycube.all_world2pix([racent], [deccent], 0)\n",
    "centerx, centery = int(centerx[0]), int(centery[0])\n",
    "\n",
    "radiuspix = int(np.round(radiuscut.to(u.deg).value / np.abs(cube.header['CDELT2']), 0))"
   ]
  },
  {
   "cell_type": "code",
   "execution_count": 97,
   "id": "a5fef44e-2f53-4d83-8698-717598a6e9fe",
   "metadata": {},
   "outputs": [],
   "source": [
    "if not os.path.exists(subcubes_basename.format('cube.fits')):\n",
    "    subcube = cube[:, centery-radiuspix:centery+radiuspix, centerx-radiuspix:centerx+radiuspix]\n",
    "    subcube.write(subcubes_basename.format('cube.fits'))\n",
    "else:\n",
    "    subcube = SpectralCube.read(subcubes_basename.format('cube.fits'))\n",
    "headersmall = subcube.header\n",
    "headersmall_mle = WCS(headersmall).celestial.to_header()\n",
    "headersmall_mle['NAXIS'] = 3\n",
    "headersmall_mle['BUNIT'] = 'km s-1'\n",
    "headersmall_mle['BMAJ'] = headersmall['BMAJ']\n",
    "headersmall_mle['BMIN'] = headersmall['BMIN']\n",
    "headersmall_mle['BPA'] = headersmall['BPA']\n",
    "headersmall_mle['RESTFREQ'] = headersmall['RESTFREQ']"
   ]
  },
  {
   "cell_type": "code",
   "execution_count": 98,
   "id": "370d119f-78f0-4a37-a3b5-1cd911ee37bb",
   "metadata": {},
   "outputs": [],
   "source": [
    "\n",
    "if not os.path.exists(subcubes_basename.format('mlex1.fits')):\n",
    "    submlex1 = mlex1[:, centery-radiuspix:centery+radiuspix, centerx-radiuspix:centerx+radiuspix]\n",
    "    headersmall_mle['NAXIS3'] = 6\n",
    "    fits.writeto(subcubes_basename.format('mlex1.fits'), submlex1, headersmall_mle)\n",
    "else:\n",
    "    submlex1, headersmall_mle = fits.getdata(subcubes_basename.format('mlex1.fits'), header=True)\n",
    "\n",
    "if not os.path.exists(subcubes_basename.format('mlex2.fits')):\n",
    "    submlex2 = mlex2[:, centery-radiuspix:centery+radiuspix, centerx-radiuspix:centerx+radiuspix]\n",
    "    headersmall_mle['NAXIS3'] = 12\n",
    "    fits.writeto(subcubes_basename.format('mlex2.fits'), submlex2, headersmall_mle)\n",
    "else:\n",
    "    submlex2, headersmall_mle = fits.getdata(subcubes_basename.format('mlex2.fits'), header=True) \n"
   ]
  },
  {
   "cell_type": "code",
   "execution_count": 99,
   "id": "6d3388d3-9717-4277-bda4-69082bb4e796",
   "metadata": {},
   "outputs": [],
   "source": [
    "if cut_clusters:\n",
    "    subclusters_master = []\n",
    "    for i, cluster in enumerate(cluster_n2hp_master):\n",
    "        if not os.path.exists(subcubes_basename.format('cluster{}.fits'.format(i))):\n",
    "            subcluster = cluster[:, centery-radiuspix:centery+radiuspix, centerx-radiuspix:centerx+radiuspix]\n",
    "            if np.isnan(subcluster).all(): continue\n",
    "            else:\n",
    "                subclusters_master.append(subcluster)\n",
    "                headersmall_mle['NAXIS3'] = 6\n",
    "                fits.writeto(subcubes_basename.format('cluster{}.fits'.format(i)), subcluster, headersmall_mle)\n",
    "        else:\n",
    "            subclusters_master.append(fits.getdata(subcubes_basename.format('cluster{}.fits'.format(i))))"
   ]
  },
  {
   "cell_type": "markdown",
   "id": "08ee33c2-3dd6-4d32-9e6b-d5999ad39a08",
   "metadata": {},
   "source": [
    "## Exploration plots"
   ]
  },
  {
   "cell_type": "code",
   "execution_count": 100,
   "id": "faa5de1a-7d04-42b5-af8c-6f4982c467a7",
   "metadata": {},
   "outputs": [
    {
     "name": "stdout",
     "output_type": "stream",
     "text": [
      "\n"
     ]
    }
   ],
   "source": [
    "# pv diagrams\n",
    "\n",
    "pa_angle = (140+90)*u.deg #degrees from north\n",
    "widtharcsec = (cube.header['bmaj'] * u.deg).to(u.arcsec)\n",
    "# centerxdeg, centerydeg = catalog_protostars.loc[catalogno, 'RAJ2000']*u.deg, catalog_protostars.loc[catalogno, 'DEJ2000']*u.deg\n",
    "racent, deccent = catalog_protostars.loc[catalogno, ['RAJ2000', 'DEJ2000']] * u.deg\n",
    "length = (10000 / 293 *u.arcsec).to(u.deg)\n",
    "gcent = SkyCoord(racent, deccent)\n",
    "pvfilename = subcubes_basename.format('pvdiag.fits')\n",
    "pathcent = PathFromCenter(center=gcent, length=length, angle=pa_angle, width=widtharcsec)\n",
    "slice1 = extract_pv_slice(cube, pathcent)\n",
    "slice1.header['CRPIX1'] = int(slice1.header['NAXIS1']/2) # by default the reference offset is the first pixel\n",
    "slice1.writeto(pvfilename, overwrite=True)"
   ]
  },
  {
   "cell_type": "code",
   "execution_count": 101,
   "id": "ad7a8d04-bcdf-435c-a310-71b941d5425c",
   "metadata": {
    "tags": []
   },
   "outputs": [],
   "source": [
    "pvarcsecfilename = subcubes_basename.format('pvdiag_arcsec.fits')\n",
    "pvheader = fits.getheader(pvfilename)\n",
    "pvdata = np.flip(slice1.data, axis=0) # so that the velocities grow instead of decreasing\n",
    "pvheader['CDELT1'] = pvheader['CDELT1']*3600 # change to arcsec\n",
    "pvheader['CUNIT1'] = 'arcsec'\n",
    "if np.sign(pvheader['CDELT2'])<0:\n",
    "    velinit = pvheader['CRVAL2'] + pvheader['CDELT2'] * (pvheader['NAXIS2'] - pvheader['CRPIX2']) # this is the velocity in the new first pixel\n",
    "    pvheader['CRPIX2'] = 1 # the first pixel is our new reference\n",
    "    pvheader['CRVAL2'] = velinit # the first pixel will have the lowest velocity\n",
    "    pvheader['CDELT2'] *= -1 \n",
    "hdu = fits.PrimaryHDU(data=pvdata, header=pvheader)\n",
    "hdu.writeto(pvarcsecfilename, overwrite=True)"
   ]
  },
  {
   "cell_type": "code",
   "execution_count": 102,
   "id": "0c23e5b4-9418-4f86-acfa-e6ab38b6f9c5",
   "metadata": {
    "tags": []
   },
   "outputs": [
    {
     "data": {
      "application/vnd.jupyter.widget-view+json": {
       "model_id": "185e2c50f66d4f6f8a103ba0974abb0d",
       "version_major": 2,
       "version_minor": 0
      },
      "image/png": "[encoded data removed]",
      "text/html": [
       "\n",
       "            <div style=\"display: inline-block;\">\n",
       "                <div class=\"jupyter-widgets widget-label\" style=\"text-align: center;\">\n",
       "                    Figure\n",
       "                </div>\n",
       "                <img src='data:image/png;base64,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' width=600.0/>\n",
       "            </div>\n",
       "        "
      ],
      "text/plain": [
       "Canvas(toolbar=Toolbar(toolitems=[('Home', 'Reset original view', 'home', 'home'), ('Back', 'Back to previous …"
      ]
     },
     "metadata": {},
     "output_type": "display_data"
    }
   ],
   "source": [
    "delta0 = pvheader['CRVAL1']\n",
    "delta_delta = pvheader['CDELT1']\n",
    "delta_pix0 = pvheader['CRPIX1']\n",
    "delta_npix = pvheader['NAXIS1']\n",
    "vel0 = pvheader['CRVAL2']\n",
    "delta_vel = pvheader['CDELT2']\n",
    "vel_pix0 = pvheader['CRPIX2']\n",
    "vel_npix = pvheader['NAXIS2']\n",
    "\n",
    "\n",
    "delta_array = np.array([delta0 + delta_delta*(i-delta_pix0) for i in range(delta_npix)]) * u.arcsec\n",
    "vel_array = np.array([vel0 + delta_vel * (i - vel_pix0) for i in range(vel_npix)]) * u.m/u.s\n",
    "vel_array = vel_array.to(u.km/u.s)\n",
    "distance_array = (delta_array).value * 293 * u.au \n",
    "# we create the meshgrid to plot\n",
    "offset, vel = np.meshgrid(distance_array, vel_array)\n",
    "\n",
    "fig = plt.figure(figsize=(6,6))\n",
    "ax = fig.add_subplot(111)\n",
    "pcolor = ax.pcolor(offset.value, vel.value, pvdata, shading='auto', cmap='Oranges')\n",
    "ax.axhline(vlsr, color='k', ls=':', alpha=0.5)\n",
    "ax.set_xlabel('Offset (au)')\n",
    "ax.set_ylabel(r'Velocity (km s$^{-1}$)')\n",
    "ax.set_ylim([4,9])\n",
    "ax.invert_xaxis()"
   ]
  },
  {
   "cell_type": "code",
   "execution_count": null,
   "id": "4a6cec1b-3e8b-48cd-b0d1-14a43c78c8bc",
   "metadata": {},
   "outputs": [],
   "source": []
  }
 ],
 "metadata": {
  "kernelspec": {
   "display_name": "Python 3 (ipykernel)",
   "language": "python",
   "name": "python3"
  },
  "language_info": {
   "codemirror_mode": {
    "name": "ipython",
    "version": 3
   },
   "file_extension": ".py",
   "mimetype": "text/x-python",
   "name": "python",
   "nbconvert_exporter": "python",
   "pygments_lexer": "ipython3",
   "version": "3.8.16"
  }
 },
 "nbformat": 4,
 "nbformat_minor": 5
}
