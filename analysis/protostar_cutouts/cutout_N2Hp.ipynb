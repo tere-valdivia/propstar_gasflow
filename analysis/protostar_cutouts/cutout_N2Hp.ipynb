{
 "cells": [
  {
   "cell_type": "markdown",
   "id": "362b4456-784b-48c5-a554-f0da677b6574",
   "metadata": {},
   "source": [
    "# Analysis via zoom into protostars and cutouts of the N$_2$H$^+$ cube\n",
    "The same we did for HC3N but we separate the files to keep order"
   ]
  },
  {
   "cell_type": "code",
   "execution_count": 1,
   "id": "3debf48e-e1eb-47ce-9bb5-ee5a824d9f01",
   "metadata": {},
   "outputs": [],
   "source": [
    "import numpy as np\n",
    "import os\n",
    "import astropy.units as u\n",
    "from astropy.wcs import WCS\n",
    "from astropy.io import fits\n",
    "from astropy.coordinates import SkyCoord, FK5\n",
    "from astropy.nddata.utils import Cutout2D\n",
    "from spectral_cube import SpectralCube\n",
    "import pandas as pd\n",
    "from glob import glob\n",
    "from pvextractor import PathFromCenter, Path, extract_pv_slice\n",
    "\n",
    "import matplotlib.pyplot as plt\n",
    "import matplotlib.font_manager as fm\n",
    "from matplotlib import cm\n",
    "%matplotlib widget\n",
    "\n",
    "sourcecat = '../../data/my_catalog_vel.csv'\n",
    "cubefile = '../../data/NGC1333-N2Hp_match_kms_F1F_01_12.fits'\n",
    "mlex1file = '../../bayes_frame/nested-sampling/N2Hp/NGC1333-SE-mle-x1_filtered_QA.fits'\n",
    "mlex2file = '../../bayes_frame/nested-sampling/N2Hp/NGC1333-SE-mle-x2_filtered_QA.fits'\n",
    "#I think in some cases we also need the clusters\n",
    "cut_clusters = True\n",
    "clusters_n2hp_files = sorted(glob('../../clustering/cluster*[0-9]_DBSCAN_N2Hp.fits'))\n",
    "\n",
    "\n",
    "radiuscut_au = 10000\n",
    "distance = 298 # pc\n",
    "radiuscut = radiuscut_au / distance *u.arcsec # "
   ]
  },
  {
   "cell_type": "code",
   "execution_count": 2,
   "id": "b8799841-05c2-41b6-9d7a-0a0cb89a380f",
   "metadata": {},
   "outputs": [],
   "source": [
    "cube = SpectralCube.read(cubefile)\n",
    "wcsskycube = WCS(cube.header).celestial\n",
    "\n",
    "mlex1, mlex1head = fits.getdata(mlex1file, header=True)\n",
    "mlex2, mlex2head = fits.getdata(mlex2file, header=True)\n",
    "\n",
    "if cut_clusters:\n",
    "    cluster_n2hp_master = [fits.getdata(filein) for filein in clusters_n2hp_files]\n",
    "    cluster_head = fits.getheader(clusters_n2hp_files[0])\n",
    "\n",
    "catalog_protostars = pd.read_csv(sourcecat)\n"
   ]
  },
  {
   "cell_type": "code",
   "execution_count": 3,
   "id": "a101eaf7-dc23-44ea-9159-1d03029cd92c",
   "metadata": {},
   "outputs": [],
   "source": [
    "sourcename = 'IRAS4A'\n",
    "catalogno = 1\n",
    "racent, deccent = catalog_protostars.loc[catalogno, ['RAJ2000', 'DEJ2000']].values\n",
    "subcubes_basename = sourcename + '_N2Hp_{}'\n",
    "vlsr = catalog_protostars.loc[catalogno, 'vlsr']"
   ]
  },
  {
   "cell_type": "code",
   "execution_count": 4,
   "id": "ccb84554-93a6-4809-ab70-79f23a456b0e",
   "metadata": {},
   "outputs": [],
   "source": [
    "# here we cut the images\n",
    "centerx, centery = wcsskycube.all_world2pix([racent], [deccent], 0)\n",
    "centerx, centery = int(centerx[0]), int(centery[0])\n",
    "\n",
    "radiuspix = int(np.round(radiuscut.to(u.deg).value / np.abs(cube.header['CDELT2']), 0))"
   ]
  },
  {
   "cell_type": "code",
   "execution_count": 5,
   "id": "a5fef44e-2f53-4d83-8698-717598a6e9fe",
   "metadata": {},
   "outputs": [],
   "source": [
    "if not os.path.exists(subcubes_basename.format('cube.fits')):\n",
    "    subcube = cube[:, centery-radiuspix:centery+radiuspix, centerx-radiuspix:centerx+radiuspix]\n",
    "    subcube.write(subcubes_basename.format('cube.fits'))\n",
    "else:\n",
    "    subcube = SpectralCube.read(subcubes_basename.format('cube.fits'))\n",
    "headersmall = subcube.header\n",
    "headersmall_mle = WCS(headersmall).celestial.to_header()\n",
    "headersmall_mle['NAXIS'] = 3\n",
    "headersmall_mle['BUNIT'] = 'km s-1'\n",
    "headersmall_mle['BMAJ'] = headersmall['BMAJ']\n",
    "headersmall_mle['BMIN'] = headersmall['BMIN']\n",
    "headersmall_mle['BPA'] = headersmall['BPA']\n",
    "headersmall_mle['RESTFREQ'] = headersmall['RESTFREQ']"
   ]
  },
  {
   "cell_type": "code",
   "execution_count": 6,
   "id": "370d119f-78f0-4a37-a3b5-1cd911ee37bb",
   "metadata": {},
   "outputs": [],
   "source": [
    "\n",
    "if not os.path.exists(subcubes_basename.format('mlex1.fits')):\n",
    "    submlex1 = mlex1[:, centery-radiuspix:centery+radiuspix, centerx-radiuspix:centerx+radiuspix]\n",
    "    headersmall_mle['NAXIS3'] = 6\n",
    "    fits.writeto(subcubes_basename.format('mlex1.fits'), submlex1, headersmall_mle)\n",
    "else:\n",
    "    submlex1, headersmall_mle = fits.getdata(subcubes_basename.format('mlex1.fits'), header=True)\n",
    "\n",
    "if not os.path.exists(subcubes_basename.format('mlex2.fits')):\n",
    "    submlex2 = mlex2[:, centery-radiuspix:centery+radiuspix, centerx-radiuspix:centerx+radiuspix]\n",
    "    headersmall_mle['NAXIS3'] = 12\n",
    "    fits.writeto(subcubes_basename.format('mlex2.fits'), submlex2, headersmall_mle)\n",
    "else:\n",
    "    submlex2, headersmall_mle = fits.getdata(subcubes_basename.format('mlex2.fits'), header=True) \n"
   ]
  },
  {
   "cell_type": "code",
   "execution_count": 7,
   "id": "6d3388d3-9717-4277-bda4-69082bb4e796",
   "metadata": {},
   "outputs": [],
   "source": [
    "if cut_clusters:\n",
    "    subclusters_master = []\n",
    "    for i, cluster in enumerate(cluster_n2hp_master):\n",
    "        if not os.path.exists(subcubes_basename.format('cluster{}.fits'.format(i))):\n",
    "            subcluster = cluster[:, centery-radiuspix:centery+radiuspix, centerx-radiuspix:centerx+radiuspix]\n",
    "            if np.isnan(subcluster).all(): continue\n",
    "            else:\n",
    "                subclusters_master.append(subcluster)\n",
    "                headersmall_mle['NAXIS3'] = 6\n",
    "                fits.writeto(subcubes_basename.format('cluster{}.fits'.format(i)), subcluster, headersmall_mle)\n",
    "        else:\n",
    "            subclusters_master.append(fits.getdata(subcubes_basename.format('cluster{}.fits'.format(i))))"
   ]
  },
  {
   "cell_type": "markdown",
   "id": "08ee33c2-3dd6-4d32-9e6b-d5999ad39a08",
   "metadata": {},
   "source": [
    "## Exploration plots"
   ]
  },
  {
   "cell_type": "code",
   "execution_count": 8,
   "id": "faa5de1a-7d04-42b5-af8c-6f4982c467a7",
   "metadata": {},
   "outputs": [
    {
     "name": "stdout",
     "output_type": "stream",
     "text": [
      "\n"
     ]
    }
   ],
   "source": [
    "# pv diagrams\n",
    "\n",
    "pa_angle = (19+90)*u.deg #degrees from north\n",
    "widtharcsec = (cube.header['bmaj'] * u.deg).to(u.arcsec)\n",
    "# centerxdeg, centerydeg = catalog_protostars.loc[catalogno, 'RAJ2000']*u.deg, catalog_protostars.loc[catalogno, 'DEJ2000']*u.deg\n",
    "racent, deccent = catalog_protostars.loc[catalogno, ['RAJ2000', 'DEJ2000']] * u.deg\n",
    "length = (5000 / 293 *u.arcsec).to(u.deg)\n",
    "gcent = SkyCoord(racent, deccent)\n",
    "pvfilename = subcubes_basename.format('pvdiag.fits')\n",
    "pathcent = PathFromCenter(center=gcent, length=length, angle=pa_angle, width=widtharcsec)\n",
    "slice1 = extract_pv_slice(cube, pathcent)\n",
    "slice1.header['CRPIX1'] = int(slice1.header['NAXIS1']/2) # by default the reference offset is the first pixel\n",
    "slice1.writeto(pvfilename, overwrite=True)"
   ]
  },
  {
   "cell_type": "code",
   "execution_count": 10,
   "id": "ad7a8d04-bcdf-435c-a310-71b941d5425c",
   "metadata": {
    "tags": []
   },
   "outputs": [],
   "source": [
    "pvarcsecfilename = subcubes_basename.format('pvdiag_arcsec.fits')\n",
    "pvheader = fits.getheader(pvfilename)\n",
    "pvdata = np.flip(slice1.data, axis=0) # so that the velocities grow instead of decreasing\n",
    "pvheader['CDELT1'] = pvheader['CDELT1']*3600 # change to arcsec\n",
    "pvheader['CUNIT1'] = 'arcsec'\n",
    "if np.sign(pvheader['CDELT2'])<0:\n",
    "    velinit = pvheader['CRVAL2'] + pvheader['CDELT2'] * (pvheader['NAXIS2'] - pvheader['CRPIX2']) # this is the velocity in the new first pixel\n",
    "    pvheader['CRPIX2'] = 1 # the first pixel is our new reference\n",
    "    pvheader['CRVAL2'] = velinit # the first pixel will have the lowest velocity\n",
    "    pvheader['CDELT2'] *= -1 \n",
    "hdu = fits.PrimaryHDU(data=pvdata, header=pvheader)\n",
    "hdu.writeto(pvarcsecfilename)"
   ]
  },
  {
   "cell_type": "code",
   "execution_count": 19,
   "id": "0c23e5b4-9418-4f86-acfa-e6ab38b6f9c5",
   "metadata": {
    "tags": []
   },
   "outputs": [
    {
     "data": {
      "application/vnd.jupyter.widget-view+json": {
       "model_id": "5235c5cba7124ba48a0a04b075df2a1e",
       "version_major": 2,
       "version_minor": 0
      },
      "image/png": "[encoded data removed]",
      "text/html": [
       "\n",
       "            <div style=\"display: inline-block;\">\n",
       "                <div class=\"jupyter-widgets widget-label\" style=\"text-align: center;\">\n",
       "                    Figure\n",
       "                </div>\n",
       "                <img src='data:image/png;base64,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' width=600.0/>\n",
       "            </div>\n",
       "        "
      ],
      "text/plain": [
       "Canvas(toolbar=Toolbar(toolitems=[('Home', 'Reset original view', 'home', 'home'), ('Back', 'Back to previous …"
      ]
     },
     "metadata": {},
     "output_type": "display_data"
    }
   ],
   "source": [
    "delta0 = pvheader['CRVAL1']\n",
    "delta_delta = pvheader['CDELT1']\n",
    "delta_pix0 = pvheader['CRPIX1']\n",
    "delta_npix = pvheader['NAXIS1']\n",
    "vel0 = pvheader['CRVAL2']\n",
    "delta_vel = pvheader['CDELT2']\n",
    "vel_pix0 = pvheader['CRPIX2']\n",
    "vel_npix = pvheader['NAXIS2']\n",
    "\n",
    "\n",
    "delta_array = np.array([delta0 + delta_delta*(i-delta_pix0) for i in range(delta_npix)]) * u.arcsec\n",
    "vel_array = np.array([vel0 + delta_vel * (i - vel_pix0) for i in range(vel_npix)]) * u.m/u.s\n",
    "vel_array = vel_array.to(u.km/u.s)\n",
    "distance_array = (delta_array).value * 293 * u.au \n",
    "# we create the meshgrid to plot\n",
    "offset, vel = np.meshgrid(distance_array, vel_array)\n",
    "\n",
    "fig = plt.figure(figsize=(6,6))\n",
    "ax = fig.add_subplot(111)\n",
    "pcolor = ax.pcolor(offset.value, vel.value, pvdata, shading='auto', cmap='Oranges')\n",
    "ax.axhline(vlsr, color='k', ls=':', alpha=0.5)\n",
    "ax.set_xlabel('Offset (au)')\n",
    "ax.set_ylabel(r'Velocity (km s$^{-1}$)')\n",
    "ax.set_ylim([5,9])\n",
    "ax.invert_xaxis()"
   ]
  },
  {
   "cell_type": "code",
   "execution_count": null,
   "id": "4a6cec1b-3e8b-48cd-b0d1-14a43c78c8bc",
   "metadata": {},
   "outputs": [],
   "source": []
  }
 ],
 "metadata": {
  "kernelspec": {
   "display_name": "Python 3 (ipykernel)",
   "language": "python",
   "name": "python3"
  },
  "language_info": {
   "codemirror_mode": {
    "name": "ipython",
    "version": 3
   },
   "file_extension": ".py",
   "mimetype": "text/x-python",
   "name": "python",
   "nbconvert_exporter": "python",
   "pygments_lexer": "ipython3",
   "version": "3.8.16"
  }
 },
 "nbformat": 4,
 "nbformat_minor": 5
}
