{
 "cells": [
  {
   "cell_type": "markdown",
   "id": "47e5a1c3-b80e-468a-917c-f3f748dbaa4a",
   "metadata": {},
   "source": [
    "# Test divergence in HC3N structure"
   ]
  },
  {
   "cell_type": "code",
   "execution_count": null,
   "id": "9a0cae42-f115-4feb-9707-154e7c0683a1",
   "metadata": {},
   "outputs": [],
   "source": []
  },
  {
   "cell_type": "code",
   "execution_count": null,
   "id": "b3d5e019-ed13-4700-9e4b-e7d7338f517a",
   "metadata": {},
   "outputs": [],
   "source": []
  }
 ],
 "metadata": {
  "kernelspec": {
   "display_name": "Python 3 (ipykernel)",
   "language": "python",
   "name": "python3"
  },
  "language_info": {
   "codemirror_mode": {
    "name": "ipython",
    "version": 3
   },
   "file_extension": ".py",
   "mimetype": "text/x-python",
   "name": "python",
   "nbconvert_exporter": "python",
   "pygments_lexer": "ipython3",
   "version": "3.8.16"
  }
 },
 "nbformat": 4,
 "nbformat_minor": 5
}
