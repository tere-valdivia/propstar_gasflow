{
 "cells": [
  {
   "cell_type": "markdown",
   "id": "ff619920-f835-43ea-9825-a5ae2150de6f",
   "metadata": {},
   "source": [
    "# Test: mass traced by the different molecules\n"
   ]
  },
  {
   "cell_type": "code",
   "execution_count": 1,
   "id": "85936c64-b335-43da-9749-2e1d1484ee91",
   "metadata": {},
   "outputs": [],
   "source": [
    "import numpy as np\n",
    "import pandas as pd\n",
    "import matplotlib.pyplot as plt\n",
    "from astropy.io import fits\n",
    "import astropy.units as u\n",
    "from astropy.constants import k_B, h, c\n",
    "from scipy import stats\n",
    "%matplotlib inline"
   ]
  },
  {
   "cell_type": "markdown",
   "id": "e84c9ad4-bb44-4d8b-bd9f-2d66ef6ea309",
   "metadata": {},
   "source": [
    "## HC$_3$N\n",
    "We first calculate the column density of HC$_3$N (10-9)"
   ]
  },
  {
   "cell_type": "code",
   "execution_count": 2,
   "id": "e0f5422f-2caf-4082-a5e8-2f224cbf98e1",
   "metadata": {},
   "outputs": [],
   "source": [
    "[hc3nred_ampl, hc3nred_vel, hc3nred_sigma, ehc3nred_ampl, ehc3nred_vel, ehc3nred_sigma], hc3nred_head = fits.getdata('../clustering/clusters_red_HC3N.fits', header=True)\n",
    "[hc3nblue_ampl, hc3nblue_vel, hc3nblue_sigma, ehc3nblue_ampl, ehc3nblue_vel, ehc3nblue_sigma], hc3nblue_head = fits.getdata('../clustering/clusters_blue_HC3N.fits', header=True)\n",
    "\n",
    "headerhc3nflat = fits.getheader('../data/NGC1333_HC3N_L24-merged_small_K_5.0_10.0_mom0.fits')"
   ]
  },
  {
   "cell_type": "code",
   "execution_count": 3,
   "id": "152f1103-f58f-4788-9db5-e252441f4d86",
   "metadata": {},
   "outputs": [],
   "source": [
    "hc3nred_mom0 = hc3nred_ampl * hc3nred_sigma * np.sqrt(2*np.pi) * u.K * u.km/u.s\n",
    "e_hc3nred_mom0 = hc3nred_mom0 * np.sqrt((ehc3nred_ampl/hc3nred_ampl)**2 + (ehc3nred_sigma/hc3nred_sigma)**2)\n",
    "hc3nblue_mom0 = hc3nblue_ampl * hc3nblue_sigma * np.sqrt(2*np.pi)* u.K * u.km/u.s\n",
    "e_hc3nblue_mom0 = hc3nblue_mom0 * np.sqrt((ehc3nblue_ampl/hc3nblue_ampl)**2 + (ehc3nblue_sigma/hc3nblue_sigma)**2)\n",
    "\n",
    "newhead_red = hc3nred_head.copy()\n",
    "newhead_red['NAXIS3'] = 2\n",
    "newhead_blue = hc3nblue_head.copy()\n",
    "newhead_blue['NAXIS3'] = 2"
   ]
  },
  {
   "cell_type": "code",
   "execution_count": 4,
   "id": "7fa65432-c88d-426f-8533-0dd72452a8e3",
   "metadata": {},
   "outputs": [],
   "source": [
    "fits.writeto('HC3N_10_9_mom0_red.fits', [hc3nred_mom0.value, e_hc3nred_mom0.value], newhead_red, overwrite=True)\n",
    "fits.writeto('HC3N_10_9_mom0_blue.fits', [hc3nblue_mom0.value, e_hc3nblue_mom0.value], newhead_blue, overwrite=True)"
   ]
  },
  {
   "cell_type": "code",
   "execution_count": 5,
   "id": "e698b3d0-5e84-4a0f-b95f-606470ecf1d5",
   "metadata": {},
   "outputs": [],
   "source": [
    "# here we calculate the N(HC3N) of the 10-9 level\n",
    "\n",
    "nu_HC3N109 = 90.970 * u.GHz\n",
    "J = 10\n",
    "S = J**2 / (J * (2*J + 1))\n",
    "Aul = 0.581e-4/u.s\n",
    "\n",
    "hc3nred_Ncol = (hc3nred_mom0 * 8 * np.pi * k_B * nu_HC3N109**2 / (h * c**3 * Aul)).to(1/u.cm**2)\n",
    "e_hc3nred_Ncol = (e_hc3nred_mom0 * 8 * np.pi * k_B * nu_HC3N109**2 / (h * c**3 * Aul)).to(1/u.cm**2)\n",
    "hc3nblue_Ncol = (hc3nblue_mom0 * 8 * np.pi * k_B * nu_HC3N109**2 / (h * c**3 * Aul)).to(1/u.cm**2)\n",
    "e_hc3nblue_Ncol = (e_hc3nblue_mom0 * 8 * np.pi * k_B * nu_HC3N109**2 / (h * c**3 * Aul)).to(1/u.cm**2)\n",
    "\n"
   ]
  },
  {
   "cell_type": "code",
   "execution_count": 6,
   "id": "29729d8d-85cf-478e-a0ec-a76de4e281ee",
   "metadata": {},
   "outputs": [],
   "source": [
    "fits.writeto('HC3N_10_9_ncol_red.fits', [hc3nred_Ncol.value, e_hc3nred_Ncol.value], newhead_red, overwrite=True)\n",
    "fits.writeto('HC3N_10_9_ncol_blue.fits', [hc3nblue_Ncol.value, e_hc3nblue_Ncol.value], newhead_blue, overwrite=True)"
   ]
  },
  {
   "cell_type": "code",
   "execution_count": 7,
   "id": "d0d65c66-fbf8-4cc0-bd60-11fa94bad2e6",
   "metadata": {},
   "outputs": [],
   "source": [
    "# now we transform to total column density of the molecule\n",
    "Tex = 12.4 * u.K\n",
    "Eup = 24.01482 * u.K #CDMS\n",
    "g_up = 2 * J +1\n",
    "B0 = 4549.0579 * u.MHz\n",
    "\n",
    "expfactor = (h*B0/(3*k_B*Tex)).decompose().value\n",
    "Qrot = k_B * Tex/ (h*B0) * np.exp(expfactor)\n",
    "pop_up_constant = (Qrot/g_up * np.exp(Eup.value/(Tex.value))).decompose().value\n"
   ]
  },
  {
   "cell_type": "code",
   "execution_count": 8,
   "id": "74d8555c-f242-46e6-9e0b-89c786e41375",
   "metadata": {},
   "outputs": [],
   "source": [
    "hc3nred_Ncol_total = pop_up_constant * hc3nred_Ncol\n",
    "e_hc3nred_Ncol_total = pop_up_constant * e_hc3nred_Ncol\n",
    "\n",
    "hc3nblue_Ncol_total = pop_up_constant * hc3nblue_Ncol\n",
    "e_hc3nblue_Ncol_total = pop_up_constant * e_hc3nblue_Ncol"
   ]
  },
  {
   "cell_type": "code",
   "execution_count": 9,
   "id": "7413f0e8-2eb0-4da6-801a-d4b8e6778b54",
   "metadata": {},
   "outputs": [],
   "source": [
    "fits.writeto('HC3N_Ncol_red.fits', [hc3nred_Ncol_total.value, e_hc3nred_Ncol_total.value], newhead_red, overwrite=True)\n",
    "fits.writeto('HC3N_Ncol_blue.fits', [hc3nblue_Ncol_total.value, e_hc3nblue_Ncol_total.value], newhead_blue, overwrite=True)"
   ]
  },
  {
   "cell_type": "code",
   "execution_count": 10,
   "id": "1e97b7f0-9479-4fa1-8448-39e070ab75c5",
   "metadata": {},
   "outputs": [],
   "source": [
    "# now we check how much H2 gas is tracing\n",
    "abundance_HC3N_TMC1 = 2.8e-9\n",
    "#abundance_Per2 = ??\n",
    "\n",
    "NH2_red = hc3nred_Ncol_total / abundance_HC3N_TMC1\n",
    "e_NH2_red = e_hc3nred_Ncol_total / abundance_HC3N_TMC1\n",
    "NH2_blue = hc3nblue_Ncol_total / abundance_HC3N_TMC1\n",
    "e_NH2_blue = e_hc3nblue_Ncol_total / abundance_HC3N_TMC1"
   ]
  },
  {
   "cell_type": "code",
   "execution_count": 11,
   "id": "22f1016c-ec99-4836-9324-cb7d9326218d",
   "metadata": {},
   "outputs": [],
   "source": [
    "fits.writeto('HC3N_NH2_red.fits', [NH2_red.value, e_NH2_red.value], newhead_red, overwrite=True)\n",
    "fits.writeto('HC3N_NH2_blue.fits', [NH2_blue.value, e_NH2_blue.value], newhead_blue, overwrite=True)"
   ]
  },
  {
   "cell_type": "markdown",
   "id": "6031bc03-be39-47f8-9164-8a53c66bbf1e",
   "metadata": {},
   "source": [
    "With the total column density, we can estimate the mass"
   ]
  },
  {
   "cell_type": "code",
   "execution_count": 12,
   "id": "4df9af88-d0cd-4bd1-83d5-80b1bf9d5bf1",
   "metadata": {},
   "outputs": [],
   "source": [
    "from astropy.constants import u as amu\n",
    "mu_mass = 2.8\n",
    "distance = 293 #pc\n",
    "A_pixel = (hc3nred_head['CDELT2'] * 3600 * distance * u.au)**2\n",
    "\n",
    "M_red = np.nansum(NH2_red * mu_mass * amu * A_pixel).to(u.Msun)\n",
    "M_blue = np.nansum(NH2_blue * mu_mass * amu * A_pixel).to(u.Msun)"
   ]
  },
  {
   "cell_type": "code",
   "execution_count": 13,
   "id": "3a75ef61-00c0-4f14-a96f-9cde55f16d9b",
   "metadata": {},
   "outputs": [
    {
     "name": "stdout",
     "output_type": "stream",
     "text": [
      "0.8936087441969237 solMass 0.1096186560847292 solMass\n"
     ]
    }
   ],
   "source": [
    "print(M_red, M_blue)"
   ]
  },
  {
   "cell_type": "markdown",
   "id": "467d32cd-d492-4f26-9e0a-42e212351d97",
   "metadata": {},
   "source": [
    "# N$_2$H$^+$\n",
    "\n",
    "For N$_2$H$^+$ the calculation is slightly different. We integrate the hyperfine component we used for analysis and then apply the statistic weight of the component to find the total flux"
   ]
  },
  {
   "cell_type": "code",
   "execution_count": 14,
   "id": "a7f63c8e-64d5-4598-96ec-ec4a3de5a86d",
   "metadata": {},
   "outputs": [],
   "source": [
    "[n2hpred_ampl, n2hpred_vel, n2hpred_sigma, en2hpred_ampl, en2hpred_vel, en2hpred_sigma], n2hpred_head = fits.getdata('../clustering/clusters_red_N2Hp.fits', header=True)\n",
    "[n2hpblue_ampl, n2hpblue_vel, n2hpblue_sigma, en2hpblue_ampl, en2hpblue_vel, en2hpblue_sigma], n2hpblue_head = fits.getdata('../clustering/clusters_blue_N2Hp.fits', header=True)\n"
   ]
  },
  {
   "cell_type": "code",
   "execution_count": 15,
   "id": "a8220a81-bcb1-4d69-84e0-de4eb3ba7abb",
   "metadata": {},
   "outputs": [],
   "source": [
    "def Rayleigh_Jeans_J(T, nu):\n",
    "    expo = (h * nu/(k_B * T)).decompose().value\n",
    "    return (h * nu / (k_B)).to(u.K) / (np.exp(expo)-1)\n",
    "\n",
    "# we wll use equation n. 96 from Mangum and Shirley 2015"
   ]
  },
  {
   "cell_type": "code",
   "execution_count": 16,
   "id": "d626cea2-6c9a-416e-9b6a-c6051518fbd9",
   "metadata": {},
   "outputs": [],
   "source": [
    "n2hpred_mom0 = n2hpred_ampl * n2hpred_sigma * np.sqrt(2*np.pi) * u.K * u.km/u.s\n",
    "e_n2hpred_mom0 = n2hpred_mom0 * np.sqrt((en2hpred_ampl/n2hpred_ampl)**2 + (en2hpred_sigma/n2hpred_sigma)**2)\n",
    "\n",
    "n2hpblue_mom0 = n2hpblue_ampl * n2hpblue_sigma * np.sqrt(2*np.pi) * u.K * u.km/u.s\n",
    "e_n2hpblue_mom0 = n2hpblue_mom0 * np.sqrt((en2hpblue_ampl/n2hpblue_ampl)**2 + (en2hpblue_sigma/n2hpblue_sigma)**2)\n"
   ]
  },
  {
   "cell_type": "code",
   "execution_count": 17,
   "id": "bbd68324-c702-488a-80e8-08825cf289cc",
   "metadata": {},
   "outputs": [],
   "source": [
    "newhead_red_n2hp = n2hpred_head.copy()\n",
    "newhead_red_n2hp['naxis3'] = 2\n",
    "newhead_blue_n2hp = n2hpblue_head.copy()\n",
    "newhead_blue_n2hp['naxis3'] = 2"
   ]
  },
  {
   "cell_type": "code",
   "execution_count": 18,
   "id": "6eddb787-6177-4397-8427-444d4514a993",
   "metadata": {},
   "outputs": [],
   "source": [
    "fits.writeto('N2Hp_10_mom0_red.fits', [n2hpred_mom0.value, e_n2hpred_mom0.value], newhead_red_n2hp, overwrite=True)\n",
    "fits.writeto('N2Hp_10_mom0_blue.fits', [n2hpblue_mom0.value, e_n2hpblue_mom0.value], newhead_blue_n2hp, overwrite=True)"
   ]
  },
  {
   "cell_type": "code",
   "execution_count": 19,
   "id": "5cc9d668-61a4-434a-9e39-75071e47fbe6",
   "metadata": {},
   "outputs": [],
   "source": [
    "R_i = 1/9.\n",
    "E_up_N2Hp = 4.47165 * u.K\n",
    "nu_N2Hp10_i = 93.176265 * u.GHz\n",
    "T_ex_N2Hp = 7 *u.K # from our 1 component fit to all hypercomponents\n",
    "Aul_N2Hp = 10 ** (-5.39891) /u.s # (-4.67019) /u.s # from CDMS, its -5.39891 in SLAIM????\n",
    "gup = 3\n",
    "B0_N2Hp = 46586.867 * u.MHz\n",
    "lam_n2hp = (c / nu_N2Hp10_i).to(u.m)\n",
    "J_Tex = Rayleigh_Jeans_J(T_ex_N2Hp, nu_N2Hp10_i) - Rayleigh_Jeans_J(2.73*u.K, nu_N2Hp10_i)\n",
    "hnukTmin = -(h*nu_N2Hp10_i/(k_B*T_ex_N2Hp)).decompose().value\n",
    "Qrot = (k_B * T_ex_N2Hp / (h * B0_N2Hp)).decompose().value + 1/3\n",
    "EupkT = (E_up_N2Hp/T_ex_N2Hp).decompose().value\n",
    "\n",
    "# n2hpred_Ncol10 =(n2hpred_mom0 * 8 * np.pi * k_B * nu_N2Hp10_i**2 / (h * c**3 * Aul_N2Hp)).to(1/u.cm**2)\n",
    "# e_n2hpred_Ncol = n2hpred_Ncol * e_n2hpred_mom0/n2hpred_mom0\n",
    "# n2hpblue_Ncol10 =(n2hpblue_mom0 * 8 * np.pi * k_B * nu_N2Hp10_i**2 / (h * c**3 * Aul_N2Hp)).to(1/u.cm**2)\n",
    "# e_n2hpblue_Ncol = n2hpblue_Ncol * e_n2hpblue_mom0/n2hpblue_mom0\n",
    "\n",
    "# Formula from Caselli et al 2002b\n",
    "n2hpred_Ncol = (8 * np.pi * n2hpred_mom0 / (lam_n2hp**3 * Aul * gup * R_i) * 1/J_Tex * Qrot * np.exp(EupkT) / (1 - np.exp(hnukTmin))).to(u.cm**-2)\n",
    "e_n2hpred_Ncol = n2hpred_Ncol * e_n2hpred_mom0/n2hpred_mom0\n",
    "n2hpblue_Ncol = (8 * np.pi * n2hpblue_mom0 / (lam_n2hp**3 * Aul * gup * R_i) * 1/J_Tex * Qrot * np.exp(EupkT) / (1 - np.exp(hnukTmin))).to(u.cm**-2)\n",
    "e_n2hpblue_Ncol = n2hpblue_Ncol * e_n2hpblue_mom0/n2hpblue_mom0\n",
    "# Formula from Mangum and Shirley 2015, eq. 96 here because in comparison to 7 K, 2.73 K is non-negligible background\n",
    "# hnukT = (h*nu_N2Hp10_i/(k_B*T_ex_N2Hp)).decompose().value\n",
    "# \n",
    "# \n",
    "\n",
    "# n2hpred_Ncol = 6.25e15 / (nu_N2Hp10_i.value * R_i) * np.exp(EupkT) / (np.exp(hnukT) - 1) * n2hpred_mom0.value / J_Tex / (u.cm**2)\n",
    "# e_n2hpred_Ncol = n2hpred_Ncol * e_n2hpred_mom0/n2hpred_mom0\n",
    "# n2hpblue_Ncol = 6.25e15 / (nu_N2Hp10_i.value * R_i) * np.exp(EupkT) / (np.exp(hnukT) - 1) * n2hpblue_mom0.value / J_Tex / (u.cm**2)\n",
    "# e_n2hpblue_Ncol = n2hpblue_Ncol * e_n2hpblue_mom0/n2hpblue_mom0"
   ]
  },
  {
   "cell_type": "code",
   "execution_count": 20,
   "id": "a7699469-b09a-4780-ac57-767c4b4e4b11",
   "metadata": {},
   "outputs": [],
   "source": [
    "fits.writeto('N2Hp_Ncol_red.fits', [n2hpred_Ncol.value, e_n2hpred_Ncol.value], newhead_red_n2hp, overwrite=True)\n",
    "fits.writeto('N2Hp_Ncol_blue.fits', [n2hpblue_Ncol.value, e_n2hpblue_Ncol.value], newhead_blue_n2hp, overwrite=True)"
   ]
  },
  {
   "cell_type": "markdown",
   "id": "79b1841e-ff2f-444d-a243-a0416e5024c9",
   "metadata": {},
   "source": [
    "We use an abundance X of about $2.5\\times 10^{-10}$ from Hacar et al (2017) in NGC1333"
   ]
  },
  {
   "cell_type": "code",
   "execution_count": 21,
   "id": "ca96ddf0-3329-4f84-ad0b-a83b50bb4b05",
   "metadata": {},
   "outputs": [],
   "source": [
    "# now we check how much H2 gas is tracing\n",
    "abundance_N2Hp_NGC = 2.5e-10\n",
    "\n",
    "NH2n2hp_red = n2hpred_Ncol / abundance_N2Hp_NGC\n",
    "e_NH2n2hp_red = e_n2hpred_Ncol / abundance_N2Hp_NGC\n",
    "NH2n2hp_blue = n2hpblue_Ncol / abundance_N2Hp_NGC\n",
    "e_NH2n2hp_blue = e_n2hpblue_Ncol / abundance_N2Hp_NGC"
   ]
  },
  {
   "cell_type": "code",
   "execution_count": 22,
   "id": "35f1c13d-de03-4b95-a8b3-d90740384e56",
   "metadata": {},
   "outputs": [],
   "source": [
    "fits.writeto('N2Hp_NH2_red.fits', [NH2n2hp_red.value, e_NH2n2hp_red.value], newhead_red_n2hp, overwrite=True)\n",
    "fits.writeto('N2Hp_NH2_blue.fits', [NH2n2hp_blue.value, e_NH2n2hp_blue.value], newhead_blue_n2hp, overwrite=True)"
   ]
  },
  {
   "cell_type": "markdown",
   "id": "85520197-575d-470d-a3bb-f8827134ebea",
   "metadata": {},
   "source": [
    "We now estimate the total mass within the filaments"
   ]
  },
  {
   "cell_type": "code",
   "execution_count": 23,
   "id": "18beae8c-3c2e-4012-99bc-cf6eb627b237",
   "metadata": {},
   "outputs": [],
   "source": [
    "A_pixel = (n2hpred_head['CDELT2'] * 3600 * distance * u.au)**2\n",
    "\n",
    "M_n2hpred = np.nansum(NH2n2hp_red * mu_mass * amu * A_pixel).to(u.Msun)\n",
    "M_n2hpblue = np.nansum(NH2n2hp_blue * mu_mass * amu * A_pixel).to(u.Msun)"
   ]
  },
  {
   "cell_type": "code",
   "execution_count": 27,
   "id": "bb01cc9c-0bcf-4350-b139-d4349828f2f5",
   "metadata": {},
   "outputs": [
    {
     "name": "stdout",
     "output_type": "stream",
     "text": [
      "105.02167026144424 solMass 20.16635294463893 solMass\n"
     ]
    }
   ],
   "source": [
    "print(M_n2hpred, M_n2hpblue)"
   ]
  },
  {
   "cell_type": "code",
   "execution_count": 25,
   "id": "5714e5e2-adad-418d-8e43-200cbb6b025b",
   "metadata": {},
   "outputs": [
    {
     "data": {
      "text/latex": [
       "$71310.478 \\; \\mathrm{AU^{2}}$"
      ],
      "text/plain": [
       "<Quantity 71310.47836642 AU2>"
      ]
     },
     "execution_count": 25,
     "metadata": {},
     "output_type": "execute_result"
    }
   ],
   "source": [
    "(n2hpred_head['CDELT2'] * 3600* distance * u.au )**2"
   ]
  },
  {
   "cell_type": "code",
   "execution_count": null,
   "id": "ea6018c8-8114-434d-84f4-6f901bbea1de",
   "metadata": {},
   "outputs": [],
   "source": []
  }
 ],
 "metadata": {
  "kernelspec": {
   "display_name": "Python 3 (ipykernel)",
   "language": "python",
   "name": "python3"
  },
  "language_info": {
   "codemirror_mode": {
    "name": "ipython",
    "version": 3
   },
   "file_extension": ".py",
   "mimetype": "text/x-python",
   "name": "python",
   "nbconvert_exporter": "python",
   "pygments_lexer": "ipython3",
   "version": "3.8.16"
  }
 },
 "nbformat": 4,
 "nbformat_minor": 5
}
