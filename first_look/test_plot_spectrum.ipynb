{
 "cells": [
  {
   "cell_type": "markdown",
   "id": "52ea1606-a209-4b66-908c-9c0267e3bc74",
   "metadata": {},
   "source": [
    "# Look at the fits with individual spectra"
   ]
  },
  {
   "cell_type": "code",
   "execution_count": 1,
   "id": "cba6043c-cdb5-49a7-94f1-3f0e795fc43f",
   "metadata": {},
   "outputs": [],
   "source": [
    "import numpy as np\n",
    "import pyspeckit\n",
    "import matplotlib.pyplot as plt\n",
    "from astropy.io import fits\n",
    "from spectral_cube import SpectralCube\n",
    "import os\n",
    "import sys\n",
    "from astropy.io import fits\n",
    "from astropy.wcs import WCS\n",
    "sys.path.append('../')\n",
    "from setup import *\n",
    "from AICfunc import *\n",
    "import astropy.units as u\n",
    "from astropy.modeling.models import Gaussian1D"
   ]
  },
  {
   "cell_type": "code",
   "execution_count": 2,
   "id": "aa5312ba-72d4-4825-bed2-4cd9b1604513",
   "metadata": {},
   "outputs": [],
   "source": [
    "fitfile1 = fitfilebase.format(1) + '_2_filtered.fits'\n",
    "fitfile2 = fitfilebase.format(2) + '_2_filtered.fits'\n",
    "specfile = hc3n_10_9_cube_s+ '_K.fits'\n",
    "ncomponentsfile = fitdir + 'diagnosticAIC/ncomponents_AIC.fits'\n",
    "aicmapfile1 = fitdir + 'diagnosticAIC/AIC_values_models_1G.fits'\n",
    "aicmapfile2 = fitdir + 'diagnosticAIC/AIC_values_models_2G.fits'\n",
    "xstart = 232\n",
    "ystart = 249"
   ]
  },
  {
   "cell_type": "code",
   "execution_count": 23,
   "id": "bb769a5d-0e24-46cd-b0f5-cb20a805e51c",
   "metadata": {},
   "outputs": [
    {
     "ename": "SyntaxError",
     "evalue": "EOL while scanning string literal (4040405565.py, line 6)",
     "output_type": "error",
     "traceback": [
      "\u001b[0;36m  Cell \u001b[0;32mIn [23], line 6\u001b[0;36m\u001b[0m\n\u001b[0;31m    maskmap = fits.getdata(maskfile+'.fits)\u001b[0m\n\u001b[0m                                           ^\u001b[0m\n\u001b[0;31mSyntaxError\u001b[0m\u001b[0;31m:\u001b[0m EOL while scanning string literal\n"
     ]
    }
   ],
   "source": [
    "cube = SpectralCube.read(specfile)\n",
    "spectrum = cube.unmasked_data[:, ystart, xstart]\n",
    "vel = cube.spectral_axis\n",
    "\n",
    "rmsmap = fits.getdata(rmsfile)\n",
    "ncomponentsmap = fits.getdata(ncomponentsfile)\n",
    "aicmap1 = fits.getdata(aicmapfile1)\n",
    "aicmap2 = fits.getdata(aicmapfile2)"
   ]
  },
  {
   "cell_type": "code",
   "execution_count": 4,
   "id": "11cfa990-2987-4e3a-a8e0-dbdc1a2637bd",
   "metadata": {},
   "outputs": [
    {
     "name": "stdout",
     "output_type": "stream",
     "text": [
      "1.0\n",
      "404.41937255859375 465.8998718261719\n"
     ]
    }
   ],
   "source": [
    "params1G = fits.getdata(fitfile1)[:3]\n",
    "params2G = fits.getdata(fitfile2)[:6]\n",
    "rms = rmsmap[ystart, xstart]\n",
    "ncomp = ncomponentsmap[ystart, xstart]\n",
    "print(ncomp)\n",
    "print(aicmap1[ystart, xstart], aicmap2[ystart, xstart]) #404.41937255859375 465.8998718261719"
   ]
  },
  {
   "cell_type": "code",
   "execution_count": 5,
   "id": "36fef1f7-bc04-4b70-a9fe-e696c925f5f1",
   "metadata": {},
   "outputs": [],
   "source": [
    "params1Gspec = params1G[:, ystart, xstart]\n",
    "params2Gspec = params2G[:, ystart, xstart]"
   ]
  },
  {
   "cell_type": "code",
   "execution_count": 6,
   "id": "853fb0f3-d234-4e26-8296-d6e5cccaf375",
   "metadata": {},
   "outputs": [],
   "source": [
    "g1spec = Gaussian1D(amplitude=params1Gspec[0]*u.K, mean=params1Gspec[1]*u.km/u.s, stddev=params1Gspec[2]*u.km/u.s)\n",
    "g2spec = Gaussian1D(amplitude=params2Gspec[0]*u.K, mean=params2Gspec[1]*u.km/u.s, stddev=params2Gspec[2]*u.km/u.s) + \\\n",
    "Gaussian1D(amplitude=params2Gspec[3]*u.K, mean=params2Gspec[4]*u.km/u.s, stddev=params2Gspec[5]*u.km/u.s)\n"
   ]
  },
  {
   "cell_type": "code",
   "execution_count": 7,
   "id": "65fe5929-3c2c-4e53-ade9-fba19c1246c1",
   "metadata": {},
   "outputs": [
    {
     "data": {
      "text/plain": [
       "[<matplotlib.lines.Line2D at 0x7f2f7225d5e0>]"
      ]
     },
     "execution_count": 7,
     "metadata": {},
     "output_type": "execute_result"
    },
    {
     "data": {
      "image/png": "[encoded data removed]",
      "text/plain": [
       "<Figure size 640x480 with 1 Axes>"
      ]
     },
     "metadata": {},
     "output_type": "display_data"
    }
   ],
   "source": [
    "plt.clf()\n",
    "plt.plot(vel, spectrum, drawstyle='steps-mid')\n",
    "plt.plot(vel, g2spec(vel))\n",
    "plt.plot(vel, g1spec(vel))"
   ]
  },
  {
   "cell_type": "code",
   "execution_count": 8,
   "id": "5abe0527-acdf-4f9b-8836-ae3421cefb04",
   "metadata": {},
   "outputs": [],
   "source": [
    "\n",
    "aic1G, chi1G = AIC(spectrum.value, g1spec(vel).value, rms, 3)\n",
    "aic2G, chi2G = AIC(spectrum.value, g2spec(vel).value, rms, 6)\n"
   ]
  },
  {
   "cell_type": "code",
   "execution_count": 9,
   "id": "0c41195f-4f10-476f-88aa-505da1c8edbd",
   "metadata": {},
   "outputs": [
    {
     "name": "stdout",
     "output_type": "stream",
     "text": [
      "261.9849266376603 187.45963613647513\n"
     ]
    }
   ],
   "source": [
    "#open interactive panel\n",
    "\n",
    "print(aic1G, aic2G)\n",
    "\n"
   ]
  },
  {
   "cell_type": "code",
   "execution_count": 16,
   "id": "6354f1a5-3ee2-4dc0-8e32-d96d6aa1ece2",
   "metadata": {},
   "outputs": [],
   "source": [
    "spc = pyspeckit.Cube(cube=cube)"
   ]
  },
  {
   "cell_type": "code",
   "execution_count": 36,
   "id": "b1969bc6-2a18-49c1-8fba-79f5f306cc3f",
   "metadata": {},
   "outputs": [
    {
     "name": "stderr",
     "output_type": "stream",
     "text": [
      "NaN or infinite values encountered in parameter cube.\n"
     ]
    },
    {
     "name": "stdout",
     "output_type": "stream",
     "text": [
      "INFO: Left region selection unchanged.  xminpix, xmaxpix: 0,195 [pyspeckit.spectrum.interactive]\n",
      "INFO: Left region selection unchanged.  xminpix, xmaxpix: 0,195 [pyspeckit.spectrum.interactive]\n"
     ]
    }
   ],
   "source": [
    "spc.load_model_fit(fitfile1, npars=3, npeaks=1, fittype='gaussian')\n",
    "fittedmodels1 = spc.get_modelcube()\n",
    "fittedmodel1 = fittedmodels1[:, ystart, xstart]\n"
   ]
  },
  {
   "cell_type": "code",
   "execution_count": 42,
   "id": "05b9969c-ac6d-4cf9-9489-1ee99c74e610",
   "metadata": {},
   "outputs": [],
   "source": [
    "aic1gspc, chi1gspc = AIC(spectrum.value, fittedmodel1, rms, 3)"
   ]
  },
  {
   "cell_type": "code",
   "execution_count": 43,
   "id": "b5182d1e-49c1-490e-b5b4-55aa812439e3",
   "metadata": {},
   "outputs": [
    {
     "data": {
      "text/plain": [
       "261.9849266376603"
      ]
     },
     "execution_count": 43,
     "metadata": {},
     "output_type": "execute_result"
    }
   ],
   "source": [
    "aic1gspc"
   ]
  },
  {
   "cell_type": "code",
   "execution_count": 33,
   "id": "4c50e513-ff46-4587-a9fd-074abf166948",
   "metadata": {},
   "outputs": [
    {
     "data": {
      "text/plain": [
       "True"
      ]
     },
     "execution_count": 33,
     "metadata": {},
     "output_type": "execute_result"
    }
   ],
   "source": [
    "ystart in ylist\n"
   ]
  },
  {
   "cell_type": "code",
   "execution_count": null,
   "id": "1340b56c-5338-4679-b840-d4948d19967c",
   "metadata": {},
   "outputs": [],
   "source": []
  }
 ],
 "metadata": {
  "kernelspec": {
   "display_name": "Python 3 (ipykernel)",
   "language": "python",
   "name": "python3"
  },
  "language_info": {
   "codemirror_mode": {
    "name": "ipython",
    "version": 3
   },
   "file_extension": ".py",
   "mimetype": "text/x-python",
   "name": "python",
   "nbconvert_exporter": "python",
   "pygments_lexer": "ipython3",
   "version": "3.8.16"
  }
 },
 "nbformat": 4,
 "nbformat_minor": 5
}
